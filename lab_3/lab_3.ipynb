{
  "nbformat": 4,
  "nbformat_minor": 0,
  "metadata": {
    "colab": {
      "name": "lab_3.ipynb",
      "provenance": [],
      "collapsed_sections": [],
      "machine_shape": "hm",
      "authorship_tag": "ABX9TyPknSrGEfMh6ZiYw3F31X5j",
      "include_colab_link": true
    },
    "kernelspec": {
      "name": "python3",
      "display_name": "Python 3"
    },
    "language_info": {
      "name": "python"
    },
    "accelerator": "GPU",
    "widgets": {
      "application/vnd.jupyter.widget-state+json": {
        "962c2a53e12443daa089075f98bf7dd5": {
          "model_module": "@jupyter-widgets/controls",
          "model_name": "HBoxModel",
          "model_module_version": "1.5.0",
          "state": {
            "_dom_classes": [],
            "_model_module": "@jupyter-widgets/controls",
            "_model_module_version": "1.5.0",
            "_model_name": "HBoxModel",
            "_view_count": null,
            "_view_module": "@jupyter-widgets/controls",
            "_view_module_version": "1.5.0",
            "_view_name": "HBoxView",
            "box_style": "",
            "children": [
              "IPY_MODEL_1ac6c8254d20408a94881ae3904aeaf2",
              "IPY_MODEL_3f6b1949fc0947ef93a1604ac67e091a",
              "IPY_MODEL_c0d95aeb67eb4ccb8c490f1bc1230037"
            ],
            "layout": "IPY_MODEL_669087e15cdf48b6af31edc20d40704f"
          }
        },
        "1ac6c8254d20408a94881ae3904aeaf2": {
          "model_module": "@jupyter-widgets/controls",
          "model_name": "HTMLModel",
          "model_module_version": "1.5.0",
          "state": {
            "_dom_classes": [],
            "_model_module": "@jupyter-widgets/controls",
            "_model_module_version": "1.5.0",
            "_model_name": "HTMLModel",
            "_view_count": null,
            "_view_module": "@jupyter-widgets/controls",
            "_view_module_version": "1.5.0",
            "_view_name": "HTMLView",
            "description": "",
            "description_tooltip": null,
            "layout": "IPY_MODEL_8410186fe0444323aafafa94ad6520db",
            "placeholder": "​",
            "style": "IPY_MODEL_2d2189e703094933a00073a557d18341",
            "value": ""
          }
        },
        "3f6b1949fc0947ef93a1604ac67e091a": {
          "model_module": "@jupyter-widgets/controls",
          "model_name": "FloatProgressModel",
          "model_module_version": "1.5.0",
          "state": {
            "_dom_classes": [],
            "_model_module": "@jupyter-widgets/controls",
            "_model_module_version": "1.5.0",
            "_model_name": "FloatProgressModel",
            "_view_count": null,
            "_view_module": "@jupyter-widgets/controls",
            "_view_module_version": "1.5.0",
            "_view_name": "ProgressView",
            "bar_style": "success",
            "description": "",
            "description_tooltip": null,
            "layout": "IPY_MODEL_2f6ea5446c2b4afeb029f267cb974be0",
            "max": 26421880,
            "min": 0,
            "orientation": "horizontal",
            "style": "IPY_MODEL_dbf646237731417ab6d15c636444cb47",
            "value": 26421880
          }
        },
        "c0d95aeb67eb4ccb8c490f1bc1230037": {
          "model_module": "@jupyter-widgets/controls",
          "model_name": "HTMLModel",
          "model_module_version": "1.5.0",
          "state": {
            "_dom_classes": [],
            "_model_module": "@jupyter-widgets/controls",
            "_model_module_version": "1.5.0",
            "_model_name": "HTMLModel",
            "_view_count": null,
            "_view_module": "@jupyter-widgets/controls",
            "_view_module_version": "1.5.0",
            "_view_name": "HTMLView",
            "description": "",
            "description_tooltip": null,
            "layout": "IPY_MODEL_fc814571c9d7426da662753a5fdbeab5",
            "placeholder": "​",
            "style": "IPY_MODEL_ba5d65061c094440a9610d00d6966cf8",
            "value": " 26422272/? [00:04&lt;00:00, 10945208.44it/s]"
          }
        },
        "669087e15cdf48b6af31edc20d40704f": {
          "model_module": "@jupyter-widgets/base",
          "model_name": "LayoutModel",
          "model_module_version": "1.2.0",
          "state": {
            "_model_module": "@jupyter-widgets/base",
            "_model_module_version": "1.2.0",
            "_model_name": "LayoutModel",
            "_view_count": null,
            "_view_module": "@jupyter-widgets/base",
            "_view_module_version": "1.2.0",
            "_view_name": "LayoutView",
            "align_content": null,
            "align_items": null,
            "align_self": null,
            "border": null,
            "bottom": null,
            "display": null,
            "flex": null,
            "flex_flow": null,
            "grid_area": null,
            "grid_auto_columns": null,
            "grid_auto_flow": null,
            "grid_auto_rows": null,
            "grid_column": null,
            "grid_gap": null,
            "grid_row": null,
            "grid_template_areas": null,
            "grid_template_columns": null,
            "grid_template_rows": null,
            "height": null,
            "justify_content": null,
            "justify_items": null,
            "left": null,
            "margin": null,
            "max_height": null,
            "max_width": null,
            "min_height": null,
            "min_width": null,
            "object_fit": null,
            "object_position": null,
            "order": null,
            "overflow": null,
            "overflow_x": null,
            "overflow_y": null,
            "padding": null,
            "right": null,
            "top": null,
            "visibility": null,
            "width": null
          }
        },
        "8410186fe0444323aafafa94ad6520db": {
          "model_module": "@jupyter-widgets/base",
          "model_name": "LayoutModel",
          "model_module_version": "1.2.0",
          "state": {
            "_model_module": "@jupyter-widgets/base",
            "_model_module_version": "1.2.0",
            "_model_name": "LayoutModel",
            "_view_count": null,
            "_view_module": "@jupyter-widgets/base",
            "_view_module_version": "1.2.0",
            "_view_name": "LayoutView",
            "align_content": null,
            "align_items": null,
            "align_self": null,
            "border": null,
            "bottom": null,
            "display": null,
            "flex": null,
            "flex_flow": null,
            "grid_area": null,
            "grid_auto_columns": null,
            "grid_auto_flow": null,
            "grid_auto_rows": null,
            "grid_column": null,
            "grid_gap": null,
            "grid_row": null,
            "grid_template_areas": null,
            "grid_template_columns": null,
            "grid_template_rows": null,
            "height": null,
            "justify_content": null,
            "justify_items": null,
            "left": null,
            "margin": null,
            "max_height": null,
            "max_width": null,
            "min_height": null,
            "min_width": null,
            "object_fit": null,
            "object_position": null,
            "order": null,
            "overflow": null,
            "overflow_x": null,
            "overflow_y": null,
            "padding": null,
            "right": null,
            "top": null,
            "visibility": null,
            "width": null
          }
        },
        "2d2189e703094933a00073a557d18341": {
          "model_module": "@jupyter-widgets/controls",
          "model_name": "DescriptionStyleModel",
          "model_module_version": "1.5.0",
          "state": {
            "_model_module": "@jupyter-widgets/controls",
            "_model_module_version": "1.5.0",
            "_model_name": "DescriptionStyleModel",
            "_view_count": null,
            "_view_module": "@jupyter-widgets/base",
            "_view_module_version": "1.2.0",
            "_view_name": "StyleView",
            "description_width": ""
          }
        },
        "2f6ea5446c2b4afeb029f267cb974be0": {
          "model_module": "@jupyter-widgets/base",
          "model_name": "LayoutModel",
          "model_module_version": "1.2.0",
          "state": {
            "_model_module": "@jupyter-widgets/base",
            "_model_module_version": "1.2.0",
            "_model_name": "LayoutModel",
            "_view_count": null,
            "_view_module": "@jupyter-widgets/base",
            "_view_module_version": "1.2.0",
            "_view_name": "LayoutView",
            "align_content": null,
            "align_items": null,
            "align_self": null,
            "border": null,
            "bottom": null,
            "display": null,
            "flex": null,
            "flex_flow": null,
            "grid_area": null,
            "grid_auto_columns": null,
            "grid_auto_flow": null,
            "grid_auto_rows": null,
            "grid_column": null,
            "grid_gap": null,
            "grid_row": null,
            "grid_template_areas": null,
            "grid_template_columns": null,
            "grid_template_rows": null,
            "height": null,
            "justify_content": null,
            "justify_items": null,
            "left": null,
            "margin": null,
            "max_height": null,
            "max_width": null,
            "min_height": null,
            "min_width": null,
            "object_fit": null,
            "object_position": null,
            "order": null,
            "overflow": null,
            "overflow_x": null,
            "overflow_y": null,
            "padding": null,
            "right": null,
            "top": null,
            "visibility": null,
            "width": null
          }
        },
        "dbf646237731417ab6d15c636444cb47": {
          "model_module": "@jupyter-widgets/controls",
          "model_name": "ProgressStyleModel",
          "model_module_version": "1.5.0",
          "state": {
            "_model_module": "@jupyter-widgets/controls",
            "_model_module_version": "1.5.0",
            "_model_name": "ProgressStyleModel",
            "_view_count": null,
            "_view_module": "@jupyter-widgets/base",
            "_view_module_version": "1.2.0",
            "_view_name": "StyleView",
            "bar_color": null,
            "description_width": ""
          }
        },
        "fc814571c9d7426da662753a5fdbeab5": {
          "model_module": "@jupyter-widgets/base",
          "model_name": "LayoutModel",
          "model_module_version": "1.2.0",
          "state": {
            "_model_module": "@jupyter-widgets/base",
            "_model_module_version": "1.2.0",
            "_model_name": "LayoutModel",
            "_view_count": null,
            "_view_module": "@jupyter-widgets/base",
            "_view_module_version": "1.2.0",
            "_view_name": "LayoutView",
            "align_content": null,
            "align_items": null,
            "align_self": null,
            "border": null,
            "bottom": null,
            "display": null,
            "flex": null,
            "flex_flow": null,
            "grid_area": null,
            "grid_auto_columns": null,
            "grid_auto_flow": null,
            "grid_auto_rows": null,
            "grid_column": null,
            "grid_gap": null,
            "grid_row": null,
            "grid_template_areas": null,
            "grid_template_columns": null,
            "grid_template_rows": null,
            "height": null,
            "justify_content": null,
            "justify_items": null,
            "left": null,
            "margin": null,
            "max_height": null,
            "max_width": null,
            "min_height": null,
            "min_width": null,
            "object_fit": null,
            "object_position": null,
            "order": null,
            "overflow": null,
            "overflow_x": null,
            "overflow_y": null,
            "padding": null,
            "right": null,
            "top": null,
            "visibility": null,
            "width": null
          }
        },
        "ba5d65061c094440a9610d00d6966cf8": {
          "model_module": "@jupyter-widgets/controls",
          "model_name": "DescriptionStyleModel",
          "model_module_version": "1.5.0",
          "state": {
            "_model_module": "@jupyter-widgets/controls",
            "_model_module_version": "1.5.0",
            "_model_name": "DescriptionStyleModel",
            "_view_count": null,
            "_view_module": "@jupyter-widgets/base",
            "_view_module_version": "1.2.0",
            "_view_name": "StyleView",
            "description_width": ""
          }
        },
        "1830097659ea49659c97b695786db75b": {
          "model_module": "@jupyter-widgets/controls",
          "model_name": "HBoxModel",
          "model_module_version": "1.5.0",
          "state": {
            "_dom_classes": [],
            "_model_module": "@jupyter-widgets/controls",
            "_model_module_version": "1.5.0",
            "_model_name": "HBoxModel",
            "_view_count": null,
            "_view_module": "@jupyter-widgets/controls",
            "_view_module_version": "1.5.0",
            "_view_name": "HBoxView",
            "box_style": "",
            "children": [
              "IPY_MODEL_f2e10716aa504fcfa89a577268f95f1c",
              "IPY_MODEL_2adcd457e43e4178b793dd26c60f6ec5",
              "IPY_MODEL_ec84937d7bc64335be4eb13280dba75b"
            ],
            "layout": "IPY_MODEL_a655d9fc0eba4846bc0a39a4e6bff0ef"
          }
        },
        "f2e10716aa504fcfa89a577268f95f1c": {
          "model_module": "@jupyter-widgets/controls",
          "model_name": "HTMLModel",
          "model_module_version": "1.5.0",
          "state": {
            "_dom_classes": [],
            "_model_module": "@jupyter-widgets/controls",
            "_model_module_version": "1.5.0",
            "_model_name": "HTMLModel",
            "_view_count": null,
            "_view_module": "@jupyter-widgets/controls",
            "_view_module_version": "1.5.0",
            "_view_name": "HTMLView",
            "description": "",
            "description_tooltip": null,
            "layout": "IPY_MODEL_d7e200739e3e43c0bee66c43d10b7b8e",
            "placeholder": "​",
            "style": "IPY_MODEL_e15ba1e599b24ef3b294b78af1d85274",
            "value": ""
          }
        },
        "2adcd457e43e4178b793dd26c60f6ec5": {
          "model_module": "@jupyter-widgets/controls",
          "model_name": "FloatProgressModel",
          "model_module_version": "1.5.0",
          "state": {
            "_dom_classes": [],
            "_model_module": "@jupyter-widgets/controls",
            "_model_module_version": "1.5.0",
            "_model_name": "FloatProgressModel",
            "_view_count": null,
            "_view_module": "@jupyter-widgets/controls",
            "_view_module_version": "1.5.0",
            "_view_name": "ProgressView",
            "bar_style": "success",
            "description": "",
            "description_tooltip": null,
            "layout": "IPY_MODEL_848d0ebe4c964d2c8e472e2d57a71ae6",
            "max": 29515,
            "min": 0,
            "orientation": "horizontal",
            "style": "IPY_MODEL_d44550f95a9e408dbbd7573df9ce249b",
            "value": 29515
          }
        },
        "ec84937d7bc64335be4eb13280dba75b": {
          "model_module": "@jupyter-widgets/controls",
          "model_name": "HTMLModel",
          "model_module_version": "1.5.0",
          "state": {
            "_dom_classes": [],
            "_model_module": "@jupyter-widgets/controls",
            "_model_module_version": "1.5.0",
            "_model_name": "HTMLModel",
            "_view_count": null,
            "_view_module": "@jupyter-widgets/controls",
            "_view_module_version": "1.5.0",
            "_view_name": "HTMLView",
            "description": "",
            "description_tooltip": null,
            "layout": "IPY_MODEL_81ee34bb8c33408db7c80fbbb7683fb8",
            "placeholder": "​",
            "style": "IPY_MODEL_21dd30cff2c94da0846ccb48a6c64197",
            "value": " 29696/? [00:00&lt;00:00, 56377.82it/s]"
          }
        },
        "a655d9fc0eba4846bc0a39a4e6bff0ef": {
          "model_module": "@jupyter-widgets/base",
          "model_name": "LayoutModel",
          "model_module_version": "1.2.0",
          "state": {
            "_model_module": "@jupyter-widgets/base",
            "_model_module_version": "1.2.0",
            "_model_name": "LayoutModel",
            "_view_count": null,
            "_view_module": "@jupyter-widgets/base",
            "_view_module_version": "1.2.0",
            "_view_name": "LayoutView",
            "align_content": null,
            "align_items": null,
            "align_self": null,
            "border": null,
            "bottom": null,
            "display": null,
            "flex": null,
            "flex_flow": null,
            "grid_area": null,
            "grid_auto_columns": null,
            "grid_auto_flow": null,
            "grid_auto_rows": null,
            "grid_column": null,
            "grid_gap": null,
            "grid_row": null,
            "grid_template_areas": null,
            "grid_template_columns": null,
            "grid_template_rows": null,
            "height": null,
            "justify_content": null,
            "justify_items": null,
            "left": null,
            "margin": null,
            "max_height": null,
            "max_width": null,
            "min_height": null,
            "min_width": null,
            "object_fit": null,
            "object_position": null,
            "order": null,
            "overflow": null,
            "overflow_x": null,
            "overflow_y": null,
            "padding": null,
            "right": null,
            "top": null,
            "visibility": null,
            "width": null
          }
        },
        "d7e200739e3e43c0bee66c43d10b7b8e": {
          "model_module": "@jupyter-widgets/base",
          "model_name": "LayoutModel",
          "model_module_version": "1.2.0",
          "state": {
            "_model_module": "@jupyter-widgets/base",
            "_model_module_version": "1.2.0",
            "_model_name": "LayoutModel",
            "_view_count": null,
            "_view_module": "@jupyter-widgets/base",
            "_view_module_version": "1.2.0",
            "_view_name": "LayoutView",
            "align_content": null,
            "align_items": null,
            "align_self": null,
            "border": null,
            "bottom": null,
            "display": null,
            "flex": null,
            "flex_flow": null,
            "grid_area": null,
            "grid_auto_columns": null,
            "grid_auto_flow": null,
            "grid_auto_rows": null,
            "grid_column": null,
            "grid_gap": null,
            "grid_row": null,
            "grid_template_areas": null,
            "grid_template_columns": null,
            "grid_template_rows": null,
            "height": null,
            "justify_content": null,
            "justify_items": null,
            "left": null,
            "margin": null,
            "max_height": null,
            "max_width": null,
            "min_height": null,
            "min_width": null,
            "object_fit": null,
            "object_position": null,
            "order": null,
            "overflow": null,
            "overflow_x": null,
            "overflow_y": null,
            "padding": null,
            "right": null,
            "top": null,
            "visibility": null,
            "width": null
          }
        },
        "e15ba1e599b24ef3b294b78af1d85274": {
          "model_module": "@jupyter-widgets/controls",
          "model_name": "DescriptionStyleModel",
          "model_module_version": "1.5.0",
          "state": {
            "_model_module": "@jupyter-widgets/controls",
            "_model_module_version": "1.5.0",
            "_model_name": "DescriptionStyleModel",
            "_view_count": null,
            "_view_module": "@jupyter-widgets/base",
            "_view_module_version": "1.2.0",
            "_view_name": "StyleView",
            "description_width": ""
          }
        },
        "848d0ebe4c964d2c8e472e2d57a71ae6": {
          "model_module": "@jupyter-widgets/base",
          "model_name": "LayoutModel",
          "model_module_version": "1.2.0",
          "state": {
            "_model_module": "@jupyter-widgets/base",
            "_model_module_version": "1.2.0",
            "_model_name": "LayoutModel",
            "_view_count": null,
            "_view_module": "@jupyter-widgets/base",
            "_view_module_version": "1.2.0",
            "_view_name": "LayoutView",
            "align_content": null,
            "align_items": null,
            "align_self": null,
            "border": null,
            "bottom": null,
            "display": null,
            "flex": null,
            "flex_flow": null,
            "grid_area": null,
            "grid_auto_columns": null,
            "grid_auto_flow": null,
            "grid_auto_rows": null,
            "grid_column": null,
            "grid_gap": null,
            "grid_row": null,
            "grid_template_areas": null,
            "grid_template_columns": null,
            "grid_template_rows": null,
            "height": null,
            "justify_content": null,
            "justify_items": null,
            "left": null,
            "margin": null,
            "max_height": null,
            "max_width": null,
            "min_height": null,
            "min_width": null,
            "object_fit": null,
            "object_position": null,
            "order": null,
            "overflow": null,
            "overflow_x": null,
            "overflow_y": null,
            "padding": null,
            "right": null,
            "top": null,
            "visibility": null,
            "width": null
          }
        },
        "d44550f95a9e408dbbd7573df9ce249b": {
          "model_module": "@jupyter-widgets/controls",
          "model_name": "ProgressStyleModel",
          "model_module_version": "1.5.0",
          "state": {
            "_model_module": "@jupyter-widgets/controls",
            "_model_module_version": "1.5.0",
            "_model_name": "ProgressStyleModel",
            "_view_count": null,
            "_view_module": "@jupyter-widgets/base",
            "_view_module_version": "1.2.0",
            "_view_name": "StyleView",
            "bar_color": null,
            "description_width": ""
          }
        },
        "81ee34bb8c33408db7c80fbbb7683fb8": {
          "model_module": "@jupyter-widgets/base",
          "model_name": "LayoutModel",
          "model_module_version": "1.2.0",
          "state": {
            "_model_module": "@jupyter-widgets/base",
            "_model_module_version": "1.2.0",
            "_model_name": "LayoutModel",
            "_view_count": null,
            "_view_module": "@jupyter-widgets/base",
            "_view_module_version": "1.2.0",
            "_view_name": "LayoutView",
            "align_content": null,
            "align_items": null,
            "align_self": null,
            "border": null,
            "bottom": null,
            "display": null,
            "flex": null,
            "flex_flow": null,
            "grid_area": null,
            "grid_auto_columns": null,
            "grid_auto_flow": null,
            "grid_auto_rows": null,
            "grid_column": null,
            "grid_gap": null,
            "grid_row": null,
            "grid_template_areas": null,
            "grid_template_columns": null,
            "grid_template_rows": null,
            "height": null,
            "justify_content": null,
            "justify_items": null,
            "left": null,
            "margin": null,
            "max_height": null,
            "max_width": null,
            "min_height": null,
            "min_width": null,
            "object_fit": null,
            "object_position": null,
            "order": null,
            "overflow": null,
            "overflow_x": null,
            "overflow_y": null,
            "padding": null,
            "right": null,
            "top": null,
            "visibility": null,
            "width": null
          }
        },
        "21dd30cff2c94da0846ccb48a6c64197": {
          "model_module": "@jupyter-widgets/controls",
          "model_name": "DescriptionStyleModel",
          "model_module_version": "1.5.0",
          "state": {
            "_model_module": "@jupyter-widgets/controls",
            "_model_module_version": "1.5.0",
            "_model_name": "DescriptionStyleModel",
            "_view_count": null,
            "_view_module": "@jupyter-widgets/base",
            "_view_module_version": "1.2.0",
            "_view_name": "StyleView",
            "description_width": ""
          }
        },
        "5da74b9017f0452db39c9eda63a54540": {
          "model_module": "@jupyter-widgets/controls",
          "model_name": "HBoxModel",
          "model_module_version": "1.5.0",
          "state": {
            "_dom_classes": [],
            "_model_module": "@jupyter-widgets/controls",
            "_model_module_version": "1.5.0",
            "_model_name": "HBoxModel",
            "_view_count": null,
            "_view_module": "@jupyter-widgets/controls",
            "_view_module_version": "1.5.0",
            "_view_name": "HBoxView",
            "box_style": "",
            "children": [
              "IPY_MODEL_03351478d3eb4aa0a328b7484c74c4f7",
              "IPY_MODEL_5fc89391b812438b8f6a1fd116ac97b5",
              "IPY_MODEL_742ddf34fb34412e9e53fc7ed0290162"
            ],
            "layout": "IPY_MODEL_ca142b836ad54e1b8ed7f0a722205059"
          }
        },
        "03351478d3eb4aa0a328b7484c74c4f7": {
          "model_module": "@jupyter-widgets/controls",
          "model_name": "HTMLModel",
          "model_module_version": "1.5.0",
          "state": {
            "_dom_classes": [],
            "_model_module": "@jupyter-widgets/controls",
            "_model_module_version": "1.5.0",
            "_model_name": "HTMLModel",
            "_view_count": null,
            "_view_module": "@jupyter-widgets/controls",
            "_view_module_version": "1.5.0",
            "_view_name": "HTMLView",
            "description": "",
            "description_tooltip": null,
            "layout": "IPY_MODEL_f993a83f4c8b4ffd864ac4841c8e531d",
            "placeholder": "​",
            "style": "IPY_MODEL_a6b57aeae44b409cbfa6715209c09611",
            "value": ""
          }
        },
        "5fc89391b812438b8f6a1fd116ac97b5": {
          "model_module": "@jupyter-widgets/controls",
          "model_name": "FloatProgressModel",
          "model_module_version": "1.5.0",
          "state": {
            "_dom_classes": [],
            "_model_module": "@jupyter-widgets/controls",
            "_model_module_version": "1.5.0",
            "_model_name": "FloatProgressModel",
            "_view_count": null,
            "_view_module": "@jupyter-widgets/controls",
            "_view_module_version": "1.5.0",
            "_view_name": "ProgressView",
            "bar_style": "success",
            "description": "",
            "description_tooltip": null,
            "layout": "IPY_MODEL_535531e7e07344ea904f46fec0352307",
            "max": 4422102,
            "min": 0,
            "orientation": "horizontal",
            "style": "IPY_MODEL_37d2e56ba63a479b9f5433c1a058e770",
            "value": 4422102
          }
        },
        "742ddf34fb34412e9e53fc7ed0290162": {
          "model_module": "@jupyter-widgets/controls",
          "model_name": "HTMLModel",
          "model_module_version": "1.5.0",
          "state": {
            "_dom_classes": [],
            "_model_module": "@jupyter-widgets/controls",
            "_model_module_version": "1.5.0",
            "_model_name": "HTMLModel",
            "_view_count": null,
            "_view_module": "@jupyter-widgets/controls",
            "_view_module_version": "1.5.0",
            "_view_name": "HTMLView",
            "description": "",
            "description_tooltip": null,
            "layout": "IPY_MODEL_74ca9b690579416482bc4f1d4e04d39a",
            "placeholder": "​",
            "style": "IPY_MODEL_82f879e8afdf48cd9512b30d8ceb9c00",
            "value": " 4422656/? [00:02&lt;00:00, 4430778.23it/s]"
          }
        },
        "ca142b836ad54e1b8ed7f0a722205059": {
          "model_module": "@jupyter-widgets/base",
          "model_name": "LayoutModel",
          "model_module_version": "1.2.0",
          "state": {
            "_model_module": "@jupyter-widgets/base",
            "_model_module_version": "1.2.0",
            "_model_name": "LayoutModel",
            "_view_count": null,
            "_view_module": "@jupyter-widgets/base",
            "_view_module_version": "1.2.0",
            "_view_name": "LayoutView",
            "align_content": null,
            "align_items": null,
            "align_self": null,
            "border": null,
            "bottom": null,
            "display": null,
            "flex": null,
            "flex_flow": null,
            "grid_area": null,
            "grid_auto_columns": null,
            "grid_auto_flow": null,
            "grid_auto_rows": null,
            "grid_column": null,
            "grid_gap": null,
            "grid_row": null,
            "grid_template_areas": null,
            "grid_template_columns": null,
            "grid_template_rows": null,
            "height": null,
            "justify_content": null,
            "justify_items": null,
            "left": null,
            "margin": null,
            "max_height": null,
            "max_width": null,
            "min_height": null,
            "min_width": null,
            "object_fit": null,
            "object_position": null,
            "order": null,
            "overflow": null,
            "overflow_x": null,
            "overflow_y": null,
            "padding": null,
            "right": null,
            "top": null,
            "visibility": null,
            "width": null
          }
        },
        "f993a83f4c8b4ffd864ac4841c8e531d": {
          "model_module": "@jupyter-widgets/base",
          "model_name": "LayoutModel",
          "model_module_version": "1.2.0",
          "state": {
            "_model_module": "@jupyter-widgets/base",
            "_model_module_version": "1.2.0",
            "_model_name": "LayoutModel",
            "_view_count": null,
            "_view_module": "@jupyter-widgets/base",
            "_view_module_version": "1.2.0",
            "_view_name": "LayoutView",
            "align_content": null,
            "align_items": null,
            "align_self": null,
            "border": null,
            "bottom": null,
            "display": null,
            "flex": null,
            "flex_flow": null,
            "grid_area": null,
            "grid_auto_columns": null,
            "grid_auto_flow": null,
            "grid_auto_rows": null,
            "grid_column": null,
            "grid_gap": null,
            "grid_row": null,
            "grid_template_areas": null,
            "grid_template_columns": null,
            "grid_template_rows": null,
            "height": null,
            "justify_content": null,
            "justify_items": null,
            "left": null,
            "margin": null,
            "max_height": null,
            "max_width": null,
            "min_height": null,
            "min_width": null,
            "object_fit": null,
            "object_position": null,
            "order": null,
            "overflow": null,
            "overflow_x": null,
            "overflow_y": null,
            "padding": null,
            "right": null,
            "top": null,
            "visibility": null,
            "width": null
          }
        },
        "a6b57aeae44b409cbfa6715209c09611": {
          "model_module": "@jupyter-widgets/controls",
          "model_name": "DescriptionStyleModel",
          "model_module_version": "1.5.0",
          "state": {
            "_model_module": "@jupyter-widgets/controls",
            "_model_module_version": "1.5.0",
            "_model_name": "DescriptionStyleModel",
            "_view_count": null,
            "_view_module": "@jupyter-widgets/base",
            "_view_module_version": "1.2.0",
            "_view_name": "StyleView",
            "description_width": ""
          }
        },
        "535531e7e07344ea904f46fec0352307": {
          "model_module": "@jupyter-widgets/base",
          "model_name": "LayoutModel",
          "model_module_version": "1.2.0",
          "state": {
            "_model_module": "@jupyter-widgets/base",
            "_model_module_version": "1.2.0",
            "_model_name": "LayoutModel",
            "_view_count": null,
            "_view_module": "@jupyter-widgets/base",
            "_view_module_version": "1.2.0",
            "_view_name": "LayoutView",
            "align_content": null,
            "align_items": null,
            "align_self": null,
            "border": null,
            "bottom": null,
            "display": null,
            "flex": null,
            "flex_flow": null,
            "grid_area": null,
            "grid_auto_columns": null,
            "grid_auto_flow": null,
            "grid_auto_rows": null,
            "grid_column": null,
            "grid_gap": null,
            "grid_row": null,
            "grid_template_areas": null,
            "grid_template_columns": null,
            "grid_template_rows": null,
            "height": null,
            "justify_content": null,
            "justify_items": null,
            "left": null,
            "margin": null,
            "max_height": null,
            "max_width": null,
            "min_height": null,
            "min_width": null,
            "object_fit": null,
            "object_position": null,
            "order": null,
            "overflow": null,
            "overflow_x": null,
            "overflow_y": null,
            "padding": null,
            "right": null,
            "top": null,
            "visibility": null,
            "width": null
          }
        },
        "37d2e56ba63a479b9f5433c1a058e770": {
          "model_module": "@jupyter-widgets/controls",
          "model_name": "ProgressStyleModel",
          "model_module_version": "1.5.0",
          "state": {
            "_model_module": "@jupyter-widgets/controls",
            "_model_module_version": "1.5.0",
            "_model_name": "ProgressStyleModel",
            "_view_count": null,
            "_view_module": "@jupyter-widgets/base",
            "_view_module_version": "1.2.0",
            "_view_name": "StyleView",
            "bar_color": null,
            "description_width": ""
          }
        },
        "74ca9b690579416482bc4f1d4e04d39a": {
          "model_module": "@jupyter-widgets/base",
          "model_name": "LayoutModel",
          "model_module_version": "1.2.0",
          "state": {
            "_model_module": "@jupyter-widgets/base",
            "_model_module_version": "1.2.0",
            "_model_name": "LayoutModel",
            "_view_count": null,
            "_view_module": "@jupyter-widgets/base",
            "_view_module_version": "1.2.0",
            "_view_name": "LayoutView",
            "align_content": null,
            "align_items": null,
            "align_self": null,
            "border": null,
            "bottom": null,
            "display": null,
            "flex": null,
            "flex_flow": null,
            "grid_area": null,
            "grid_auto_columns": null,
            "grid_auto_flow": null,
            "grid_auto_rows": null,
            "grid_column": null,
            "grid_gap": null,
            "grid_row": null,
            "grid_template_areas": null,
            "grid_template_columns": null,
            "grid_template_rows": null,
            "height": null,
            "justify_content": null,
            "justify_items": null,
            "left": null,
            "margin": null,
            "max_height": null,
            "max_width": null,
            "min_height": null,
            "min_width": null,
            "object_fit": null,
            "object_position": null,
            "order": null,
            "overflow": null,
            "overflow_x": null,
            "overflow_y": null,
            "padding": null,
            "right": null,
            "top": null,
            "visibility": null,
            "width": null
          }
        },
        "82f879e8afdf48cd9512b30d8ceb9c00": {
          "model_module": "@jupyter-widgets/controls",
          "model_name": "DescriptionStyleModel",
          "model_module_version": "1.5.0",
          "state": {
            "_model_module": "@jupyter-widgets/controls",
            "_model_module_version": "1.5.0",
            "_model_name": "DescriptionStyleModel",
            "_view_count": null,
            "_view_module": "@jupyter-widgets/base",
            "_view_module_version": "1.2.0",
            "_view_name": "StyleView",
            "description_width": ""
          }
        },
        "ff87693ba6e94669ab3c904f6f76ceb8": {
          "model_module": "@jupyter-widgets/controls",
          "model_name": "HBoxModel",
          "model_module_version": "1.5.0",
          "state": {
            "_dom_classes": [],
            "_model_module": "@jupyter-widgets/controls",
            "_model_module_version": "1.5.0",
            "_model_name": "HBoxModel",
            "_view_count": null,
            "_view_module": "@jupyter-widgets/controls",
            "_view_module_version": "1.5.0",
            "_view_name": "HBoxView",
            "box_style": "",
            "children": [
              "IPY_MODEL_4d37cb95d38a4d89b8146cfc04a4928d",
              "IPY_MODEL_d245acd368ee41578d2d6b9f3b3797a7",
              "IPY_MODEL_375108c3545b4316a85af0cb9c3e977c"
            ],
            "layout": "IPY_MODEL_459f84ecacea46ff8d4f7a277c15f618"
          }
        },
        "4d37cb95d38a4d89b8146cfc04a4928d": {
          "model_module": "@jupyter-widgets/controls",
          "model_name": "HTMLModel",
          "model_module_version": "1.5.0",
          "state": {
            "_dom_classes": [],
            "_model_module": "@jupyter-widgets/controls",
            "_model_module_version": "1.5.0",
            "_model_name": "HTMLModel",
            "_view_count": null,
            "_view_module": "@jupyter-widgets/controls",
            "_view_module_version": "1.5.0",
            "_view_name": "HTMLView",
            "description": "",
            "description_tooltip": null,
            "layout": "IPY_MODEL_20b43d0756474318b878231240ea2d11",
            "placeholder": "​",
            "style": "IPY_MODEL_0be2774a0c524115a4ef6f9232ebc205",
            "value": ""
          }
        },
        "d245acd368ee41578d2d6b9f3b3797a7": {
          "model_module": "@jupyter-widgets/controls",
          "model_name": "FloatProgressModel",
          "model_module_version": "1.5.0",
          "state": {
            "_dom_classes": [],
            "_model_module": "@jupyter-widgets/controls",
            "_model_module_version": "1.5.0",
            "_model_name": "FloatProgressModel",
            "_view_count": null,
            "_view_module": "@jupyter-widgets/controls",
            "_view_module_version": "1.5.0",
            "_view_name": "ProgressView",
            "bar_style": "success",
            "description": "",
            "description_tooltip": null,
            "layout": "IPY_MODEL_58deac1ee3bc4c6c8eae7ddd8227aed6",
            "max": 5148,
            "min": 0,
            "orientation": "horizontal",
            "style": "IPY_MODEL_5f43b337ff844f3ba6a4d1ea9c00fcaf",
            "value": 5148
          }
        },
        "375108c3545b4316a85af0cb9c3e977c": {
          "model_module": "@jupyter-widgets/controls",
          "model_name": "HTMLModel",
          "model_module_version": "1.5.0",
          "state": {
            "_dom_classes": [],
            "_model_module": "@jupyter-widgets/controls",
            "_model_module_version": "1.5.0",
            "_model_name": "HTMLModel",
            "_view_count": null,
            "_view_module": "@jupyter-widgets/controls",
            "_view_module_version": "1.5.0",
            "_view_name": "HTMLView",
            "description": "",
            "description_tooltip": null,
            "layout": "IPY_MODEL_8c923377f9004e7f886b713c1834a3ef",
            "placeholder": "​",
            "style": "IPY_MODEL_cf4110cba7f847539c9a48b7ec0c27bd",
            "value": " 6144/? [00:00&lt;00:00, 273277.59it/s]"
          }
        },
        "459f84ecacea46ff8d4f7a277c15f618": {
          "model_module": "@jupyter-widgets/base",
          "model_name": "LayoutModel",
          "model_module_version": "1.2.0",
          "state": {
            "_model_module": "@jupyter-widgets/base",
            "_model_module_version": "1.2.0",
            "_model_name": "LayoutModel",
            "_view_count": null,
            "_view_module": "@jupyter-widgets/base",
            "_view_module_version": "1.2.0",
            "_view_name": "LayoutView",
            "align_content": null,
            "align_items": null,
            "align_self": null,
            "border": null,
            "bottom": null,
            "display": null,
            "flex": null,
            "flex_flow": null,
            "grid_area": null,
            "grid_auto_columns": null,
            "grid_auto_flow": null,
            "grid_auto_rows": null,
            "grid_column": null,
            "grid_gap": null,
            "grid_row": null,
            "grid_template_areas": null,
            "grid_template_columns": null,
            "grid_template_rows": null,
            "height": null,
            "justify_content": null,
            "justify_items": null,
            "left": null,
            "margin": null,
            "max_height": null,
            "max_width": null,
            "min_height": null,
            "min_width": null,
            "object_fit": null,
            "object_position": null,
            "order": null,
            "overflow": null,
            "overflow_x": null,
            "overflow_y": null,
            "padding": null,
            "right": null,
            "top": null,
            "visibility": null,
            "width": null
          }
        },
        "20b43d0756474318b878231240ea2d11": {
          "model_module": "@jupyter-widgets/base",
          "model_name": "LayoutModel",
          "model_module_version": "1.2.0",
          "state": {
            "_model_module": "@jupyter-widgets/base",
            "_model_module_version": "1.2.0",
            "_model_name": "LayoutModel",
            "_view_count": null,
            "_view_module": "@jupyter-widgets/base",
            "_view_module_version": "1.2.0",
            "_view_name": "LayoutView",
            "align_content": null,
            "align_items": null,
            "align_self": null,
            "border": null,
            "bottom": null,
            "display": null,
            "flex": null,
            "flex_flow": null,
            "grid_area": null,
            "grid_auto_columns": null,
            "grid_auto_flow": null,
            "grid_auto_rows": null,
            "grid_column": null,
            "grid_gap": null,
            "grid_row": null,
            "grid_template_areas": null,
            "grid_template_columns": null,
            "grid_template_rows": null,
            "height": null,
            "justify_content": null,
            "justify_items": null,
            "left": null,
            "margin": null,
            "max_height": null,
            "max_width": null,
            "min_height": null,
            "min_width": null,
            "object_fit": null,
            "object_position": null,
            "order": null,
            "overflow": null,
            "overflow_x": null,
            "overflow_y": null,
            "padding": null,
            "right": null,
            "top": null,
            "visibility": null,
            "width": null
          }
        },
        "0be2774a0c524115a4ef6f9232ebc205": {
          "model_module": "@jupyter-widgets/controls",
          "model_name": "DescriptionStyleModel",
          "model_module_version": "1.5.0",
          "state": {
            "_model_module": "@jupyter-widgets/controls",
            "_model_module_version": "1.5.0",
            "_model_name": "DescriptionStyleModel",
            "_view_count": null,
            "_view_module": "@jupyter-widgets/base",
            "_view_module_version": "1.2.0",
            "_view_name": "StyleView",
            "description_width": ""
          }
        },
        "58deac1ee3bc4c6c8eae7ddd8227aed6": {
          "model_module": "@jupyter-widgets/base",
          "model_name": "LayoutModel",
          "model_module_version": "1.2.0",
          "state": {
            "_model_module": "@jupyter-widgets/base",
            "_model_module_version": "1.2.0",
            "_model_name": "LayoutModel",
            "_view_count": null,
            "_view_module": "@jupyter-widgets/base",
            "_view_module_version": "1.2.0",
            "_view_name": "LayoutView",
            "align_content": null,
            "align_items": null,
            "align_self": null,
            "border": null,
            "bottom": null,
            "display": null,
            "flex": null,
            "flex_flow": null,
            "grid_area": null,
            "grid_auto_columns": null,
            "grid_auto_flow": null,
            "grid_auto_rows": null,
            "grid_column": null,
            "grid_gap": null,
            "grid_row": null,
            "grid_template_areas": null,
            "grid_template_columns": null,
            "grid_template_rows": null,
            "height": null,
            "justify_content": null,
            "justify_items": null,
            "left": null,
            "margin": null,
            "max_height": null,
            "max_width": null,
            "min_height": null,
            "min_width": null,
            "object_fit": null,
            "object_position": null,
            "order": null,
            "overflow": null,
            "overflow_x": null,
            "overflow_y": null,
            "padding": null,
            "right": null,
            "top": null,
            "visibility": null,
            "width": null
          }
        },
        "5f43b337ff844f3ba6a4d1ea9c00fcaf": {
          "model_module": "@jupyter-widgets/controls",
          "model_name": "ProgressStyleModel",
          "model_module_version": "1.5.0",
          "state": {
            "_model_module": "@jupyter-widgets/controls",
            "_model_module_version": "1.5.0",
            "_model_name": "ProgressStyleModel",
            "_view_count": null,
            "_view_module": "@jupyter-widgets/base",
            "_view_module_version": "1.2.0",
            "_view_name": "StyleView",
            "bar_color": null,
            "description_width": ""
          }
        },
        "8c923377f9004e7f886b713c1834a3ef": {
          "model_module": "@jupyter-widgets/base",
          "model_name": "LayoutModel",
          "model_module_version": "1.2.0",
          "state": {
            "_model_module": "@jupyter-widgets/base",
            "_model_module_version": "1.2.0",
            "_model_name": "LayoutModel",
            "_view_count": null,
            "_view_module": "@jupyter-widgets/base",
            "_view_module_version": "1.2.0",
            "_view_name": "LayoutView",
            "align_content": null,
            "align_items": null,
            "align_self": null,
            "border": null,
            "bottom": null,
            "display": null,
            "flex": null,
            "flex_flow": null,
            "grid_area": null,
            "grid_auto_columns": null,
            "grid_auto_flow": null,
            "grid_auto_rows": null,
            "grid_column": null,
            "grid_gap": null,
            "grid_row": null,
            "grid_template_areas": null,
            "grid_template_columns": null,
            "grid_template_rows": null,
            "height": null,
            "justify_content": null,
            "justify_items": null,
            "left": null,
            "margin": null,
            "max_height": null,
            "max_width": null,
            "min_height": null,
            "min_width": null,
            "object_fit": null,
            "object_position": null,
            "order": null,
            "overflow": null,
            "overflow_x": null,
            "overflow_y": null,
            "padding": null,
            "right": null,
            "top": null,
            "visibility": null,
            "width": null
          }
        },
        "cf4110cba7f847539c9a48b7ec0c27bd": {
          "model_module": "@jupyter-widgets/controls",
          "model_name": "DescriptionStyleModel",
          "model_module_version": "1.5.0",
          "state": {
            "_model_module": "@jupyter-widgets/controls",
            "_model_module_version": "1.5.0",
            "_model_name": "DescriptionStyleModel",
            "_view_count": null,
            "_view_module": "@jupyter-widgets/base",
            "_view_module_version": "1.2.0",
            "_view_name": "StyleView",
            "description_width": ""
          }
        },
        "3c7c6a63b1ab42cb8cce59460589df59": {
          "model_module": "@jupyter-widgets/controls",
          "model_name": "HBoxModel",
          "model_module_version": "1.5.0",
          "state": {
            "_dom_classes": [],
            "_model_module": "@jupyter-widgets/controls",
            "_model_module_version": "1.5.0",
            "_model_name": "HBoxModel",
            "_view_count": null,
            "_view_module": "@jupyter-widgets/controls",
            "_view_module_version": "1.5.0",
            "_view_name": "HBoxView",
            "box_style": "",
            "children": [
              "IPY_MODEL_792056854bd64caf80fa8aa6bfa7ccba",
              "IPY_MODEL_f2bf9f9a869741b99dca31e6d30150c6",
              "IPY_MODEL_4d2b5638376c4f8ebee0504ddd98f06a"
            ],
            "layout": "IPY_MODEL_0dca4ae1fd02479bbca46fec29873949"
          }
        },
        "792056854bd64caf80fa8aa6bfa7ccba": {
          "model_module": "@jupyter-widgets/controls",
          "model_name": "HTMLModel",
          "model_module_version": "1.5.0",
          "state": {
            "_dom_classes": [],
            "_model_module": "@jupyter-widgets/controls",
            "_model_module_version": "1.5.0",
            "_model_name": "HTMLModel",
            "_view_count": null,
            "_view_module": "@jupyter-widgets/controls",
            "_view_module_version": "1.5.0",
            "_view_name": "HTMLView",
            "description": "",
            "description_tooltip": null,
            "layout": "IPY_MODEL_e8eba942070e410b8ee76b8eb680ae2b",
            "placeholder": "​",
            "style": "IPY_MODEL_485d8dfd3c534ee1b3387eac3a3581e7",
            "value": "100%"
          }
        },
        "f2bf9f9a869741b99dca31e6d30150c6": {
          "model_module": "@jupyter-widgets/controls",
          "model_name": "FloatProgressModel",
          "model_module_version": "1.5.0",
          "state": {
            "_dom_classes": [],
            "_model_module": "@jupyter-widgets/controls",
            "_model_module_version": "1.5.0",
            "_model_name": "FloatProgressModel",
            "_view_count": null,
            "_view_module": "@jupyter-widgets/controls",
            "_view_module_version": "1.5.0",
            "_view_name": "ProgressView",
            "bar_style": "success",
            "description": "",
            "description_tooltip": null,
            "layout": "IPY_MODEL_141807b3a3ad4f09b255a76453b46999",
            "max": 32342954,
            "min": 0,
            "orientation": "horizontal",
            "style": "IPY_MODEL_72059e3dc13448419145ced13ee86658",
            "value": 32342954
          }
        },
        "4d2b5638376c4f8ebee0504ddd98f06a": {
          "model_module": "@jupyter-widgets/controls",
          "model_name": "HTMLModel",
          "model_module_version": "1.5.0",
          "state": {
            "_dom_classes": [],
            "_model_module": "@jupyter-widgets/controls",
            "_model_module_version": "1.5.0",
            "_model_name": "HTMLModel",
            "_view_count": null,
            "_view_module": "@jupyter-widgets/controls",
            "_view_module_version": "1.5.0",
            "_view_name": "HTMLView",
            "description": "",
            "description_tooltip": null,
            "layout": "IPY_MODEL_b3abd4158be94176a65b7aa12acfe5e7",
            "placeholder": "​",
            "style": "IPY_MODEL_2a879920ea1d44408f458d41b60a4f96",
            "value": " 30.8M/30.8M [00:00&lt;00:00, 31.9MB/s]"
          }
        },
        "0dca4ae1fd02479bbca46fec29873949": {
          "model_module": "@jupyter-widgets/base",
          "model_name": "LayoutModel",
          "model_module_version": "1.2.0",
          "state": {
            "_model_module": "@jupyter-widgets/base",
            "_model_module_version": "1.2.0",
            "_model_name": "LayoutModel",
            "_view_count": null,
            "_view_module": "@jupyter-widgets/base",
            "_view_module_version": "1.2.0",
            "_view_name": "LayoutView",
            "align_content": null,
            "align_items": null,
            "align_self": null,
            "border": null,
            "bottom": null,
            "display": null,
            "flex": null,
            "flex_flow": null,
            "grid_area": null,
            "grid_auto_columns": null,
            "grid_auto_flow": null,
            "grid_auto_rows": null,
            "grid_column": null,
            "grid_gap": null,
            "grid_row": null,
            "grid_template_areas": null,
            "grid_template_columns": null,
            "grid_template_rows": null,
            "height": null,
            "justify_content": null,
            "justify_items": null,
            "left": null,
            "margin": null,
            "max_height": null,
            "max_width": null,
            "min_height": null,
            "min_width": null,
            "object_fit": null,
            "object_position": null,
            "order": null,
            "overflow": null,
            "overflow_x": null,
            "overflow_y": null,
            "padding": null,
            "right": null,
            "top": null,
            "visibility": null,
            "width": null
          }
        },
        "e8eba942070e410b8ee76b8eb680ae2b": {
          "model_module": "@jupyter-widgets/base",
          "model_name": "LayoutModel",
          "model_module_version": "1.2.0",
          "state": {
            "_model_module": "@jupyter-widgets/base",
            "_model_module_version": "1.2.0",
            "_model_name": "LayoutModel",
            "_view_count": null,
            "_view_module": "@jupyter-widgets/base",
            "_view_module_version": "1.2.0",
            "_view_name": "LayoutView",
            "align_content": null,
            "align_items": null,
            "align_self": null,
            "border": null,
            "bottom": null,
            "display": null,
            "flex": null,
            "flex_flow": null,
            "grid_area": null,
            "grid_auto_columns": null,
            "grid_auto_flow": null,
            "grid_auto_rows": null,
            "grid_column": null,
            "grid_gap": null,
            "grid_row": null,
            "grid_template_areas": null,
            "grid_template_columns": null,
            "grid_template_rows": null,
            "height": null,
            "justify_content": null,
            "justify_items": null,
            "left": null,
            "margin": null,
            "max_height": null,
            "max_width": null,
            "min_height": null,
            "min_width": null,
            "object_fit": null,
            "object_position": null,
            "order": null,
            "overflow": null,
            "overflow_x": null,
            "overflow_y": null,
            "padding": null,
            "right": null,
            "top": null,
            "visibility": null,
            "width": null
          }
        },
        "485d8dfd3c534ee1b3387eac3a3581e7": {
          "model_module": "@jupyter-widgets/controls",
          "model_name": "DescriptionStyleModel",
          "model_module_version": "1.5.0",
          "state": {
            "_model_module": "@jupyter-widgets/controls",
            "_model_module_version": "1.5.0",
            "_model_name": "DescriptionStyleModel",
            "_view_count": null,
            "_view_module": "@jupyter-widgets/base",
            "_view_module_version": "1.2.0",
            "_view_name": "StyleView",
            "description_width": ""
          }
        },
        "141807b3a3ad4f09b255a76453b46999": {
          "model_module": "@jupyter-widgets/base",
          "model_name": "LayoutModel",
          "model_module_version": "1.2.0",
          "state": {
            "_model_module": "@jupyter-widgets/base",
            "_model_module_version": "1.2.0",
            "_model_name": "LayoutModel",
            "_view_count": null,
            "_view_module": "@jupyter-widgets/base",
            "_view_module_version": "1.2.0",
            "_view_name": "LayoutView",
            "align_content": null,
            "align_items": null,
            "align_self": null,
            "border": null,
            "bottom": null,
            "display": null,
            "flex": null,
            "flex_flow": null,
            "grid_area": null,
            "grid_auto_columns": null,
            "grid_auto_flow": null,
            "grid_auto_rows": null,
            "grid_column": null,
            "grid_gap": null,
            "grid_row": null,
            "grid_template_areas": null,
            "grid_template_columns": null,
            "grid_template_rows": null,
            "height": null,
            "justify_content": null,
            "justify_items": null,
            "left": null,
            "margin": null,
            "max_height": null,
            "max_width": null,
            "min_height": null,
            "min_width": null,
            "object_fit": null,
            "object_position": null,
            "order": null,
            "overflow": null,
            "overflow_x": null,
            "overflow_y": null,
            "padding": null,
            "right": null,
            "top": null,
            "visibility": null,
            "width": null
          }
        },
        "72059e3dc13448419145ced13ee86658": {
          "model_module": "@jupyter-widgets/controls",
          "model_name": "ProgressStyleModel",
          "model_module_version": "1.5.0",
          "state": {
            "_model_module": "@jupyter-widgets/controls",
            "_model_module_version": "1.5.0",
            "_model_name": "ProgressStyleModel",
            "_view_count": null,
            "_view_module": "@jupyter-widgets/base",
            "_view_module_version": "1.2.0",
            "_view_name": "StyleView",
            "bar_color": null,
            "description_width": ""
          }
        },
        "b3abd4158be94176a65b7aa12acfe5e7": {
          "model_module": "@jupyter-widgets/base",
          "model_name": "LayoutModel",
          "model_module_version": "1.2.0",
          "state": {
            "_model_module": "@jupyter-widgets/base",
            "_model_module_version": "1.2.0",
            "_model_name": "LayoutModel",
            "_view_count": null,
            "_view_module": "@jupyter-widgets/base",
            "_view_module_version": "1.2.0",
            "_view_name": "LayoutView",
            "align_content": null,
            "align_items": null,
            "align_self": null,
            "border": null,
            "bottom": null,
            "display": null,
            "flex": null,
            "flex_flow": null,
            "grid_area": null,
            "grid_auto_columns": null,
            "grid_auto_flow": null,
            "grid_auto_rows": null,
            "grid_column": null,
            "grid_gap": null,
            "grid_row": null,
            "grid_template_areas": null,
            "grid_template_columns": null,
            "grid_template_rows": null,
            "height": null,
            "justify_content": null,
            "justify_items": null,
            "left": null,
            "margin": null,
            "max_height": null,
            "max_width": null,
            "min_height": null,
            "min_width": null,
            "object_fit": null,
            "object_position": null,
            "order": null,
            "overflow": null,
            "overflow_x": null,
            "overflow_y": null,
            "padding": null,
            "right": null,
            "top": null,
            "visibility": null,
            "width": null
          }
        },
        "2a879920ea1d44408f458d41b60a4f96": {
          "model_module": "@jupyter-widgets/controls",
          "model_name": "DescriptionStyleModel",
          "model_module_version": "1.5.0",
          "state": {
            "_model_module": "@jupyter-widgets/controls",
            "_model_module_version": "1.5.0",
            "_model_name": "DescriptionStyleModel",
            "_view_count": null,
            "_view_module": "@jupyter-widgets/base",
            "_view_module_version": "1.2.0",
            "_view_name": "StyleView",
            "description_width": ""
          }
        }
      }
    }
  },
  "cells": [
    {
      "cell_type": "markdown",
      "metadata": {
        "id": "view-in-github",
        "colab_type": "text"
      },
      "source": [
        "<a href=\"https://colab.research.google.com/github/kachmaryk/computer_vision/blob/main/lab_3/lab_3.ipynb\" target=\"_parent\"><img src=\"https://colab.research.google.com/assets/colab-badge.svg\" alt=\"Open In Colab\"/></a>"
      ]
    },
    {
      "cell_type": "code",
      "execution_count": 41,
      "metadata": {
        "id": "9jEg3hPNfb1w"
      },
      "outputs": [],
      "source": [
        "import numpy as np\n",
        "import pandas as pd\n",
        "from tqdm import tqdm\n",
        "import matplotlib.pyplot as plt\n",
        "from PIL import Image\n",
        "from sklearn.metrics import confusion_matrix, classification_report\n",
        "import seaborn as sns\n",
        "\n",
        "import torch\n",
        "import torchvision\n",
        "import torch.nn as nn\n",
        "import torch.optim as optim\n",
        "import torch.nn.functional as F\n",
        "import torchvision.transforms as transforms\n",
        "from torch.autograd import Variable\n",
        "import torch.backends.cudnn as cudnn\n",
        "\n",
        "import time\n",
        "import os\n",
        "import copy\n",
        "import cv2\n",
        "import random\n",
        "\n",
        "device = torch.device(\"cuda:0\" if torch.cuda.is_available() else \"cpu\")"
      ]
    },
    {
      "cell_type": "code",
      "source": [
        "from google.colab import drive\n",
        "drive.mount('/content/gdrive')\n",
        "\n",
        "path_to_models = '/content/gdrive/MyDrive/Colab Notebooks/Image_Processing_2022/lab_3_saved_models/'"
      ],
      "metadata": {
        "colab": {
          "base_uri": "https://localhost:8080/"
        },
        "id": "NxEnO4ewk1u2",
        "outputId": "352a3fce-5452-407b-b70c-3c95820fd6f3"
      },
      "execution_count": 4,
      "outputs": [
        {
          "output_type": "stream",
          "name": "stdout",
          "text": [
            "Mounted at /content/gdrive\n"
          ]
        }
      ]
    },
    {
      "cell_type": "markdown",
      "source": [
        "# DenseNet"
      ],
      "metadata": {
        "id": "rWSG7vaYvqr6"
      }
    },
    {
      "cell_type": "code",
      "source": [
        "def train_model(model, criterion, optimizer, data_loaders,\n",
        "                batch_size, num_epochs=30):\n",
        "  start_time = time.time()\n",
        "\n",
        "  train_acc_history = []\n",
        "  val_acc_history = []\n",
        "\n",
        "  best_model_over_epochs = copy.deepcopy(model.state_dict())\n",
        "  best_acc = 0.0\n",
        "\n",
        "  for epoch in range(num_epochs):\n",
        "    print('Epoch {}/{}'.format(epoch, num_epochs - 1))\n",
        "\n",
        "    # Train and validate over each epoch\n",
        "    for phase in ['train', 'val']:\n",
        "      if phase == 'train':\n",
        "        model.train()  # Set model to training mode\n",
        "      else:\n",
        "        model.eval()   # Set model to evaluate mode\n",
        "\n",
        "      batch_loss = 0.0\n",
        "      batch_correct_preds = 0\n",
        "\n",
        "      # Iterate over data\n",
        "      for inputs, labels in tqdm(data_loaders[phase]):\n",
        "        inputs = inputs.to(device)\n",
        "        labels = labels.to(device)\n",
        "\n",
        "        # Zero the parameter gradients\n",
        "        optimizer.zero_grad()\n",
        "\n",
        "        # Forward\n",
        "        # track history if only in train\n",
        "        with torch.set_grad_enabled(phase == 'train'):\n",
        "          # Get model outputs and calculate loss\n",
        "          outputs = model(inputs)\n",
        "          loss = criterion(outputs, labels)\n",
        "\n",
        "          _, preds = torch.max(outputs, 1)\n",
        "          \n",
        "          # Backward + Optimize only in training phase\n",
        "          if phase == 'train':\n",
        "            loss.backward()\n",
        "            optimizer.step()\n",
        "        \n",
        "        batch_loss += loss.item() * inputs.size(0)\n",
        "        batch_correct_preds += torch.sum(preds == labels.data)\n",
        "      \n",
        "      epoch_loss = batch_loss / len(data_loaders[phase].dataset)\n",
        "      epoch_acc = batch_correct_preds.double() / len(data_loaders[phase].dataset)\n",
        "\n",
        "      print('-' * 50)\n",
        "      print('{} Loss: {:.4f}  Acc: {:.4f}\\n\\n'.format(phase,\n",
        "                                                      epoch_loss,\n",
        "                                                      epoch_acc))\n",
        "\n",
        "      # Deep copy the model\n",
        "      if phase == 'val' and epoch_acc > best_acc:\n",
        "        best_acc = epoch_acc\n",
        "        best_model_over_epochs = copy.deepcopy(model.state_dict())\n",
        "      \n",
        "      if phase == 'val':\n",
        "        val_acc_history.append(epoch_acc)\n",
        "      else:\n",
        "        train_acc_history.append(epoch_acc)\n",
        "\n",
        "  time_elapsed = time.time() - start_time\n",
        "  print('Training complete in {:.0f}m {:.0f}s'.format(time_elapsed // 60,\n",
        "                                                      time_elapsed % 60))\n",
        "  print('Best val Acc: {:4f}'.format(best_acc))\n",
        "\n",
        "  # Load best model weights\n",
        "  model.load_state_dict(best_model_over_epochs)\n",
        "  \n",
        "  # Save best model weights\n",
        "  torch.save(model.state_dict(), path_to_models + f'model_weights_epoch-{num_epochs}_batch_size-{batch_size}_transform.pth')\n",
        "\n",
        "  return model, train_acc_history, val_acc_history"
      ],
      "metadata": {
        "id": "aqcc_mUhfs2y"
      },
      "execution_count": 5,
      "outputs": []
    },
    {
      "cell_type": "code",
      "source": [
        "def visualize_acc_hist(train_acc_history, val_acc_history):\n",
        "  train_hist = [h.cpu().numpy() for h in train_acc_history]\n",
        "  val_hist = [h.cpu().numpy() for h in val_acc_history]\n",
        "\n",
        "  print('Training accuracy', np.around(np.array(train_hist), 3).reshape(len(train_hist),))\n",
        "  print('Validation accuracy', np.around(np.array(val_hist), 3).reshape(len(val_hist),))\n",
        "\n",
        "  plt.figure(figsize=(15, 9))\n",
        "  plt.title(\"Accuracy over Number of Training Epochs\", fontsize=15)\n",
        "  plt.xlabel(\"Training Epochs\", fontsize=14)\n",
        "  plt.ylabel(\"Accuracy\", fontsize=14)\n",
        "\n",
        "  plt.plot(range(1, num_epochs+1), train_hist, label=\"Training\", marker = 'o')\n",
        "  # for a, b in zip(range(1, num_epochs+1), train_hist): \n",
        "  #     plt.text(a, b, str(np.around(b, 2)))\n",
        "  plt.plot(range(1, num_epochs+1), val_hist, label=\"Validation\", marker = 'o')\n",
        "  # for a, b in zip(range(1, num_epochs+1), val_hist): \n",
        "  #     plt.text(a, b, str(np.around(b, 2)))\n",
        "  plt.ylim((0,1.))\n",
        "  plt.xticks(np.arange(1, num_epochs+1, 1.0))\n",
        "  plt.legend(loc='lower left', fontsize=13)\n",
        "  plt.show()"
      ],
      "metadata": {
        "id": "aEtQLrIQ53LW"
      },
      "execution_count": 6,
      "outputs": []
    },
    {
      "cell_type": "code",
      "source": [
        "def show_statistics(y_test, y_pred, classNames):\n",
        "  print(\"\\n**** Classification Report ****\")\n",
        "  print(classification_report(y_test, y_pred, target_names=classNames))\n",
        "  \n",
        "\n",
        "def plot_confusion_matrix(y_test, y_pred, classNames):\n",
        "    classes = len(classNames)\n",
        "    cm = confusion_matrix(y_test, y_pred)\n",
        "\n",
        "    con = np.zeros((classes, classes))\n",
        "    for x in range(classes):\n",
        "        for y in range(classes):\n",
        "            con[x,y] = cm[x,y] / np.sum(cm[x,:])\n",
        "\n",
        "    plt.figure(figsize=(15,15))\n",
        "    sns.set(font_scale=1.0)\n",
        "    sns.heatmap(con, annot=True, fmt='.2', cmap='Blues',\n",
        "                xticklabels=classNames, yticklabels=classNames)\n",
        "    plt.show()"
      ],
      "metadata": {
        "id": "Yht7IMSoF-Mi"
      },
      "execution_count": 36,
      "outputs": []
    },
    {
      "cell_type": "code",
      "source": [
        "batch_size = 32\n",
        "input_size = 224\n",
        "\n",
        "data_transforms = {\n",
        "    'train': transforms.Compose([transforms.Resize(256),\n",
        "                                 transforms.CenterCrop(input_size),\n",
        "                                 transforms.ToTensor(),\n",
        "                                 transforms.Lambda(lambda x: x.repeat(3, 1, 1)),\n",
        "                                 transforms.Normalize(mean=[0.485, 0.456, 0.406],\n",
        "                                                      std=[0.229, 0.224, 0.225])\n",
        "                                ]),\n",
        "    'val': transforms.Compose([transforms.Resize(256),\n",
        "                               transforms.CenterCrop(input_size),\n",
        "                               transforms.ToTensor(),\n",
        "                               transforms.Lambda(lambda x: x.repeat(3, 1, 1)),\n",
        "                               transforms.Normalize(mean=[0.485, 0.456, 0.406],\n",
        "                                                    std=[0.229, 0.224, 0.225])\n",
        "                               ])\n",
        "}\n",
        "\n",
        "train_set = torchvision.datasets.FashionMNIST(\"./data\",\n",
        "                                              download=True,\n",
        "                                              transform=data_transforms['train'])\n",
        "\n",
        "val_set = torchvision.datasets.FashionMNIST(\"./data\",\n",
        "                                            download=True,\n",
        "                                            train=False,\n",
        "                                            transform=data_transforms['val'])\n",
        "\n",
        "train_loader = torch.utils.data.DataLoader(train_set,\n",
        "                                           batch_size=batch_size,\n",
        "                                           shuffle=True,\n",
        "                                           num_workers=4)\n",
        "\n",
        "val_loader = torch.utils.data.DataLoader(val_set,\n",
        "                                         batch_size=batch_size,\n",
        "                                         shuffle=False,\n",
        "                                         num_workers=4)\n",
        "\n",
        "data_loaders = {'train': train_loader,\n",
        "                'val': val_loader}"
      ],
      "metadata": {
        "colab": {
          "base_uri": "https://localhost:8080/",
          "height": 422,
          "referenced_widgets": [
            "962c2a53e12443daa089075f98bf7dd5",
            "1ac6c8254d20408a94881ae3904aeaf2",
            "3f6b1949fc0947ef93a1604ac67e091a",
            "c0d95aeb67eb4ccb8c490f1bc1230037",
            "669087e15cdf48b6af31edc20d40704f",
            "8410186fe0444323aafafa94ad6520db",
            "2d2189e703094933a00073a557d18341",
            "2f6ea5446c2b4afeb029f267cb974be0",
            "dbf646237731417ab6d15c636444cb47",
            "fc814571c9d7426da662753a5fdbeab5",
            "ba5d65061c094440a9610d00d6966cf8",
            "1830097659ea49659c97b695786db75b",
            "f2e10716aa504fcfa89a577268f95f1c",
            "2adcd457e43e4178b793dd26c60f6ec5",
            "ec84937d7bc64335be4eb13280dba75b",
            "a655d9fc0eba4846bc0a39a4e6bff0ef",
            "d7e200739e3e43c0bee66c43d10b7b8e",
            "e15ba1e599b24ef3b294b78af1d85274",
            "848d0ebe4c964d2c8e472e2d57a71ae6",
            "d44550f95a9e408dbbd7573df9ce249b",
            "81ee34bb8c33408db7c80fbbb7683fb8",
            "21dd30cff2c94da0846ccb48a6c64197",
            "5da74b9017f0452db39c9eda63a54540",
            "03351478d3eb4aa0a328b7484c74c4f7",
            "5fc89391b812438b8f6a1fd116ac97b5",
            "742ddf34fb34412e9e53fc7ed0290162",
            "ca142b836ad54e1b8ed7f0a722205059",
            "f993a83f4c8b4ffd864ac4841c8e531d",
            "a6b57aeae44b409cbfa6715209c09611",
            "535531e7e07344ea904f46fec0352307",
            "37d2e56ba63a479b9f5433c1a058e770",
            "74ca9b690579416482bc4f1d4e04d39a",
            "82f879e8afdf48cd9512b30d8ceb9c00",
            "ff87693ba6e94669ab3c904f6f76ceb8",
            "4d37cb95d38a4d89b8146cfc04a4928d",
            "d245acd368ee41578d2d6b9f3b3797a7",
            "375108c3545b4316a85af0cb9c3e977c",
            "459f84ecacea46ff8d4f7a277c15f618",
            "20b43d0756474318b878231240ea2d11",
            "0be2774a0c524115a4ef6f9232ebc205",
            "58deac1ee3bc4c6c8eae7ddd8227aed6",
            "5f43b337ff844f3ba6a4d1ea9c00fcaf",
            "8c923377f9004e7f886b713c1834a3ef",
            "cf4110cba7f847539c9a48b7ec0c27bd"
          ]
        },
        "id": "V8aQ6ZBLftFK",
        "outputId": "d9dda993-4e9a-4b8a-c88f-713a5bfcdfe9"
      },
      "execution_count": 8,
      "outputs": [
        {
          "output_type": "stream",
          "name": "stdout",
          "text": [
            "Downloading http://fashion-mnist.s3-website.eu-central-1.amazonaws.com/train-images-idx3-ubyte.gz\n",
            "Downloading http://fashion-mnist.s3-website.eu-central-1.amazonaws.com/train-images-idx3-ubyte.gz to ./data/FashionMNIST/raw/train-images-idx3-ubyte.gz\n"
          ]
        },
        {
          "output_type": "display_data",
          "data": {
            "text/plain": [
              "  0%|          | 0/26421880 [00:00<?, ?it/s]"
            ],
            "application/vnd.jupyter.widget-view+json": {
              "version_major": 2,
              "version_minor": 0,
              "model_id": "962c2a53e12443daa089075f98bf7dd5"
            }
          },
          "metadata": {}
        },
        {
          "output_type": "stream",
          "name": "stdout",
          "text": [
            "Extracting ./data/FashionMNIST/raw/train-images-idx3-ubyte.gz to ./data/FashionMNIST/raw\n",
            "\n",
            "Downloading http://fashion-mnist.s3-website.eu-central-1.amazonaws.com/train-labels-idx1-ubyte.gz\n",
            "Downloading http://fashion-mnist.s3-website.eu-central-1.amazonaws.com/train-labels-idx1-ubyte.gz to ./data/FashionMNIST/raw/train-labels-idx1-ubyte.gz\n"
          ]
        },
        {
          "output_type": "display_data",
          "data": {
            "text/plain": [
              "  0%|          | 0/29515 [00:00<?, ?it/s]"
            ],
            "application/vnd.jupyter.widget-view+json": {
              "version_major": 2,
              "version_minor": 0,
              "model_id": "1830097659ea49659c97b695786db75b"
            }
          },
          "metadata": {}
        },
        {
          "output_type": "stream",
          "name": "stdout",
          "text": [
            "Extracting ./data/FashionMNIST/raw/train-labels-idx1-ubyte.gz to ./data/FashionMNIST/raw\n",
            "\n",
            "Downloading http://fashion-mnist.s3-website.eu-central-1.amazonaws.com/t10k-images-idx3-ubyte.gz\n",
            "Downloading http://fashion-mnist.s3-website.eu-central-1.amazonaws.com/t10k-images-idx3-ubyte.gz to ./data/FashionMNIST/raw/t10k-images-idx3-ubyte.gz\n"
          ]
        },
        {
          "output_type": "display_data",
          "data": {
            "text/plain": [
              "  0%|          | 0/4422102 [00:00<?, ?it/s]"
            ],
            "application/vnd.jupyter.widget-view+json": {
              "version_major": 2,
              "version_minor": 0,
              "model_id": "5da74b9017f0452db39c9eda63a54540"
            }
          },
          "metadata": {}
        },
        {
          "output_type": "stream",
          "name": "stdout",
          "text": [
            "Extracting ./data/FashionMNIST/raw/t10k-images-idx3-ubyte.gz to ./data/FashionMNIST/raw\n",
            "\n",
            "Downloading http://fashion-mnist.s3-website.eu-central-1.amazonaws.com/t10k-labels-idx1-ubyte.gz\n",
            "Downloading http://fashion-mnist.s3-website.eu-central-1.amazonaws.com/t10k-labels-idx1-ubyte.gz to ./data/FashionMNIST/raw/t10k-labels-idx1-ubyte.gz\n"
          ]
        },
        {
          "output_type": "display_data",
          "data": {
            "text/plain": [
              "  0%|          | 0/5148 [00:00<?, ?it/s]"
            ],
            "application/vnd.jupyter.widget-view+json": {
              "version_major": 2,
              "version_minor": 0,
              "model_id": "ff87693ba6e94669ab3c904f6f76ceb8"
            }
          },
          "metadata": {}
        },
        {
          "output_type": "stream",
          "name": "stdout",
          "text": [
            "Extracting ./data/FashionMNIST/raw/t10k-labels-idx1-ubyte.gz to ./data/FashionMNIST/raw\n",
            "\n"
          ]
        }
      ]
    },
    {
      "cell_type": "markdown",
      "source": [
        "***Hyperparameters***"
      ],
      "metadata": {
        "id": "pS2xzKZgtaiD"
      }
    },
    {
      "cell_type": "code",
      "source": [
        "num_epochs = 30\n",
        "num_classes = len(train_set.classes)\n",
        "feature_extract = True"
      ],
      "metadata": {
        "id": "IC2z-LHktZmJ"
      },
      "execution_count": 9,
      "outputs": []
    },
    {
      "cell_type": "code",
      "source": [
        "model = torch.hub.load('pytorch/vision:v0.10.0', 'densenet121', pretrained=True)\n",
        "\n",
        "# Set all model parameters to not update\n",
        "if feature_extract:\n",
        "  for param in model.parameters():\n",
        "    param.requires_grad = False\n",
        "\n",
        "# Reinitialize layer’s parameters\n",
        "in_features = model.classifier.in_features\n",
        "model.classifier = nn.Linear(in_features, num_classes)\n",
        "\n",
        "model.eval()"
      ],
      "metadata": {
        "colab": {
          "base_uri": "https://localhost:8080/",
          "height": 1000,
          "referenced_widgets": [
            "3c7c6a63b1ab42cb8cce59460589df59",
            "792056854bd64caf80fa8aa6bfa7ccba",
            "f2bf9f9a869741b99dca31e6d30150c6",
            "4d2b5638376c4f8ebee0504ddd98f06a",
            "0dca4ae1fd02479bbca46fec29873949",
            "e8eba942070e410b8ee76b8eb680ae2b",
            "485d8dfd3c534ee1b3387eac3a3581e7",
            "141807b3a3ad4f09b255a76453b46999",
            "72059e3dc13448419145ced13ee86658",
            "b3abd4158be94176a65b7aa12acfe5e7",
            "2a879920ea1d44408f458d41b60a4f96"
          ]
        },
        "id": "roxQVpZ5ftHg",
        "outputId": "172ae579-a8e5-4c3e-ca0a-6d840f8debae"
      },
      "execution_count": 10,
      "outputs": [
        {
          "output_type": "stream",
          "name": "stderr",
          "text": [
            "Downloading: \"https://github.com/pytorch/vision/archive/v0.10.0.zip\" to /root/.cache/torch/hub/v0.10.0.zip\n",
            "Downloading: \"https://download.pytorch.org/models/densenet121-a639ec97.pth\" to /root/.cache/torch/hub/checkpoints/densenet121-a639ec97.pth\n"
          ]
        },
        {
          "output_type": "display_data",
          "data": {
            "text/plain": [
              "  0%|          | 0.00/30.8M [00:00<?, ?B/s]"
            ],
            "application/vnd.jupyter.widget-view+json": {
              "version_major": 2,
              "version_minor": 0,
              "model_id": "3c7c6a63b1ab42cb8cce59460589df59"
            }
          },
          "metadata": {}
        },
        {
          "output_type": "execute_result",
          "data": {
            "text/plain": [
              "DenseNet(\n",
              "  (features): Sequential(\n",
              "    (conv0): Conv2d(3, 64, kernel_size=(7, 7), stride=(2, 2), padding=(3, 3), bias=False)\n",
              "    (norm0): BatchNorm2d(64, eps=1e-05, momentum=0.1, affine=True, track_running_stats=True)\n",
              "    (relu0): ReLU(inplace=True)\n",
              "    (pool0): MaxPool2d(kernel_size=3, stride=2, padding=1, dilation=1, ceil_mode=False)\n",
              "    (denseblock1): _DenseBlock(\n",
              "      (denselayer1): _DenseLayer(\n",
              "        (norm1): BatchNorm2d(64, eps=1e-05, momentum=0.1, affine=True, track_running_stats=True)\n",
              "        (relu1): ReLU(inplace=True)\n",
              "        (conv1): Conv2d(64, 128, kernel_size=(1, 1), stride=(1, 1), bias=False)\n",
              "        (norm2): BatchNorm2d(128, eps=1e-05, momentum=0.1, affine=True, track_running_stats=True)\n",
              "        (relu2): ReLU(inplace=True)\n",
              "        (conv2): Conv2d(128, 32, kernel_size=(3, 3), stride=(1, 1), padding=(1, 1), bias=False)\n",
              "      )\n",
              "      (denselayer2): _DenseLayer(\n",
              "        (norm1): BatchNorm2d(96, eps=1e-05, momentum=0.1, affine=True, track_running_stats=True)\n",
              "        (relu1): ReLU(inplace=True)\n",
              "        (conv1): Conv2d(96, 128, kernel_size=(1, 1), stride=(1, 1), bias=False)\n",
              "        (norm2): BatchNorm2d(128, eps=1e-05, momentum=0.1, affine=True, track_running_stats=True)\n",
              "        (relu2): ReLU(inplace=True)\n",
              "        (conv2): Conv2d(128, 32, kernel_size=(3, 3), stride=(1, 1), padding=(1, 1), bias=False)\n",
              "      )\n",
              "      (denselayer3): _DenseLayer(\n",
              "        (norm1): BatchNorm2d(128, eps=1e-05, momentum=0.1, affine=True, track_running_stats=True)\n",
              "        (relu1): ReLU(inplace=True)\n",
              "        (conv1): Conv2d(128, 128, kernel_size=(1, 1), stride=(1, 1), bias=False)\n",
              "        (norm2): BatchNorm2d(128, eps=1e-05, momentum=0.1, affine=True, track_running_stats=True)\n",
              "        (relu2): ReLU(inplace=True)\n",
              "        (conv2): Conv2d(128, 32, kernel_size=(3, 3), stride=(1, 1), padding=(1, 1), bias=False)\n",
              "      )\n",
              "      (denselayer4): _DenseLayer(\n",
              "        (norm1): BatchNorm2d(160, eps=1e-05, momentum=0.1, affine=True, track_running_stats=True)\n",
              "        (relu1): ReLU(inplace=True)\n",
              "        (conv1): Conv2d(160, 128, kernel_size=(1, 1), stride=(1, 1), bias=False)\n",
              "        (norm2): BatchNorm2d(128, eps=1e-05, momentum=0.1, affine=True, track_running_stats=True)\n",
              "        (relu2): ReLU(inplace=True)\n",
              "        (conv2): Conv2d(128, 32, kernel_size=(3, 3), stride=(1, 1), padding=(1, 1), bias=False)\n",
              "      )\n",
              "      (denselayer5): _DenseLayer(\n",
              "        (norm1): BatchNorm2d(192, eps=1e-05, momentum=0.1, affine=True, track_running_stats=True)\n",
              "        (relu1): ReLU(inplace=True)\n",
              "        (conv1): Conv2d(192, 128, kernel_size=(1, 1), stride=(1, 1), bias=False)\n",
              "        (norm2): BatchNorm2d(128, eps=1e-05, momentum=0.1, affine=True, track_running_stats=True)\n",
              "        (relu2): ReLU(inplace=True)\n",
              "        (conv2): Conv2d(128, 32, kernel_size=(3, 3), stride=(1, 1), padding=(1, 1), bias=False)\n",
              "      )\n",
              "      (denselayer6): _DenseLayer(\n",
              "        (norm1): BatchNorm2d(224, eps=1e-05, momentum=0.1, affine=True, track_running_stats=True)\n",
              "        (relu1): ReLU(inplace=True)\n",
              "        (conv1): Conv2d(224, 128, kernel_size=(1, 1), stride=(1, 1), bias=False)\n",
              "        (norm2): BatchNorm2d(128, eps=1e-05, momentum=0.1, affine=True, track_running_stats=True)\n",
              "        (relu2): ReLU(inplace=True)\n",
              "        (conv2): Conv2d(128, 32, kernel_size=(3, 3), stride=(1, 1), padding=(1, 1), bias=False)\n",
              "      )\n",
              "    )\n",
              "    (transition1): _Transition(\n",
              "      (norm): BatchNorm2d(256, eps=1e-05, momentum=0.1, affine=True, track_running_stats=True)\n",
              "      (relu): ReLU(inplace=True)\n",
              "      (conv): Conv2d(256, 128, kernel_size=(1, 1), stride=(1, 1), bias=False)\n",
              "      (pool): AvgPool2d(kernel_size=2, stride=2, padding=0)\n",
              "    )\n",
              "    (denseblock2): _DenseBlock(\n",
              "      (denselayer1): _DenseLayer(\n",
              "        (norm1): BatchNorm2d(128, eps=1e-05, momentum=0.1, affine=True, track_running_stats=True)\n",
              "        (relu1): ReLU(inplace=True)\n",
              "        (conv1): Conv2d(128, 128, kernel_size=(1, 1), stride=(1, 1), bias=False)\n",
              "        (norm2): BatchNorm2d(128, eps=1e-05, momentum=0.1, affine=True, track_running_stats=True)\n",
              "        (relu2): ReLU(inplace=True)\n",
              "        (conv2): Conv2d(128, 32, kernel_size=(3, 3), stride=(1, 1), padding=(1, 1), bias=False)\n",
              "      )\n",
              "      (denselayer2): _DenseLayer(\n",
              "        (norm1): BatchNorm2d(160, eps=1e-05, momentum=0.1, affine=True, track_running_stats=True)\n",
              "        (relu1): ReLU(inplace=True)\n",
              "        (conv1): Conv2d(160, 128, kernel_size=(1, 1), stride=(1, 1), bias=False)\n",
              "        (norm2): BatchNorm2d(128, eps=1e-05, momentum=0.1, affine=True, track_running_stats=True)\n",
              "        (relu2): ReLU(inplace=True)\n",
              "        (conv2): Conv2d(128, 32, kernel_size=(3, 3), stride=(1, 1), padding=(1, 1), bias=False)\n",
              "      )\n",
              "      (denselayer3): _DenseLayer(\n",
              "        (norm1): BatchNorm2d(192, eps=1e-05, momentum=0.1, affine=True, track_running_stats=True)\n",
              "        (relu1): ReLU(inplace=True)\n",
              "        (conv1): Conv2d(192, 128, kernel_size=(1, 1), stride=(1, 1), bias=False)\n",
              "        (norm2): BatchNorm2d(128, eps=1e-05, momentum=0.1, affine=True, track_running_stats=True)\n",
              "        (relu2): ReLU(inplace=True)\n",
              "        (conv2): Conv2d(128, 32, kernel_size=(3, 3), stride=(1, 1), padding=(1, 1), bias=False)\n",
              "      )\n",
              "      (denselayer4): _DenseLayer(\n",
              "        (norm1): BatchNorm2d(224, eps=1e-05, momentum=0.1, affine=True, track_running_stats=True)\n",
              "        (relu1): ReLU(inplace=True)\n",
              "        (conv1): Conv2d(224, 128, kernel_size=(1, 1), stride=(1, 1), bias=False)\n",
              "        (norm2): BatchNorm2d(128, eps=1e-05, momentum=0.1, affine=True, track_running_stats=True)\n",
              "        (relu2): ReLU(inplace=True)\n",
              "        (conv2): Conv2d(128, 32, kernel_size=(3, 3), stride=(1, 1), padding=(1, 1), bias=False)\n",
              "      )\n",
              "      (denselayer5): _DenseLayer(\n",
              "        (norm1): BatchNorm2d(256, eps=1e-05, momentum=0.1, affine=True, track_running_stats=True)\n",
              "        (relu1): ReLU(inplace=True)\n",
              "        (conv1): Conv2d(256, 128, kernel_size=(1, 1), stride=(1, 1), bias=False)\n",
              "        (norm2): BatchNorm2d(128, eps=1e-05, momentum=0.1, affine=True, track_running_stats=True)\n",
              "        (relu2): ReLU(inplace=True)\n",
              "        (conv2): Conv2d(128, 32, kernel_size=(3, 3), stride=(1, 1), padding=(1, 1), bias=False)\n",
              "      )\n",
              "      (denselayer6): _DenseLayer(\n",
              "        (norm1): BatchNorm2d(288, eps=1e-05, momentum=0.1, affine=True, track_running_stats=True)\n",
              "        (relu1): ReLU(inplace=True)\n",
              "        (conv1): Conv2d(288, 128, kernel_size=(1, 1), stride=(1, 1), bias=False)\n",
              "        (norm2): BatchNorm2d(128, eps=1e-05, momentum=0.1, affine=True, track_running_stats=True)\n",
              "        (relu2): ReLU(inplace=True)\n",
              "        (conv2): Conv2d(128, 32, kernel_size=(3, 3), stride=(1, 1), padding=(1, 1), bias=False)\n",
              "      )\n",
              "      (denselayer7): _DenseLayer(\n",
              "        (norm1): BatchNorm2d(320, eps=1e-05, momentum=0.1, affine=True, track_running_stats=True)\n",
              "        (relu1): ReLU(inplace=True)\n",
              "        (conv1): Conv2d(320, 128, kernel_size=(1, 1), stride=(1, 1), bias=False)\n",
              "        (norm2): BatchNorm2d(128, eps=1e-05, momentum=0.1, affine=True, track_running_stats=True)\n",
              "        (relu2): ReLU(inplace=True)\n",
              "        (conv2): Conv2d(128, 32, kernel_size=(3, 3), stride=(1, 1), padding=(1, 1), bias=False)\n",
              "      )\n",
              "      (denselayer8): _DenseLayer(\n",
              "        (norm1): BatchNorm2d(352, eps=1e-05, momentum=0.1, affine=True, track_running_stats=True)\n",
              "        (relu1): ReLU(inplace=True)\n",
              "        (conv1): Conv2d(352, 128, kernel_size=(1, 1), stride=(1, 1), bias=False)\n",
              "        (norm2): BatchNorm2d(128, eps=1e-05, momentum=0.1, affine=True, track_running_stats=True)\n",
              "        (relu2): ReLU(inplace=True)\n",
              "        (conv2): Conv2d(128, 32, kernel_size=(3, 3), stride=(1, 1), padding=(1, 1), bias=False)\n",
              "      )\n",
              "      (denselayer9): _DenseLayer(\n",
              "        (norm1): BatchNorm2d(384, eps=1e-05, momentum=0.1, affine=True, track_running_stats=True)\n",
              "        (relu1): ReLU(inplace=True)\n",
              "        (conv1): Conv2d(384, 128, kernel_size=(1, 1), stride=(1, 1), bias=False)\n",
              "        (norm2): BatchNorm2d(128, eps=1e-05, momentum=0.1, affine=True, track_running_stats=True)\n",
              "        (relu2): ReLU(inplace=True)\n",
              "        (conv2): Conv2d(128, 32, kernel_size=(3, 3), stride=(1, 1), padding=(1, 1), bias=False)\n",
              "      )\n",
              "      (denselayer10): _DenseLayer(\n",
              "        (norm1): BatchNorm2d(416, eps=1e-05, momentum=0.1, affine=True, track_running_stats=True)\n",
              "        (relu1): ReLU(inplace=True)\n",
              "        (conv1): Conv2d(416, 128, kernel_size=(1, 1), stride=(1, 1), bias=False)\n",
              "        (norm2): BatchNorm2d(128, eps=1e-05, momentum=0.1, affine=True, track_running_stats=True)\n",
              "        (relu2): ReLU(inplace=True)\n",
              "        (conv2): Conv2d(128, 32, kernel_size=(3, 3), stride=(1, 1), padding=(1, 1), bias=False)\n",
              "      )\n",
              "      (denselayer11): _DenseLayer(\n",
              "        (norm1): BatchNorm2d(448, eps=1e-05, momentum=0.1, affine=True, track_running_stats=True)\n",
              "        (relu1): ReLU(inplace=True)\n",
              "        (conv1): Conv2d(448, 128, kernel_size=(1, 1), stride=(1, 1), bias=False)\n",
              "        (norm2): BatchNorm2d(128, eps=1e-05, momentum=0.1, affine=True, track_running_stats=True)\n",
              "        (relu2): ReLU(inplace=True)\n",
              "        (conv2): Conv2d(128, 32, kernel_size=(3, 3), stride=(1, 1), padding=(1, 1), bias=False)\n",
              "      )\n",
              "      (denselayer12): _DenseLayer(\n",
              "        (norm1): BatchNorm2d(480, eps=1e-05, momentum=0.1, affine=True, track_running_stats=True)\n",
              "        (relu1): ReLU(inplace=True)\n",
              "        (conv1): Conv2d(480, 128, kernel_size=(1, 1), stride=(1, 1), bias=False)\n",
              "        (norm2): BatchNorm2d(128, eps=1e-05, momentum=0.1, affine=True, track_running_stats=True)\n",
              "        (relu2): ReLU(inplace=True)\n",
              "        (conv2): Conv2d(128, 32, kernel_size=(3, 3), stride=(1, 1), padding=(1, 1), bias=False)\n",
              "      )\n",
              "    )\n",
              "    (transition2): _Transition(\n",
              "      (norm): BatchNorm2d(512, eps=1e-05, momentum=0.1, affine=True, track_running_stats=True)\n",
              "      (relu): ReLU(inplace=True)\n",
              "      (conv): Conv2d(512, 256, kernel_size=(1, 1), stride=(1, 1), bias=False)\n",
              "      (pool): AvgPool2d(kernel_size=2, stride=2, padding=0)\n",
              "    )\n",
              "    (denseblock3): _DenseBlock(\n",
              "      (denselayer1): _DenseLayer(\n",
              "        (norm1): BatchNorm2d(256, eps=1e-05, momentum=0.1, affine=True, track_running_stats=True)\n",
              "        (relu1): ReLU(inplace=True)\n",
              "        (conv1): Conv2d(256, 128, kernel_size=(1, 1), stride=(1, 1), bias=False)\n",
              "        (norm2): BatchNorm2d(128, eps=1e-05, momentum=0.1, affine=True, track_running_stats=True)\n",
              "        (relu2): ReLU(inplace=True)\n",
              "        (conv2): Conv2d(128, 32, kernel_size=(3, 3), stride=(1, 1), padding=(1, 1), bias=False)\n",
              "      )\n",
              "      (denselayer2): _DenseLayer(\n",
              "        (norm1): BatchNorm2d(288, eps=1e-05, momentum=0.1, affine=True, track_running_stats=True)\n",
              "        (relu1): ReLU(inplace=True)\n",
              "        (conv1): Conv2d(288, 128, kernel_size=(1, 1), stride=(1, 1), bias=False)\n",
              "        (norm2): BatchNorm2d(128, eps=1e-05, momentum=0.1, affine=True, track_running_stats=True)\n",
              "        (relu2): ReLU(inplace=True)\n",
              "        (conv2): Conv2d(128, 32, kernel_size=(3, 3), stride=(1, 1), padding=(1, 1), bias=False)\n",
              "      )\n",
              "      (denselayer3): _DenseLayer(\n",
              "        (norm1): BatchNorm2d(320, eps=1e-05, momentum=0.1, affine=True, track_running_stats=True)\n",
              "        (relu1): ReLU(inplace=True)\n",
              "        (conv1): Conv2d(320, 128, kernel_size=(1, 1), stride=(1, 1), bias=False)\n",
              "        (norm2): BatchNorm2d(128, eps=1e-05, momentum=0.1, affine=True, track_running_stats=True)\n",
              "        (relu2): ReLU(inplace=True)\n",
              "        (conv2): Conv2d(128, 32, kernel_size=(3, 3), stride=(1, 1), padding=(1, 1), bias=False)\n",
              "      )\n",
              "      (denselayer4): _DenseLayer(\n",
              "        (norm1): BatchNorm2d(352, eps=1e-05, momentum=0.1, affine=True, track_running_stats=True)\n",
              "        (relu1): ReLU(inplace=True)\n",
              "        (conv1): Conv2d(352, 128, kernel_size=(1, 1), stride=(1, 1), bias=False)\n",
              "        (norm2): BatchNorm2d(128, eps=1e-05, momentum=0.1, affine=True, track_running_stats=True)\n",
              "        (relu2): ReLU(inplace=True)\n",
              "        (conv2): Conv2d(128, 32, kernel_size=(3, 3), stride=(1, 1), padding=(1, 1), bias=False)\n",
              "      )\n",
              "      (denselayer5): _DenseLayer(\n",
              "        (norm1): BatchNorm2d(384, eps=1e-05, momentum=0.1, affine=True, track_running_stats=True)\n",
              "        (relu1): ReLU(inplace=True)\n",
              "        (conv1): Conv2d(384, 128, kernel_size=(1, 1), stride=(1, 1), bias=False)\n",
              "        (norm2): BatchNorm2d(128, eps=1e-05, momentum=0.1, affine=True, track_running_stats=True)\n",
              "        (relu2): ReLU(inplace=True)\n",
              "        (conv2): Conv2d(128, 32, kernel_size=(3, 3), stride=(1, 1), padding=(1, 1), bias=False)\n",
              "      )\n",
              "      (denselayer6): _DenseLayer(\n",
              "        (norm1): BatchNorm2d(416, eps=1e-05, momentum=0.1, affine=True, track_running_stats=True)\n",
              "        (relu1): ReLU(inplace=True)\n",
              "        (conv1): Conv2d(416, 128, kernel_size=(1, 1), stride=(1, 1), bias=False)\n",
              "        (norm2): BatchNorm2d(128, eps=1e-05, momentum=0.1, affine=True, track_running_stats=True)\n",
              "        (relu2): ReLU(inplace=True)\n",
              "        (conv2): Conv2d(128, 32, kernel_size=(3, 3), stride=(1, 1), padding=(1, 1), bias=False)\n",
              "      )\n",
              "      (denselayer7): _DenseLayer(\n",
              "        (norm1): BatchNorm2d(448, eps=1e-05, momentum=0.1, affine=True, track_running_stats=True)\n",
              "        (relu1): ReLU(inplace=True)\n",
              "        (conv1): Conv2d(448, 128, kernel_size=(1, 1), stride=(1, 1), bias=False)\n",
              "        (norm2): BatchNorm2d(128, eps=1e-05, momentum=0.1, affine=True, track_running_stats=True)\n",
              "        (relu2): ReLU(inplace=True)\n",
              "        (conv2): Conv2d(128, 32, kernel_size=(3, 3), stride=(1, 1), padding=(1, 1), bias=False)\n",
              "      )\n",
              "      (denselayer8): _DenseLayer(\n",
              "        (norm1): BatchNorm2d(480, eps=1e-05, momentum=0.1, affine=True, track_running_stats=True)\n",
              "        (relu1): ReLU(inplace=True)\n",
              "        (conv1): Conv2d(480, 128, kernel_size=(1, 1), stride=(1, 1), bias=False)\n",
              "        (norm2): BatchNorm2d(128, eps=1e-05, momentum=0.1, affine=True, track_running_stats=True)\n",
              "        (relu2): ReLU(inplace=True)\n",
              "        (conv2): Conv2d(128, 32, kernel_size=(3, 3), stride=(1, 1), padding=(1, 1), bias=False)\n",
              "      )\n",
              "      (denselayer9): _DenseLayer(\n",
              "        (norm1): BatchNorm2d(512, eps=1e-05, momentum=0.1, affine=True, track_running_stats=True)\n",
              "        (relu1): ReLU(inplace=True)\n",
              "        (conv1): Conv2d(512, 128, kernel_size=(1, 1), stride=(1, 1), bias=False)\n",
              "        (norm2): BatchNorm2d(128, eps=1e-05, momentum=0.1, affine=True, track_running_stats=True)\n",
              "        (relu2): ReLU(inplace=True)\n",
              "        (conv2): Conv2d(128, 32, kernel_size=(3, 3), stride=(1, 1), padding=(1, 1), bias=False)\n",
              "      )\n",
              "      (denselayer10): _DenseLayer(\n",
              "        (norm1): BatchNorm2d(544, eps=1e-05, momentum=0.1, affine=True, track_running_stats=True)\n",
              "        (relu1): ReLU(inplace=True)\n",
              "        (conv1): Conv2d(544, 128, kernel_size=(1, 1), stride=(1, 1), bias=False)\n",
              "        (norm2): BatchNorm2d(128, eps=1e-05, momentum=0.1, affine=True, track_running_stats=True)\n",
              "        (relu2): ReLU(inplace=True)\n",
              "        (conv2): Conv2d(128, 32, kernel_size=(3, 3), stride=(1, 1), padding=(1, 1), bias=False)\n",
              "      )\n",
              "      (denselayer11): _DenseLayer(\n",
              "        (norm1): BatchNorm2d(576, eps=1e-05, momentum=0.1, affine=True, track_running_stats=True)\n",
              "        (relu1): ReLU(inplace=True)\n",
              "        (conv1): Conv2d(576, 128, kernel_size=(1, 1), stride=(1, 1), bias=False)\n",
              "        (norm2): BatchNorm2d(128, eps=1e-05, momentum=0.1, affine=True, track_running_stats=True)\n",
              "        (relu2): ReLU(inplace=True)\n",
              "        (conv2): Conv2d(128, 32, kernel_size=(3, 3), stride=(1, 1), padding=(1, 1), bias=False)\n",
              "      )\n",
              "      (denselayer12): _DenseLayer(\n",
              "        (norm1): BatchNorm2d(608, eps=1e-05, momentum=0.1, affine=True, track_running_stats=True)\n",
              "        (relu1): ReLU(inplace=True)\n",
              "        (conv1): Conv2d(608, 128, kernel_size=(1, 1), stride=(1, 1), bias=False)\n",
              "        (norm2): BatchNorm2d(128, eps=1e-05, momentum=0.1, affine=True, track_running_stats=True)\n",
              "        (relu2): ReLU(inplace=True)\n",
              "        (conv2): Conv2d(128, 32, kernel_size=(3, 3), stride=(1, 1), padding=(1, 1), bias=False)\n",
              "      )\n",
              "      (denselayer13): _DenseLayer(\n",
              "        (norm1): BatchNorm2d(640, eps=1e-05, momentum=0.1, affine=True, track_running_stats=True)\n",
              "        (relu1): ReLU(inplace=True)\n",
              "        (conv1): Conv2d(640, 128, kernel_size=(1, 1), stride=(1, 1), bias=False)\n",
              "        (norm2): BatchNorm2d(128, eps=1e-05, momentum=0.1, affine=True, track_running_stats=True)\n",
              "        (relu2): ReLU(inplace=True)\n",
              "        (conv2): Conv2d(128, 32, kernel_size=(3, 3), stride=(1, 1), padding=(1, 1), bias=False)\n",
              "      )\n",
              "      (denselayer14): _DenseLayer(\n",
              "        (norm1): BatchNorm2d(672, eps=1e-05, momentum=0.1, affine=True, track_running_stats=True)\n",
              "        (relu1): ReLU(inplace=True)\n",
              "        (conv1): Conv2d(672, 128, kernel_size=(1, 1), stride=(1, 1), bias=False)\n",
              "        (norm2): BatchNorm2d(128, eps=1e-05, momentum=0.1, affine=True, track_running_stats=True)\n",
              "        (relu2): ReLU(inplace=True)\n",
              "        (conv2): Conv2d(128, 32, kernel_size=(3, 3), stride=(1, 1), padding=(1, 1), bias=False)\n",
              "      )\n",
              "      (denselayer15): _DenseLayer(\n",
              "        (norm1): BatchNorm2d(704, eps=1e-05, momentum=0.1, affine=True, track_running_stats=True)\n",
              "        (relu1): ReLU(inplace=True)\n",
              "        (conv1): Conv2d(704, 128, kernel_size=(1, 1), stride=(1, 1), bias=False)\n",
              "        (norm2): BatchNorm2d(128, eps=1e-05, momentum=0.1, affine=True, track_running_stats=True)\n",
              "        (relu2): ReLU(inplace=True)\n",
              "        (conv2): Conv2d(128, 32, kernel_size=(3, 3), stride=(1, 1), padding=(1, 1), bias=False)\n",
              "      )\n",
              "      (denselayer16): _DenseLayer(\n",
              "        (norm1): BatchNorm2d(736, eps=1e-05, momentum=0.1, affine=True, track_running_stats=True)\n",
              "        (relu1): ReLU(inplace=True)\n",
              "        (conv1): Conv2d(736, 128, kernel_size=(1, 1), stride=(1, 1), bias=False)\n",
              "        (norm2): BatchNorm2d(128, eps=1e-05, momentum=0.1, affine=True, track_running_stats=True)\n",
              "        (relu2): ReLU(inplace=True)\n",
              "        (conv2): Conv2d(128, 32, kernel_size=(3, 3), stride=(1, 1), padding=(1, 1), bias=False)\n",
              "      )\n",
              "      (denselayer17): _DenseLayer(\n",
              "        (norm1): BatchNorm2d(768, eps=1e-05, momentum=0.1, affine=True, track_running_stats=True)\n",
              "        (relu1): ReLU(inplace=True)\n",
              "        (conv1): Conv2d(768, 128, kernel_size=(1, 1), stride=(1, 1), bias=False)\n",
              "        (norm2): BatchNorm2d(128, eps=1e-05, momentum=0.1, affine=True, track_running_stats=True)\n",
              "        (relu2): ReLU(inplace=True)\n",
              "        (conv2): Conv2d(128, 32, kernel_size=(3, 3), stride=(1, 1), padding=(1, 1), bias=False)\n",
              "      )\n",
              "      (denselayer18): _DenseLayer(\n",
              "        (norm1): BatchNorm2d(800, eps=1e-05, momentum=0.1, affine=True, track_running_stats=True)\n",
              "        (relu1): ReLU(inplace=True)\n",
              "        (conv1): Conv2d(800, 128, kernel_size=(1, 1), stride=(1, 1), bias=False)\n",
              "        (norm2): BatchNorm2d(128, eps=1e-05, momentum=0.1, affine=True, track_running_stats=True)\n",
              "        (relu2): ReLU(inplace=True)\n",
              "        (conv2): Conv2d(128, 32, kernel_size=(3, 3), stride=(1, 1), padding=(1, 1), bias=False)\n",
              "      )\n",
              "      (denselayer19): _DenseLayer(\n",
              "        (norm1): BatchNorm2d(832, eps=1e-05, momentum=0.1, affine=True, track_running_stats=True)\n",
              "        (relu1): ReLU(inplace=True)\n",
              "        (conv1): Conv2d(832, 128, kernel_size=(1, 1), stride=(1, 1), bias=False)\n",
              "        (norm2): BatchNorm2d(128, eps=1e-05, momentum=0.1, affine=True, track_running_stats=True)\n",
              "        (relu2): ReLU(inplace=True)\n",
              "        (conv2): Conv2d(128, 32, kernel_size=(3, 3), stride=(1, 1), padding=(1, 1), bias=False)\n",
              "      )\n",
              "      (denselayer20): _DenseLayer(\n",
              "        (norm1): BatchNorm2d(864, eps=1e-05, momentum=0.1, affine=True, track_running_stats=True)\n",
              "        (relu1): ReLU(inplace=True)\n",
              "        (conv1): Conv2d(864, 128, kernel_size=(1, 1), stride=(1, 1), bias=False)\n",
              "        (norm2): BatchNorm2d(128, eps=1e-05, momentum=0.1, affine=True, track_running_stats=True)\n",
              "        (relu2): ReLU(inplace=True)\n",
              "        (conv2): Conv2d(128, 32, kernel_size=(3, 3), stride=(1, 1), padding=(1, 1), bias=False)\n",
              "      )\n",
              "      (denselayer21): _DenseLayer(\n",
              "        (norm1): BatchNorm2d(896, eps=1e-05, momentum=0.1, affine=True, track_running_stats=True)\n",
              "        (relu1): ReLU(inplace=True)\n",
              "        (conv1): Conv2d(896, 128, kernel_size=(1, 1), stride=(1, 1), bias=False)\n",
              "        (norm2): BatchNorm2d(128, eps=1e-05, momentum=0.1, affine=True, track_running_stats=True)\n",
              "        (relu2): ReLU(inplace=True)\n",
              "        (conv2): Conv2d(128, 32, kernel_size=(3, 3), stride=(1, 1), padding=(1, 1), bias=False)\n",
              "      )\n",
              "      (denselayer22): _DenseLayer(\n",
              "        (norm1): BatchNorm2d(928, eps=1e-05, momentum=0.1, affine=True, track_running_stats=True)\n",
              "        (relu1): ReLU(inplace=True)\n",
              "        (conv1): Conv2d(928, 128, kernel_size=(1, 1), stride=(1, 1), bias=False)\n",
              "        (norm2): BatchNorm2d(128, eps=1e-05, momentum=0.1, affine=True, track_running_stats=True)\n",
              "        (relu2): ReLU(inplace=True)\n",
              "        (conv2): Conv2d(128, 32, kernel_size=(3, 3), stride=(1, 1), padding=(1, 1), bias=False)\n",
              "      )\n",
              "      (denselayer23): _DenseLayer(\n",
              "        (norm1): BatchNorm2d(960, eps=1e-05, momentum=0.1, affine=True, track_running_stats=True)\n",
              "        (relu1): ReLU(inplace=True)\n",
              "        (conv1): Conv2d(960, 128, kernel_size=(1, 1), stride=(1, 1), bias=False)\n",
              "        (norm2): BatchNorm2d(128, eps=1e-05, momentum=0.1, affine=True, track_running_stats=True)\n",
              "        (relu2): ReLU(inplace=True)\n",
              "        (conv2): Conv2d(128, 32, kernel_size=(3, 3), stride=(1, 1), padding=(1, 1), bias=False)\n",
              "      )\n",
              "      (denselayer24): _DenseLayer(\n",
              "        (norm1): BatchNorm2d(992, eps=1e-05, momentum=0.1, affine=True, track_running_stats=True)\n",
              "        (relu1): ReLU(inplace=True)\n",
              "        (conv1): Conv2d(992, 128, kernel_size=(1, 1), stride=(1, 1), bias=False)\n",
              "        (norm2): BatchNorm2d(128, eps=1e-05, momentum=0.1, affine=True, track_running_stats=True)\n",
              "        (relu2): ReLU(inplace=True)\n",
              "        (conv2): Conv2d(128, 32, kernel_size=(3, 3), stride=(1, 1), padding=(1, 1), bias=False)\n",
              "      )\n",
              "    )\n",
              "    (transition3): _Transition(\n",
              "      (norm): BatchNorm2d(1024, eps=1e-05, momentum=0.1, affine=True, track_running_stats=True)\n",
              "      (relu): ReLU(inplace=True)\n",
              "      (conv): Conv2d(1024, 512, kernel_size=(1, 1), stride=(1, 1), bias=False)\n",
              "      (pool): AvgPool2d(kernel_size=2, stride=2, padding=0)\n",
              "    )\n",
              "    (denseblock4): _DenseBlock(\n",
              "      (denselayer1): _DenseLayer(\n",
              "        (norm1): BatchNorm2d(512, eps=1e-05, momentum=0.1, affine=True, track_running_stats=True)\n",
              "        (relu1): ReLU(inplace=True)\n",
              "        (conv1): Conv2d(512, 128, kernel_size=(1, 1), stride=(1, 1), bias=False)\n",
              "        (norm2): BatchNorm2d(128, eps=1e-05, momentum=0.1, affine=True, track_running_stats=True)\n",
              "        (relu2): ReLU(inplace=True)\n",
              "        (conv2): Conv2d(128, 32, kernel_size=(3, 3), stride=(1, 1), padding=(1, 1), bias=False)\n",
              "      )\n",
              "      (denselayer2): _DenseLayer(\n",
              "        (norm1): BatchNorm2d(544, eps=1e-05, momentum=0.1, affine=True, track_running_stats=True)\n",
              "        (relu1): ReLU(inplace=True)\n",
              "        (conv1): Conv2d(544, 128, kernel_size=(1, 1), stride=(1, 1), bias=False)\n",
              "        (norm2): BatchNorm2d(128, eps=1e-05, momentum=0.1, affine=True, track_running_stats=True)\n",
              "        (relu2): ReLU(inplace=True)\n",
              "        (conv2): Conv2d(128, 32, kernel_size=(3, 3), stride=(1, 1), padding=(1, 1), bias=False)\n",
              "      )\n",
              "      (denselayer3): _DenseLayer(\n",
              "        (norm1): BatchNorm2d(576, eps=1e-05, momentum=0.1, affine=True, track_running_stats=True)\n",
              "        (relu1): ReLU(inplace=True)\n",
              "        (conv1): Conv2d(576, 128, kernel_size=(1, 1), stride=(1, 1), bias=False)\n",
              "        (norm2): BatchNorm2d(128, eps=1e-05, momentum=0.1, affine=True, track_running_stats=True)\n",
              "        (relu2): ReLU(inplace=True)\n",
              "        (conv2): Conv2d(128, 32, kernel_size=(3, 3), stride=(1, 1), padding=(1, 1), bias=False)\n",
              "      )\n",
              "      (denselayer4): _DenseLayer(\n",
              "        (norm1): BatchNorm2d(608, eps=1e-05, momentum=0.1, affine=True, track_running_stats=True)\n",
              "        (relu1): ReLU(inplace=True)\n",
              "        (conv1): Conv2d(608, 128, kernel_size=(1, 1), stride=(1, 1), bias=False)\n",
              "        (norm2): BatchNorm2d(128, eps=1e-05, momentum=0.1, affine=True, track_running_stats=True)\n",
              "        (relu2): ReLU(inplace=True)\n",
              "        (conv2): Conv2d(128, 32, kernel_size=(3, 3), stride=(1, 1), padding=(1, 1), bias=False)\n",
              "      )\n",
              "      (denselayer5): _DenseLayer(\n",
              "        (norm1): BatchNorm2d(640, eps=1e-05, momentum=0.1, affine=True, track_running_stats=True)\n",
              "        (relu1): ReLU(inplace=True)\n",
              "        (conv1): Conv2d(640, 128, kernel_size=(1, 1), stride=(1, 1), bias=False)\n",
              "        (norm2): BatchNorm2d(128, eps=1e-05, momentum=0.1, affine=True, track_running_stats=True)\n",
              "        (relu2): ReLU(inplace=True)\n",
              "        (conv2): Conv2d(128, 32, kernel_size=(3, 3), stride=(1, 1), padding=(1, 1), bias=False)\n",
              "      )\n",
              "      (denselayer6): _DenseLayer(\n",
              "        (norm1): BatchNorm2d(672, eps=1e-05, momentum=0.1, affine=True, track_running_stats=True)\n",
              "        (relu1): ReLU(inplace=True)\n",
              "        (conv1): Conv2d(672, 128, kernel_size=(1, 1), stride=(1, 1), bias=False)\n",
              "        (norm2): BatchNorm2d(128, eps=1e-05, momentum=0.1, affine=True, track_running_stats=True)\n",
              "        (relu2): ReLU(inplace=True)\n",
              "        (conv2): Conv2d(128, 32, kernel_size=(3, 3), stride=(1, 1), padding=(1, 1), bias=False)\n",
              "      )\n",
              "      (denselayer7): _DenseLayer(\n",
              "        (norm1): BatchNorm2d(704, eps=1e-05, momentum=0.1, affine=True, track_running_stats=True)\n",
              "        (relu1): ReLU(inplace=True)\n",
              "        (conv1): Conv2d(704, 128, kernel_size=(1, 1), stride=(1, 1), bias=False)\n",
              "        (norm2): BatchNorm2d(128, eps=1e-05, momentum=0.1, affine=True, track_running_stats=True)\n",
              "        (relu2): ReLU(inplace=True)\n",
              "        (conv2): Conv2d(128, 32, kernel_size=(3, 3), stride=(1, 1), padding=(1, 1), bias=False)\n",
              "      )\n",
              "      (denselayer8): _DenseLayer(\n",
              "        (norm1): BatchNorm2d(736, eps=1e-05, momentum=0.1, affine=True, track_running_stats=True)\n",
              "        (relu1): ReLU(inplace=True)\n",
              "        (conv1): Conv2d(736, 128, kernel_size=(1, 1), stride=(1, 1), bias=False)\n",
              "        (norm2): BatchNorm2d(128, eps=1e-05, momentum=0.1, affine=True, track_running_stats=True)\n",
              "        (relu2): ReLU(inplace=True)\n",
              "        (conv2): Conv2d(128, 32, kernel_size=(3, 3), stride=(1, 1), padding=(1, 1), bias=False)\n",
              "      )\n",
              "      (denselayer9): _DenseLayer(\n",
              "        (norm1): BatchNorm2d(768, eps=1e-05, momentum=0.1, affine=True, track_running_stats=True)\n",
              "        (relu1): ReLU(inplace=True)\n",
              "        (conv1): Conv2d(768, 128, kernel_size=(1, 1), stride=(1, 1), bias=False)\n",
              "        (norm2): BatchNorm2d(128, eps=1e-05, momentum=0.1, affine=True, track_running_stats=True)\n",
              "        (relu2): ReLU(inplace=True)\n",
              "        (conv2): Conv2d(128, 32, kernel_size=(3, 3), stride=(1, 1), padding=(1, 1), bias=False)\n",
              "      )\n",
              "      (denselayer10): _DenseLayer(\n",
              "        (norm1): BatchNorm2d(800, eps=1e-05, momentum=0.1, affine=True, track_running_stats=True)\n",
              "        (relu1): ReLU(inplace=True)\n",
              "        (conv1): Conv2d(800, 128, kernel_size=(1, 1), stride=(1, 1), bias=False)\n",
              "        (norm2): BatchNorm2d(128, eps=1e-05, momentum=0.1, affine=True, track_running_stats=True)\n",
              "        (relu2): ReLU(inplace=True)\n",
              "        (conv2): Conv2d(128, 32, kernel_size=(3, 3), stride=(1, 1), padding=(1, 1), bias=False)\n",
              "      )\n",
              "      (denselayer11): _DenseLayer(\n",
              "        (norm1): BatchNorm2d(832, eps=1e-05, momentum=0.1, affine=True, track_running_stats=True)\n",
              "        (relu1): ReLU(inplace=True)\n",
              "        (conv1): Conv2d(832, 128, kernel_size=(1, 1), stride=(1, 1), bias=False)\n",
              "        (norm2): BatchNorm2d(128, eps=1e-05, momentum=0.1, affine=True, track_running_stats=True)\n",
              "        (relu2): ReLU(inplace=True)\n",
              "        (conv2): Conv2d(128, 32, kernel_size=(3, 3), stride=(1, 1), padding=(1, 1), bias=False)\n",
              "      )\n",
              "      (denselayer12): _DenseLayer(\n",
              "        (norm1): BatchNorm2d(864, eps=1e-05, momentum=0.1, affine=True, track_running_stats=True)\n",
              "        (relu1): ReLU(inplace=True)\n",
              "        (conv1): Conv2d(864, 128, kernel_size=(1, 1), stride=(1, 1), bias=False)\n",
              "        (norm2): BatchNorm2d(128, eps=1e-05, momentum=0.1, affine=True, track_running_stats=True)\n",
              "        (relu2): ReLU(inplace=True)\n",
              "        (conv2): Conv2d(128, 32, kernel_size=(3, 3), stride=(1, 1), padding=(1, 1), bias=False)\n",
              "      )\n",
              "      (denselayer13): _DenseLayer(\n",
              "        (norm1): BatchNorm2d(896, eps=1e-05, momentum=0.1, affine=True, track_running_stats=True)\n",
              "        (relu1): ReLU(inplace=True)\n",
              "        (conv1): Conv2d(896, 128, kernel_size=(1, 1), stride=(1, 1), bias=False)\n",
              "        (norm2): BatchNorm2d(128, eps=1e-05, momentum=0.1, affine=True, track_running_stats=True)\n",
              "        (relu2): ReLU(inplace=True)\n",
              "        (conv2): Conv2d(128, 32, kernel_size=(3, 3), stride=(1, 1), padding=(1, 1), bias=False)\n",
              "      )\n",
              "      (denselayer14): _DenseLayer(\n",
              "        (norm1): BatchNorm2d(928, eps=1e-05, momentum=0.1, affine=True, track_running_stats=True)\n",
              "        (relu1): ReLU(inplace=True)\n",
              "        (conv1): Conv2d(928, 128, kernel_size=(1, 1), stride=(1, 1), bias=False)\n",
              "        (norm2): BatchNorm2d(128, eps=1e-05, momentum=0.1, affine=True, track_running_stats=True)\n",
              "        (relu2): ReLU(inplace=True)\n",
              "        (conv2): Conv2d(128, 32, kernel_size=(3, 3), stride=(1, 1), padding=(1, 1), bias=False)\n",
              "      )\n",
              "      (denselayer15): _DenseLayer(\n",
              "        (norm1): BatchNorm2d(960, eps=1e-05, momentum=0.1, affine=True, track_running_stats=True)\n",
              "        (relu1): ReLU(inplace=True)\n",
              "        (conv1): Conv2d(960, 128, kernel_size=(1, 1), stride=(1, 1), bias=False)\n",
              "        (norm2): BatchNorm2d(128, eps=1e-05, momentum=0.1, affine=True, track_running_stats=True)\n",
              "        (relu2): ReLU(inplace=True)\n",
              "        (conv2): Conv2d(128, 32, kernel_size=(3, 3), stride=(1, 1), padding=(1, 1), bias=False)\n",
              "      )\n",
              "      (denselayer16): _DenseLayer(\n",
              "        (norm1): BatchNorm2d(992, eps=1e-05, momentum=0.1, affine=True, track_running_stats=True)\n",
              "        (relu1): ReLU(inplace=True)\n",
              "        (conv1): Conv2d(992, 128, kernel_size=(1, 1), stride=(1, 1), bias=False)\n",
              "        (norm2): BatchNorm2d(128, eps=1e-05, momentum=0.1, affine=True, track_running_stats=True)\n",
              "        (relu2): ReLU(inplace=True)\n",
              "        (conv2): Conv2d(128, 32, kernel_size=(3, 3), stride=(1, 1), padding=(1, 1), bias=False)\n",
              "      )\n",
              "    )\n",
              "    (norm5): BatchNorm2d(1024, eps=1e-05, momentum=0.1, affine=True, track_running_stats=True)\n",
              "  )\n",
              "  (classifier): Linear(in_features=1024, out_features=10, bias=True)\n",
              ")"
            ]
          },
          "metadata": {},
          "execution_count": 10
        }
      ]
    },
    {
      "cell_type": "code",
      "source": [
        "# Send the model to GPU\n",
        "model = model.to(device)"
      ],
      "metadata": {
        "id": "NTcbUzq1tYf2"
      },
      "execution_count": 11,
      "outputs": []
    },
    {
      "cell_type": "code",
      "source": [
        "'''\n",
        "Gather the parameters to be optimized/updated in this run. If we are\n",
        "finetuning we will be updating all parameters. However, if we are\n",
        "doing feature extract method, we will only update the parameters\n",
        "that we will initialize, i.e. the parameters with requires_grad\n",
        "is True\n",
        "'''\n",
        "\n",
        "params_to_update = model.parameters()\n",
        "print(\"Params to learn:\")\n",
        "\n",
        "if feature_extract:\n",
        "  params_to_update = []\n",
        "  for name, param in model.named_parameters():\n",
        "    if param.requires_grad == True:\n",
        "      params_to_update.append(param)\n",
        "      print(\"\\t\",name)\n",
        "else:\n",
        "  for name, param in model.named_parameters():\n",
        "    if param.requires_grad == True:\n",
        "      print(\"\\t\",name)\n",
        "\n",
        "# Observe that all parameters are being optimized\n",
        "optimizer = optim.SGD(params_to_update, lr=0.001, momentum=0.9)"
      ],
      "metadata": {
        "colab": {
          "base_uri": "https://localhost:8080/"
        },
        "id": "VUhB8VhZftJ3",
        "outputId": "893bd370-3c85-4f7b-81c2-bfa1d820059a"
      },
      "execution_count": 12,
      "outputs": [
        {
          "output_type": "stream",
          "name": "stdout",
          "text": [
            "Params to learn:\n",
            "\t classifier.weight\n",
            "\t classifier.bias\n"
          ]
        }
      ]
    },
    {
      "cell_type": "code",
      "source": [
        "# Setup the loss fxn\n",
        "criterion = nn.CrossEntropyLoss()\n",
        "\n",
        "# Train and evaluate\n",
        "model, train_history, val_history = train_model(model, criterion, optimizer,\n",
        "                                                data_loaders, batch_size,\n",
        "                                                num_epochs)"
      ],
      "metadata": {
        "colab": {
          "base_uri": "https://localhost:8080/"
        },
        "id": "6Rq9MtDhftLt",
        "outputId": "f642fc7a-1222-4e33-e02a-0c76f2592cc1"
      },
      "execution_count": 13,
      "outputs": [
        {
          "output_type": "stream",
          "name": "stdout",
          "text": [
            "Epoch 0/29\n"
          ]
        },
        {
          "output_type": "stream",
          "name": "stderr",
          "text": [
            "100%|██████████| 1875/1875 [02:00<00:00, 15.61it/s]\n"
          ]
        },
        {
          "output_type": "stream",
          "name": "stdout",
          "text": [
            "--------------------------------------------------\n",
            "train Loss: 0.6903  Acc: 0.7795\n",
            "\n",
            "\n"
          ]
        },
        {
          "output_type": "stream",
          "name": "stderr",
          "text": [
            "100%|██████████| 313/313 [00:18<00:00, 16.49it/s]\n"
          ]
        },
        {
          "output_type": "stream",
          "name": "stdout",
          "text": [
            "--------------------------------------------------\n",
            "val Loss: 0.5186  Acc: 0.8205\n",
            "\n",
            "\n",
            "Epoch 1/29\n"
          ]
        },
        {
          "output_type": "stream",
          "name": "stderr",
          "text": [
            "100%|██████████| 1875/1875 [01:59<00:00, 15.63it/s]\n"
          ]
        },
        {
          "output_type": "stream",
          "name": "stdout",
          "text": [
            "--------------------------------------------------\n",
            "train Loss: 0.5000  Acc: 0.8274\n",
            "\n",
            "\n"
          ]
        },
        {
          "output_type": "stream",
          "name": "stderr",
          "text": [
            "100%|██████████| 313/313 [00:19<00:00, 16.46it/s]\n"
          ]
        },
        {
          "output_type": "stream",
          "name": "stdout",
          "text": [
            "--------------------------------------------------\n",
            "val Loss: 0.4681  Acc: 0.8351\n",
            "\n",
            "\n",
            "Epoch 2/29\n"
          ]
        },
        {
          "output_type": "stream",
          "name": "stderr",
          "text": [
            "100%|██████████| 1875/1875 [01:59<00:00, 15.63it/s]\n"
          ]
        },
        {
          "output_type": "stream",
          "name": "stdout",
          "text": [
            "--------------------------------------------------\n",
            "train Loss: 0.4675  Acc: 0.8360\n",
            "\n",
            "\n"
          ]
        },
        {
          "output_type": "stream",
          "name": "stderr",
          "text": [
            "100%|██████████| 313/313 [00:19<00:00, 16.46it/s]\n"
          ]
        },
        {
          "output_type": "stream",
          "name": "stdout",
          "text": [
            "--------------------------------------------------\n",
            "val Loss: 0.4483  Acc: 0.8383\n",
            "\n",
            "\n",
            "Epoch 3/29\n"
          ]
        },
        {
          "output_type": "stream",
          "name": "stderr",
          "text": [
            "100%|██████████| 1875/1875 [02:00<00:00, 15.60it/s]\n"
          ]
        },
        {
          "output_type": "stream",
          "name": "stdout",
          "text": [
            "--------------------------------------------------\n",
            "train Loss: 0.4478  Acc: 0.8443\n",
            "\n",
            "\n"
          ]
        },
        {
          "output_type": "stream",
          "name": "stderr",
          "text": [
            "100%|██████████| 313/313 [00:19<00:00, 16.37it/s]\n"
          ]
        },
        {
          "output_type": "stream",
          "name": "stdout",
          "text": [
            "--------------------------------------------------\n",
            "val Loss: 0.4321  Acc: 0.8436\n",
            "\n",
            "\n",
            "Epoch 4/29\n"
          ]
        },
        {
          "output_type": "stream",
          "name": "stderr",
          "text": [
            "100%|██████████| 1875/1875 [02:00<00:00, 15.59it/s]\n"
          ]
        },
        {
          "output_type": "stream",
          "name": "stdout",
          "text": [
            "--------------------------------------------------\n",
            "train Loss: 0.4410  Acc: 0.8432\n",
            "\n",
            "\n"
          ]
        },
        {
          "output_type": "stream",
          "name": "stderr",
          "text": [
            "100%|██████████| 313/313 [00:18<00:00, 16.55it/s]\n"
          ]
        },
        {
          "output_type": "stream",
          "name": "stdout",
          "text": [
            "--------------------------------------------------\n",
            "val Loss: 0.4277  Acc: 0.8451\n",
            "\n",
            "\n",
            "Epoch 5/29\n"
          ]
        },
        {
          "output_type": "stream",
          "name": "stderr",
          "text": [
            "100%|██████████| 1875/1875 [01:59<00:00, 15.64it/s]\n"
          ]
        },
        {
          "output_type": "stream",
          "name": "stdout",
          "text": [
            "--------------------------------------------------\n",
            "train Loss: 0.4328  Acc: 0.8461\n",
            "\n",
            "\n"
          ]
        },
        {
          "output_type": "stream",
          "name": "stderr",
          "text": [
            "100%|██████████| 313/313 [00:18<00:00, 16.47it/s]\n"
          ]
        },
        {
          "output_type": "stream",
          "name": "stdout",
          "text": [
            "--------------------------------------------------\n",
            "val Loss: 0.4255  Acc: 0.8493\n",
            "\n",
            "\n",
            "Epoch 6/29\n"
          ]
        },
        {
          "output_type": "stream",
          "name": "stderr",
          "text": [
            "100%|██████████| 1875/1875 [01:59<00:00, 15.64it/s]\n"
          ]
        },
        {
          "output_type": "stream",
          "name": "stdout",
          "text": [
            "--------------------------------------------------\n",
            "train Loss: 0.4254  Acc: 0.8482\n",
            "\n",
            "\n"
          ]
        },
        {
          "output_type": "stream",
          "name": "stderr",
          "text": [
            "100%|██████████| 313/313 [00:19<00:00, 16.47it/s]\n"
          ]
        },
        {
          "output_type": "stream",
          "name": "stdout",
          "text": [
            "--------------------------------------------------\n",
            "val Loss: 0.4319  Acc: 0.8480\n",
            "\n",
            "\n",
            "Epoch 7/29\n"
          ]
        },
        {
          "output_type": "stream",
          "name": "stderr",
          "text": [
            "100%|██████████| 1875/1875 [01:59<00:00, 15.63it/s]\n"
          ]
        },
        {
          "output_type": "stream",
          "name": "stdout",
          "text": [
            "--------------------------------------------------\n",
            "train Loss: 0.4195  Acc: 0.8510\n",
            "\n",
            "\n"
          ]
        },
        {
          "output_type": "stream",
          "name": "stderr",
          "text": [
            "100%|██████████| 313/313 [00:18<00:00, 16.49it/s]\n"
          ]
        },
        {
          "output_type": "stream",
          "name": "stdout",
          "text": [
            "--------------------------------------------------\n",
            "val Loss: 0.4241  Acc: 0.8484\n",
            "\n",
            "\n",
            "Epoch 8/29\n"
          ]
        },
        {
          "output_type": "stream",
          "name": "stderr",
          "text": [
            "100%|██████████| 1875/1875 [02:00<00:00, 15.62it/s]\n"
          ]
        },
        {
          "output_type": "stream",
          "name": "stdout",
          "text": [
            "--------------------------------------------------\n",
            "train Loss: 0.4165  Acc: 0.8515\n",
            "\n",
            "\n"
          ]
        },
        {
          "output_type": "stream",
          "name": "stderr",
          "text": [
            "100%|██████████| 313/313 [00:18<00:00, 16.52it/s]\n"
          ]
        },
        {
          "output_type": "stream",
          "name": "stdout",
          "text": [
            "--------------------------------------------------\n",
            "val Loss: 0.4179  Acc: 0.8476\n",
            "\n",
            "\n",
            "Epoch 9/29\n"
          ]
        },
        {
          "output_type": "stream",
          "name": "stderr",
          "text": [
            "100%|██████████| 1875/1875 [01:59<00:00, 15.64it/s]\n"
          ]
        },
        {
          "output_type": "stream",
          "name": "stdout",
          "text": [
            "--------------------------------------------------\n",
            "train Loss: 0.4123  Acc: 0.8534\n",
            "\n",
            "\n"
          ]
        },
        {
          "output_type": "stream",
          "name": "stderr",
          "text": [
            "100%|██████████| 313/313 [00:18<00:00, 16.48it/s]\n"
          ]
        },
        {
          "output_type": "stream",
          "name": "stdout",
          "text": [
            "--------------------------------------------------\n",
            "val Loss: 0.4109  Acc: 0.8537\n",
            "\n",
            "\n",
            "Epoch 10/29\n"
          ]
        },
        {
          "output_type": "stream",
          "name": "stderr",
          "text": [
            "100%|██████████| 1875/1875 [01:59<00:00, 15.63it/s]\n"
          ]
        },
        {
          "output_type": "stream",
          "name": "stdout",
          "text": [
            "--------------------------------------------------\n",
            "train Loss: 0.4102  Acc: 0.8539\n",
            "\n",
            "\n"
          ]
        },
        {
          "output_type": "stream",
          "name": "stderr",
          "text": [
            "100%|██████████| 313/313 [00:18<00:00, 16.50it/s]\n"
          ]
        },
        {
          "output_type": "stream",
          "name": "stdout",
          "text": [
            "--------------------------------------------------\n",
            "val Loss: 0.4071  Acc: 0.8548\n",
            "\n",
            "\n",
            "Epoch 11/29\n"
          ]
        },
        {
          "output_type": "stream",
          "name": "stderr",
          "text": [
            "100%|██████████| 1875/1875 [01:59<00:00, 15.63it/s]\n"
          ]
        },
        {
          "output_type": "stream",
          "name": "stdout",
          "text": [
            "--------------------------------------------------\n",
            "train Loss: 0.4072  Acc: 0.8562\n",
            "\n",
            "\n"
          ]
        },
        {
          "output_type": "stream",
          "name": "stderr",
          "text": [
            "100%|██████████| 313/313 [00:18<00:00, 16.51it/s]\n"
          ]
        },
        {
          "output_type": "stream",
          "name": "stdout",
          "text": [
            "--------------------------------------------------\n",
            "val Loss: 0.4069  Acc: 0.8569\n",
            "\n",
            "\n",
            "Epoch 12/29\n"
          ]
        },
        {
          "output_type": "stream",
          "name": "stderr",
          "text": [
            "100%|██████████| 1875/1875 [01:59<00:00, 15.64it/s]\n"
          ]
        },
        {
          "output_type": "stream",
          "name": "stdout",
          "text": [
            "--------------------------------------------------\n",
            "train Loss: 0.4084  Acc: 0.8545\n",
            "\n",
            "\n"
          ]
        },
        {
          "output_type": "stream",
          "name": "stderr",
          "text": [
            "100%|██████████| 313/313 [00:18<00:00, 16.47it/s]\n"
          ]
        },
        {
          "output_type": "stream",
          "name": "stdout",
          "text": [
            "--------------------------------------------------\n",
            "val Loss: 0.4047  Acc: 0.8555\n",
            "\n",
            "\n",
            "Epoch 13/29\n"
          ]
        },
        {
          "output_type": "stream",
          "name": "stderr",
          "text": [
            "100%|██████████| 1875/1875 [01:59<00:00, 15.63it/s]\n"
          ]
        },
        {
          "output_type": "stream",
          "name": "stdout",
          "text": [
            "--------------------------------------------------\n",
            "train Loss: 0.4026  Acc: 0.8565\n",
            "\n",
            "\n"
          ]
        },
        {
          "output_type": "stream",
          "name": "stderr",
          "text": [
            "100%|██████████| 313/313 [00:19<00:00, 16.40it/s]\n"
          ]
        },
        {
          "output_type": "stream",
          "name": "stdout",
          "text": [
            "--------------------------------------------------\n",
            "val Loss: 0.4095  Acc: 0.8535\n",
            "\n",
            "\n",
            "Epoch 14/29\n"
          ]
        },
        {
          "output_type": "stream",
          "name": "stderr",
          "text": [
            "100%|██████████| 1875/1875 [01:59<00:00, 15.63it/s]\n"
          ]
        },
        {
          "output_type": "stream",
          "name": "stdout",
          "text": [
            "--------------------------------------------------\n",
            "train Loss: 0.4033  Acc: 0.8575\n",
            "\n",
            "\n"
          ]
        },
        {
          "output_type": "stream",
          "name": "stderr",
          "text": [
            "100%|██████████| 313/313 [00:18<00:00, 16.48it/s]\n"
          ]
        },
        {
          "output_type": "stream",
          "name": "stdout",
          "text": [
            "--------------------------------------------------\n",
            "val Loss: 0.4169  Acc: 0.8487\n",
            "\n",
            "\n",
            "Epoch 15/29\n"
          ]
        },
        {
          "output_type": "stream",
          "name": "stderr",
          "text": [
            "100%|██████████| 1875/1875 [02:00<00:00, 15.62it/s]\n"
          ]
        },
        {
          "output_type": "stream",
          "name": "stdout",
          "text": [
            "--------------------------------------------------\n",
            "train Loss: 0.4003  Acc: 0.8573\n",
            "\n",
            "\n"
          ]
        },
        {
          "output_type": "stream",
          "name": "stderr",
          "text": [
            "100%|██████████| 313/313 [00:19<00:00, 16.45it/s]\n"
          ]
        },
        {
          "output_type": "stream",
          "name": "stdout",
          "text": [
            "--------------------------------------------------\n",
            "val Loss: 0.4011  Acc: 0.8564\n",
            "\n",
            "\n",
            "Epoch 16/29\n"
          ]
        },
        {
          "output_type": "stream",
          "name": "stderr",
          "text": [
            "100%|██████████| 1875/1875 [01:59<00:00, 15.63it/s]\n"
          ]
        },
        {
          "output_type": "stream",
          "name": "stdout",
          "text": [
            "--------------------------------------------------\n",
            "train Loss: 0.3998  Acc: 0.8572\n",
            "\n",
            "\n"
          ]
        },
        {
          "output_type": "stream",
          "name": "stderr",
          "text": [
            "100%|██████████| 313/313 [00:19<00:00, 16.46it/s]\n"
          ]
        },
        {
          "output_type": "stream",
          "name": "stdout",
          "text": [
            "--------------------------------------------------\n",
            "val Loss: 0.4038  Acc: 0.8561\n",
            "\n",
            "\n",
            "Epoch 17/29\n"
          ]
        },
        {
          "output_type": "stream",
          "name": "stderr",
          "text": [
            "100%|██████████| 1875/1875 [02:00<00:00, 15.60it/s]\n"
          ]
        },
        {
          "output_type": "stream",
          "name": "stdout",
          "text": [
            "--------------------------------------------------\n",
            "train Loss: 0.3988  Acc: 0.8583\n",
            "\n",
            "\n"
          ]
        },
        {
          "output_type": "stream",
          "name": "stderr",
          "text": [
            "100%|██████████| 313/313 [00:18<00:00, 16.48it/s]\n"
          ]
        },
        {
          "output_type": "stream",
          "name": "stdout",
          "text": [
            "--------------------------------------------------\n",
            "val Loss: 0.4054  Acc: 0.8565\n",
            "\n",
            "\n",
            "Epoch 18/29\n"
          ]
        },
        {
          "output_type": "stream",
          "name": "stderr",
          "text": [
            "100%|██████████| 1875/1875 [02:00<00:00, 15.62it/s]\n"
          ]
        },
        {
          "output_type": "stream",
          "name": "stdout",
          "text": [
            "--------------------------------------------------\n",
            "train Loss: 0.3945  Acc: 0.8596\n",
            "\n",
            "\n"
          ]
        },
        {
          "output_type": "stream",
          "name": "stderr",
          "text": [
            "100%|██████████| 313/313 [00:19<00:00, 16.45it/s]\n"
          ]
        },
        {
          "output_type": "stream",
          "name": "stdout",
          "text": [
            "--------------------------------------------------\n",
            "val Loss: 0.4006  Acc: 0.8585\n",
            "\n",
            "\n",
            "Epoch 19/29\n"
          ]
        },
        {
          "output_type": "stream",
          "name": "stderr",
          "text": [
            "100%|██████████| 1875/1875 [02:00<00:00, 15.62it/s]\n"
          ]
        },
        {
          "output_type": "stream",
          "name": "stdout",
          "text": [
            "--------------------------------------------------\n",
            "train Loss: 0.3967  Acc: 0.8578\n",
            "\n",
            "\n"
          ]
        },
        {
          "output_type": "stream",
          "name": "stderr",
          "text": [
            "100%|██████████| 313/313 [00:18<00:00, 16.52it/s]\n"
          ]
        },
        {
          "output_type": "stream",
          "name": "stdout",
          "text": [
            "--------------------------------------------------\n",
            "val Loss: 0.4165  Acc: 0.8482\n",
            "\n",
            "\n",
            "Epoch 20/29\n"
          ]
        },
        {
          "output_type": "stream",
          "name": "stderr",
          "text": [
            "100%|██████████| 1875/1875 [02:00<00:00, 15.61it/s]\n"
          ]
        },
        {
          "output_type": "stream",
          "name": "stdout",
          "text": [
            "--------------------------------------------------\n",
            "train Loss: 0.3941  Acc: 0.8589\n",
            "\n",
            "\n"
          ]
        },
        {
          "output_type": "stream",
          "name": "stderr",
          "text": [
            "100%|██████████| 313/313 [00:18<00:00, 16.49it/s]\n"
          ]
        },
        {
          "output_type": "stream",
          "name": "stdout",
          "text": [
            "--------------------------------------------------\n",
            "val Loss: 0.4007  Acc: 0.8572\n",
            "\n",
            "\n",
            "Epoch 21/29\n"
          ]
        },
        {
          "output_type": "stream",
          "name": "stderr",
          "text": [
            "100%|██████████| 1875/1875 [02:00<00:00, 15.62it/s]\n"
          ]
        },
        {
          "output_type": "stream",
          "name": "stdout",
          "text": [
            "--------------------------------------------------\n",
            "train Loss: 0.3932  Acc: 0.8586\n",
            "\n",
            "\n"
          ]
        },
        {
          "output_type": "stream",
          "name": "stderr",
          "text": [
            "100%|██████████| 313/313 [00:19<00:00, 16.46it/s]\n"
          ]
        },
        {
          "output_type": "stream",
          "name": "stdout",
          "text": [
            "--------------------------------------------------\n",
            "val Loss: 0.3972  Acc: 0.8591\n",
            "\n",
            "\n",
            "Epoch 22/29\n"
          ]
        },
        {
          "output_type": "stream",
          "name": "stderr",
          "text": [
            "100%|██████████| 1875/1875 [02:00<00:00, 15.61it/s]\n"
          ]
        },
        {
          "output_type": "stream",
          "name": "stdout",
          "text": [
            "--------------------------------------------------\n",
            "train Loss: 0.3906  Acc: 0.8590\n",
            "\n",
            "\n"
          ]
        },
        {
          "output_type": "stream",
          "name": "stderr",
          "text": [
            "100%|██████████| 313/313 [00:19<00:00, 16.46it/s]\n"
          ]
        },
        {
          "output_type": "stream",
          "name": "stdout",
          "text": [
            "--------------------------------------------------\n",
            "val Loss: 0.4000  Acc: 0.8581\n",
            "\n",
            "\n",
            "Epoch 23/29\n"
          ]
        },
        {
          "output_type": "stream",
          "name": "stderr",
          "text": [
            "100%|██████████| 1875/1875 [02:00<00:00, 15.61it/s]\n"
          ]
        },
        {
          "output_type": "stream",
          "name": "stdout",
          "text": [
            "--------------------------------------------------\n",
            "train Loss: 0.3924  Acc: 0.8594\n",
            "\n",
            "\n"
          ]
        },
        {
          "output_type": "stream",
          "name": "stderr",
          "text": [
            "100%|██████████| 313/313 [00:19<00:00, 16.47it/s]\n"
          ]
        },
        {
          "output_type": "stream",
          "name": "stdout",
          "text": [
            "--------------------------------------------------\n",
            "val Loss: 0.4016  Acc: 0.8549\n",
            "\n",
            "\n",
            "Epoch 24/29\n"
          ]
        },
        {
          "output_type": "stream",
          "name": "stderr",
          "text": [
            "100%|██████████| 1875/1875 [02:00<00:00, 15.61it/s]\n"
          ]
        },
        {
          "output_type": "stream",
          "name": "stdout",
          "text": [
            "--------------------------------------------------\n",
            "train Loss: 0.3911  Acc: 0.8612\n",
            "\n",
            "\n"
          ]
        },
        {
          "output_type": "stream",
          "name": "stderr",
          "text": [
            "100%|██████████| 313/313 [00:18<00:00, 16.48it/s]\n"
          ]
        },
        {
          "output_type": "stream",
          "name": "stdout",
          "text": [
            "--------------------------------------------------\n",
            "val Loss: 0.3998  Acc: 0.8552\n",
            "\n",
            "\n",
            "Epoch 25/29\n"
          ]
        },
        {
          "output_type": "stream",
          "name": "stderr",
          "text": [
            "100%|██████████| 1875/1875 [02:00<00:00, 15.62it/s]\n"
          ]
        },
        {
          "output_type": "stream",
          "name": "stdout",
          "text": [
            "--------------------------------------------------\n",
            "train Loss: 0.3906  Acc: 0.8601\n",
            "\n",
            "\n"
          ]
        },
        {
          "output_type": "stream",
          "name": "stderr",
          "text": [
            "100%|██████████| 313/313 [00:19<00:00, 16.42it/s]\n"
          ]
        },
        {
          "output_type": "stream",
          "name": "stdout",
          "text": [
            "--------------------------------------------------\n",
            "val Loss: 0.3999  Acc: 0.8605\n",
            "\n",
            "\n",
            "Epoch 26/29\n"
          ]
        },
        {
          "output_type": "stream",
          "name": "stderr",
          "text": [
            "100%|██████████| 1875/1875 [02:00<00:00, 15.61it/s]\n"
          ]
        },
        {
          "output_type": "stream",
          "name": "stdout",
          "text": [
            "--------------------------------------------------\n",
            "train Loss: 0.3916  Acc: 0.8617\n",
            "\n",
            "\n"
          ]
        },
        {
          "output_type": "stream",
          "name": "stderr",
          "text": [
            "100%|██████████| 313/313 [00:18<00:00, 16.49it/s]\n"
          ]
        },
        {
          "output_type": "stream",
          "name": "stdout",
          "text": [
            "--------------------------------------------------\n",
            "val Loss: 0.4209  Acc: 0.8527\n",
            "\n",
            "\n",
            "Epoch 27/29\n"
          ]
        },
        {
          "output_type": "stream",
          "name": "stderr",
          "text": [
            "100%|██████████| 1875/1875 [02:00<00:00, 15.60it/s]\n"
          ]
        },
        {
          "output_type": "stream",
          "name": "stdout",
          "text": [
            "--------------------------------------------------\n",
            "train Loss: 0.3902  Acc: 0.8608\n",
            "\n",
            "\n"
          ]
        },
        {
          "output_type": "stream",
          "name": "stderr",
          "text": [
            "100%|██████████| 313/313 [00:19<00:00, 16.47it/s]\n"
          ]
        },
        {
          "output_type": "stream",
          "name": "stdout",
          "text": [
            "--------------------------------------------------\n",
            "val Loss: 0.4061  Acc: 0.8555\n",
            "\n",
            "\n",
            "Epoch 28/29\n"
          ]
        },
        {
          "output_type": "stream",
          "name": "stderr",
          "text": [
            "100%|██████████| 1875/1875 [02:00<00:00, 15.61it/s]\n"
          ]
        },
        {
          "output_type": "stream",
          "name": "stdout",
          "text": [
            "--------------------------------------------------\n",
            "train Loss: 0.3872  Acc: 0.8595\n",
            "\n",
            "\n"
          ]
        },
        {
          "output_type": "stream",
          "name": "stderr",
          "text": [
            "100%|██████████| 313/313 [00:19<00:00, 16.45it/s]\n"
          ]
        },
        {
          "output_type": "stream",
          "name": "stdout",
          "text": [
            "--------------------------------------------------\n",
            "val Loss: 0.4018  Acc: 0.8579\n",
            "\n",
            "\n",
            "Epoch 29/29\n"
          ]
        },
        {
          "output_type": "stream",
          "name": "stderr",
          "text": [
            "100%|██████████| 1875/1875 [02:00<00:00, 15.61it/s]\n"
          ]
        },
        {
          "output_type": "stream",
          "name": "stdout",
          "text": [
            "--------------------------------------------------\n",
            "train Loss: 0.3881  Acc: 0.8609\n",
            "\n",
            "\n"
          ]
        },
        {
          "output_type": "stream",
          "name": "stderr",
          "text": [
            "100%|██████████| 313/313 [00:19<00:00, 16.44it/s]\n"
          ]
        },
        {
          "output_type": "stream",
          "name": "stdout",
          "text": [
            "--------------------------------------------------\n",
            "val Loss: 0.3967  Acc: 0.8600\n",
            "\n",
            "\n",
            "Training complete in 69m 32s\n",
            "Best val Acc: 0.860500\n"
          ]
        }
      ]
    },
    {
      "cell_type": "code",
      "source": [
        "visualize_acc_hist(train_history, val_history)"
      ],
      "metadata": {
        "colab": {
          "base_uri": "https://localhost:8080/",
          "height": 677
        },
        "id": "Susq2m2ofsXm",
        "outputId": "5f147fe7-d90e-4d05-b529-dd4dd9ec8a4f"
      },
      "execution_count": 14,
      "outputs": [
        {
          "output_type": "stream",
          "name": "stdout",
          "text": [
            "Training accuracy [0.78  0.827 0.836 0.844 0.843 0.846 0.848 0.851 0.852 0.853 0.854 0.856\n",
            " 0.855 0.857 0.857 0.857 0.857 0.858 0.86  0.858 0.859 0.859 0.859 0.859\n",
            " 0.861 0.86  0.862 0.861 0.86  0.861]\n",
            "Validation accuracy [0.82  0.835 0.838 0.844 0.845 0.849 0.848 0.848 0.848 0.854 0.855 0.857\n",
            " 0.856 0.854 0.849 0.856 0.856 0.856 0.858 0.848 0.857 0.859 0.858 0.855\n",
            " 0.855 0.86  0.853 0.856 0.858 0.86 ]\n"
          ]
        },
        {
          "output_type": "display_data",
          "data": {
            "text/plain": [
              "<Figure size 1080x648 with 1 Axes>"
            ],
            "image/png": "[encoded data removed]"
          },
          "metadata": {
            "needs_background": "light"
          }
        }
      ]
    },
    {
      "cell_type": "code",
      "source": [
        "test_labels = []\n",
        "predict_labels = []\n",
        "\n",
        "for inputs, labels in tqdm(data_loaders['val']):\n",
        "  test_labels.extend(list(labels.detach().cpu().numpy()))\n",
        "\n",
        "  inputs = inputs.to(device)\n",
        "  labels = labels.to(device)\n",
        "\n",
        "  predicted = model(inputs)\n",
        "  _, preds = torch.max(predicted, 1)\n",
        "  predict_labels.extend(list(preds.detach().cpu().numpy()))\n",
        "\n",
        "print(test_labels)\n",
        "print(predict_labels)"
      ],
      "metadata": {
        "colab": {
          "base_uri": "https://localhost:8080/"
        },
        "id": "4A5bbh_QHeDU",
        "outputId": "a0901607-8cae-4fb0-c9d4-1156e9644e56"
      },
      "execution_count": 15,
      "outputs": [
        {
          "output_type": "stream",
          "name": "stderr",
          "text": [
            "100%|██████████| 313/313 [00:18<00:00, 16.57it/s]"
          ]
        },
        {
          "output_type": "stream",
          "name": "stdout",
          "text": [
            "[9, 2, 1, 1, 6, 1, 4, 6, 5, 7, 4, 5, 7, 3, 4, 1, 2, 4, 8, 0, 2, 5, 7, 9, 1, 4, 6, 0, 9, 3, 8, 8, 3, 3, 8, 0, 7, 5, 7, 9, 6, 1, 3, 7, 6, 7, 2, 1, 2, 2, 4, 4, 5, 8, 2, 2, 8, 4, 8, 0, 7, 7, 8, 5, 1, 1, 2, 3, 9, 8, 7, 0, 2, 6, 2, 3, 1, 2, 8, 4, 1, 8, 5, 9, 5, 0, 3, 2, 0, 6, 5, 3, 6, 7, 1, 8, 0, 1, 4, 2, 3, 6, 7, 2, 7, 8, 5, 9, 9, 4, 2, 5, 7, 0, 5, 2, 8, 6, 7, 8, 0, 0, 9, 9, 3, 0, 8, 4, 1, 5, 4, 1, 9, 1, 8, 6, 2, 1, 2, 5, 1, 0, 0, 0, 1, 6, 1, 6, 2, 2, 4, 4, 1, 4, 5, 0, 4, 7, 9, 3, 7, 2, 3, 9, 0, 9, 4, 7, 4, 2, 0, 5, 2, 1, 2, 1, 3, 0, 9, 1, 0, 9, 3, 6, 7, 9, 9, 4, 4, 7, 1, 2, 1, 6, 3, 2, 8, 3, 6, 1, 1, 0, 2, 9, 2, 4, 0, 7, 9, 8, 4, 1, 8, 4, 1, 3, 1, 6, 7, 2, 8, 5, 2, 0, 7, 7, 6, 2, 7, 0, 7, 8, 9, 2, 9, 0, 5, 1, 4, 4, 5, 6, 9, 2, 6, 8, 6, 4, 2, 2, 9, 7, 6, 5, 5, 2, 8, 5, 2, 3, 0, 4, 8, 0, 0, 6, 3, 8, 9, 6, 1, 3, 0, 2, 3, 0, 8, 3, 7, 4, 0, 1, 6, 3, 0, 6, 6, 7, 5, 4, 5, 9, 5, 6, 5, 5, 1, 9, 8, 8, 3, 3, 6, 8, 0, 0, 2, 9, 7, 7, 1, 3, 6, 4, 2, 4, 9, 1, 6, 4, 8, 2, 6, 5, 4, 6, 7, 7, 7, 3, 3, 7, 0, 7, 1, 3, 7, 2, 2, 3, 4, 0, 3, 1, 6, 1, 9, 4, 9, 9, 1, 7, 8, 3, 6, 0, 2, 4, 8, 0, 1, 2, 2, 4, 4, 7, 3, 2, 2, 5, 0, 7, 9, 4, 0, 9, 3, 9, 4, 2, 5, 0, 2, 3, 5, 8, 1, 6, 2, 6, 6, 4, 9, 5, 2, 0, 4, 6, 1, 2, 0, 9, 7, 0, 4, 4, 6, 6, 2, 1, 0, 6, 7, 2, 9, 4, 2, 1, 5, 4, 5, 3, 8, 5, 8, 4, 4, 8, 9, 8, 6, 2, 4, 4, 2, 4, 1, 6, 1, 3, 0, 9, 8, 8, 6, 5, 3, 1, 9, 5, 3, 3, 0, 1, 0, 2, 9, 2, 0, 6, 3, 4, 2, 0, 0, 3, 3, 8, 2, 8, 9, 4, 0, 7, 6, 4, 4, 9, 2, 9, 5, 9, 3, 7, 5, 7, 8, 1, 0, 0, 3, 4, 8, 9, 7, 9, 1, 2, 7, 0, 2, 0, 5, 7, 1, 8, 2, 2, 2, 2, 4, 2, 6, 1, 9, 8, 5, 1, 9, 1, 2, 8, 3, 8, 9, 2, 4, 2, 8, 8, 2, 0, 5, 8, 8, 5, 3, 9, 4, 3, 4, 4, 5, 1, 0, 1, 2, 0, 6, 9, 6, 1, 5, 1, 1, 1, 9, 3, 4, 5, 3, 6, 6, 6, 4, 6, 0, 5, 8, 3, 3, 4, 6, 7, 7, 8, 9, 0, 3, 8, 7, 6, 7, 9, 3, 4, 6, 6, 5, 0, 1, 1, 5, 9, 4, 6, 5, 7, 8, 1, 2, 9, 7, 7, 1, 0, 9, 3, 2, 9, 0, 7, 6, 8, 2, 7, 0, 2, 3, 8, 2, 2, 6, 9, 3, 0, 7, 8, 6, 2, 9, 4, 2, 6, 6, 8, 0, 4, 4, 4, 7, 5, 8, 4, 9, 1, 0, 5, 4, 4, 4, 0, 0, 4, 5, 6, 0, 4, 5, 4, 1, 3, 1, 1, 6, 4, 3, 8, 2, 8, 2, 7, 0, 4, 0, 8, 5, 0, 8, 2, 9, 0, 8, 9, 6, 4, 2, 9, 3, 4, 5, 0, 9, 5, 3, 6, 6, 8, 3, 3, 8, 1, 4, 0, 9, 7, 9, 4, 8, 9, 1, 6, 7, 3, 0, 2, 6, 7, 1, 0, 0, 8, 5, 2, 6, 6, 6, 4, 1, 5, 9, 0, 2, 1, 6, 5, 0, 0, 3, 3, 3, 8, 1, 1, 8, 5, 7, 7, 8, 7, 2, 0, 7, 3, 8, 0, 9, 7, 6, 1, 2, 6, 4, 8, 0, 6, 3, 6, 8, 4, 0, 8, 9, 2, 4, 5, 9, 1, 4, 4, 9, 2, 1, 7, 9, 5, 8, 1, 7, 7, 1, 1, 1, 6, 9, 5, 3, 8, 4, 2, 7, 4, 8, 3, 2, 4, 4, 7, 1, 4, 9, 3, 5, 8, 5, 4, 7, 2, 8, 5, 9, 3, 3, 6, 7, 1, 7, 3, 5, 4, 4, 5, 8, 3, 7, 1, 2, 6, 1, 9, 8, 2, 7, 1, 3, 7, 5, 9, 9, 1, 8, 2, 5, 7, 1, 9, 8, 1, 0, 0, 6, 1, 7, 1, 1, 5, 7, 1, 5, 2, 2, 3, 3, 1, 1, 4, 9, 4, 3, 7, 7, 0, 8, 9, 9, 6, 1, 3, 4, 0, 0, 5, 9, 2, 0, 5, 5, 1, 5, 7, 8, 7, 5, 3, 6, 4, 0, 4, 0, 6, 0, 2, 5, 5, 1, 2, 0, 9, 3, 7, 8, 6, 8, 3, 4, 7, 0, 7, 4, 8, 0, 3, 4, 4, 3, 4, 9, 0, 6, 4, 9, 1, 8, 1, 7, 5, 5, 6, 0, 2, 1, 0, 5, 4, 0, 0, 6, 7, 5, 0, 3, 5, 9, 6, 8, 0, 6, 4, 6, 2, 9, 6, 7, 7, 1, 4, 2, 6, 5, 3, 9, 9, 8, 8, 3, 0, 2, 4, 6, 6, 3, 2, 3, 5, 4, 9, 3, 4, 7, 7, 0, 3, 5, 5, 6, 0, 5, 9, 6, 3, 7, 5, 1, 9, 8, 8, 9, 9, 2, 7, 2, 2, 3, 8, 7, 6, 4, 5, 4, 3, 6, 1, 4, 9, 3, 1, 6, 5, 0, 5, 7, 5, 2, 3, 3, 9, 6, 3, 6, 0, 4, 5, 0, 4, 9, 4, 6, 3, 6, 7, 0, 2, 1, 1, 4, 4, 8, 5, 9, 0, 1, 6, 5, 1, 4, 4, 8, 4, 7, 7, 3, 8, 1, 1, 9, 8, 1, 3, 3, 7, 5, 1, 5, 7, 8, 9, 6, 3, 5, 8, 4, 4, 3, 8, 4, 5, 5, 6, 7, 1, 5, 0, 5, 4, 8, 6, 2, 1, 1, 7, 9, 6, 2, 7, 0, 4, 8, 2, 2, 6, 6, 6, 4, 9, 6, 8, 4, 5, 9, 0, 3, 9, 4, 9, 8, 7, 4, 2, 2, 5, 3, 7, 6, 7, 2, 9, 3, 7, 0, 9, 4, 8, 6, 4, 7, 6, 4, 6, 2, 0, 7, 8, 4, 2, 6, 5, 5, 6, 4, 5, 5, 8, 1, 1, 7, 4, 6, 9, 6, 8, 7, 2, 2, 1, 2, 7, 7, 6, 9, 8, 5, 1, 1, 0, 2, 0, 9, 0, 1, 9, 6, 5, 5, 2, 0, 7, 0, 2, 0, 1, 3, 1, 3, 4, 7, 2, 4, 9, 5, 2, 9, 0, 3, 4, 4, 6, 6, 5, 2, 2, 5, 6, 1, 4, 2, 5, 4, 4, 8, 0, 2, 4, 0, 6, 2, 6, 8, 3, 8, 2, 0, 4, 4, 8, 8, 4, 5, 2, 2, 3, 0, 1, 9, 0, 9, 1, 9, 6, 5, 2, 2, 7, 3, 8, 5, 0, 8, 0, 7, 5, 5, 9, 5, 0, 6, 0, 3, 4, 4, 4, 8, 7, 1, 3, 4, 0, 6, 5, 1, 6, 7, 3, 4, 8, 8, 2, 8, 9, 4, 1, 6, 5, 2, 7, 8, 5, 3, 8, 5, 4, 2, 8, 9, 8, 4, 3, 3, 8, 8, 2, 0, 9, 4, 4, 8, 1, 3, 6, 1, 9, 2, 1, 6, 2, 7, 9, 4, 6, 0, 4, 4, 2, 4, 5, 0, 2, 8, 3, 7, 6, 4, 0, 0, 5, 2, 8, 2, 4, 3, 0, 2, 1, 7, 7, 5, 4, 7, 2, 4, 7, 3, 3, 1, 3, 3, 6, 6, 1, 7, 0, 4, 7, 1, 0, 6, 5, 8, 4, 4, 7, 9, 5, 0, 7, 9, 5, 1, 2, 9, 5, 5, 3, 9, 9, 1, 2, 7, 8, 0, 1, 7, 2, 7, 1, 1, 5, 5, 6, 4, 5, 9, 5, 5, 2, 3, 9, 3, 8, 5, 2, 0, 0, 0, 5, 7, 8, 5, 2, 6, 4, 4, 7, 4, 0, 5, 1, 7, 2, 3, 6, 8, 9, 8, 7, 1, 2, 3, 2, 9, 7, 5, 6, 1, 0, 7, 1, 2, 6, 9, 3, 6, 4, 4, 3, 0, 0, 6, 3, 6, 1, 3, 5, 6, 5, 0, 9, 1, 1, 8, 2, 9, 5, 0, 5, 4, 6, 7, 1, 1, 5, 3, 8, 9, 8, 3, 8, 9, 2, 6, 1, 1, 3, 5, 2, 7, 1, 9, 9, 2, 2, 7, 0, 1, 3, 9, 6, 3, 7, 2, 8, 1, 8, 0, 7, 9, 8, 5, 8, 2, 6, 4, 0, 6, 5, 8, 3, 8, 7, 5, 7, 3, 7, 0, 7, 0, 2, 2, 5, 3, 5, 1, 1, 7, 7, 6, 3, 0, 4, 2, 8, 6, 3, 1, 4, 9, 9, 4, 5, 2, 2, 7, 8, 0, 7, 9, 1, 2, 9, 4, 7, 3, 4, 3, 3, 1, 8, 8, 5, 3, 8, 6, 3, 4, 3, 2, 0, 2, 7, 3, 6, 8, 3, 9, 7, 3, 1, 7, 5, 8, 8, 2, 0, 6, 6, 4, 6, 5, 7, 0, 6, 6, 7, 7, 3, 9, 2, 5, 9, 7, 1, 7, 2, 4, 5, 1, 3, 5, 4, 5, 0, 4, 4, 1, 4, 4, 8, 4, 5, 9, 4, 1, 1, 7, 2, 3, 5, 0, 3, 9, 7, 5, 3, 8, 8, 8, 9, 1, 1, 6, 3, 1, 6, 3, 4, 9, 9, 6, 0, 6, 9, 4, 9, 6, 6, 1, 8, 9, 2, 9, 4, 8, 0, 7, 2, 3, 6, 2, 5, 6, 1, 9, 0, 2, 2, 9, 9, 0, 8, 3, 6, 6, 6, 0, 2, 6, 6, 6, 5, 0, 2, 7, 8, 7, 4, 6, 6, 6, 5, 2, 4, 2, 9, 5, 2, 6, 7, 0, 1, 9, 5, 5, 6, 7, 7, 5, 0, 5, 0, 8, 4, 7, 9, 8, 2, 4, 7, 3, 3, 7, 7, 7, 8, 4, 9, 5, 7, 6, 5, 7, 5, 1, 3, 0, 4, 9, 9, 8, 3, 7, 0, 3, 4, 9, 3, 4, 1, 7, 9, 1, 5, 7, 2, 7, 6, 5, 5, 3, 7, 5, 5, 4, 0, 7, 3, 3, 2, 0, 2, 9, 9, 0, 3, 0, 8, 3, 8, 8, 4, 4, 1, 8, 2, 3, 5, 0, 4, 4, 3, 0, 0, 1, 0, 8, 4, 9, 0, 7, 0, 7, 7, 1, 5, 8, 7, 2, 9, 9, 1, 2, 4, 1, 1, 1, 8, 8, 1, 3, 7, 5, 2, 0, 8, 4, 8, 9, 4, 1, 3, 1, 9, 8, 1, 1, 1, 8, 0, 9, 9, 7, 6, 0, 4, 2, 1, 1, 7, 9, 4, 2, 0, 3, 6, 6, 8, 1, 7, 2, 4, 2, 2, 3, 8, 7, 1, 8, 5, 5, 7, 7, 6, 6, 2, 9, 6, 6, 0, 5, 5, 0, 2, 1, 0, 3, 5, 9, 1, 7, 2, 5, 7, 9, 8, 9, 1, 2, 8, 3, 2, 3, 6, 0, 8, 3, 8, 6, 8, 6, 0, 8, 8, 8, 2, 9, 3, 2, 0, 8, 5, 7, 0, 1, 1, 1, 9, 5, 1, 3, 3, 6, 0, 8, 2, 1, 3, 8, 8, 6, 7, 5, 6, 6, 7, 3, 3, 2, 4, 6, 5, 5, 4, 2, 3, 7, 1, 1, 7, 3, 8, 7, 2, 2, 9, 3, 9, 9, 0, 1, 5, 1, 2, 8, 1, 4, 9, 3, 4, 0, 0, 7, 6, 9, 9, 5, 5, 7, 0, 9, 3, 3, 6, 9, 8, 4, 2, 2, 3, 9, 4, 3, 6, 7, 3, 0, 4, 8, 1, 8, 7, 3, 4, 5, 2, 2, 9, 1, 9, 4, 9, 1, 6, 2, 8, 8, 7, 7, 7, 7, 2, 6, 0, 7, 5, 8, 5, 6, 0, 2, 4, 9, 2, 6, 1, 1, 9, 3, 1, 2, 2, 2, 3, 7, 5, 7, 4, 4, 4, 1, 2, 3, 5, 4, 2, 9, 1, 5, 9, 3, 6, 6, 4, 0, 1, 7, 7, 4, 6, 7, 7, 3, 0, 4, 3, 2, 7, 8, 7, 2, 8, 0, 8, 7, 4, 6, 2, 7, 0, 9, 9, 3, 1, 5, 9, 3, 1, 0, 3, 3, 5, 9, 7, 9, 8, 3, 5, 9, 3, 7, 9, 3, 4, 6, 6, 5, 7, 7, 6, 3, 5, 3, 1, 1, 9, 4, 3, 9, 5, 5, 7, 2, 4, 9, 0, 2, 1, 9, 7, 1, 5, 0, 5, 5, 0, 3, 5, 0, 3, 3, 7, 4, 2, 6, 8, 5, 9, 2, 1, 0, 5, 5, 8, 5, 3, 7, 4, 4, 3, 9, 6, 0, 0, 9, 1, 4, 3, 1, 5, 3, 8, 5, 1, 1, 2, 9, 4, 0, 5, 2, 8, 0, 2, 9, 8, 2, 4, 8, 3, 8, 0, 2, 0, 0, 4, 8, 5, 4, 9, 0, 9, 5, 8, 6, 9, 1, 2, 7, 2, 1, 6, 6, 0, 6, 5, 0, 4, 8, 5, 5, 2, 0, 3, 8, 6, 3, 1, 9, 2, 9, 7, 3, 6, 4, 8, 3, 4, 8, 5, 6, 8, 3, 3, 1, 4, 2, 0, 4, 9, 0, 2, 1, 9, 9, 8, 1, 8, 8, 3, 3, 3, 8, 5, 9, 6, 6, 8, 7, 0, 3, 0, 0, 0, 5, 7, 5, 0, 7, 9, 1, 6, 4, 8, 9, 3, 5, 6, 0, 4, 4, 7, 8, 9, 1, 8, 2, 5, 5, 3, 1, 1, 8, 8, 3, 0, 7, 0, 1, 8, 1, 6, 4, 9, 8, 9, 8, 8, 6, 9, 1, 8, 4, 2, 7, 7, 0, 5, 1, 1, 0, 6, 4, 3, 0, 4, 3, 5, 1, 6, 3, 3, 4, 4, 5, 6, 9, 8, 3, 3, 1, 0, 2, 1, 4, 4, 4, 8, 4, 9, 0, 9, 9, 5, 0, 6, 0, 5, 0, 3, 9, 8, 3, 6, 1, 9, 4, 1, 6, 4, 5, 4, 1, 6, 8, 5, 9, 4, 5, 3, 8, 8, 1, 0, 6, 8, 9, 0, 5, 6, 2, 4, 9, 3, 2, 6, 8, 5, 9, 2, 3, 1, 6, 3, 6, 2, 7, 2, 1, 2, 0, 3, 0, 4, 8, 5, 0, 8, 5, 2, 7, 8, 1, 5, 9, 8, 0, 9, 0, 9, 3, 9, 5, 7, 9, 6, 0, 7, 1, 5, 5, 9, 5, 4, 6, 2, 4, 5, 9, 7, 4, 2, 2, 9, 9, 6, 2, 1, 3, 7, 1, 8, 7, 9, 1, 8, 9, 3, 7, 7, 7, 1, 7, 4, 4, 0, 2, 4, 5, 2, 8, 9, 6, 8, 6, 0, 7, 7, 5, 0, 1, 9, 6, 0, 4, 9, 2, 2, 6, 7, 1, 0, 5, 0, 7, 2, 8, 6, 3, 6, 1, 7, 4, 8, 7, 4, 1, 7, 8, 2, 4, 4, 4, 4, 1, 8, 6, 7, 2, 9, 4, 5, 0, 6, 3, 8, 8, 2, 0, 7, 2, 4, 0, 3, 1, 0, 8, 1, 7, 7, 2, 6, 3, 1, 2, 7, 0, 0, 0, 6, 2, 7, 2, 8, 3, 6, 3, 0, 9, 7, 3, 5, 4, 9, 6, 4, 5, 0, 6, 8, 4, 0, 4, 4, 0, 4, 1, 6, 4, 3, 7, 1, 3, 6, 4, 1, 1, 5, 6, 3, 8, 3, 4, 1, 7, 4, 9, 8, 8, 4, 5, 5, 6, 7, 3, 9, 1, 0, 5, 3, 7, 0, 1, 1, 8, 3, 2, 0, 5, 9, 6, 3, 8, 1, 0, 4, 6, 2, 4, 8, 3, 4, 2, 1, 9, 1, 7, 9, 5, 7, 6, 1, 5, 8, 8, 2, 6, 4, 6, 3, 1, 6, 4, 0, 3, 9, 8, 4, 0, 8, 4, 3, 9, 7, 1, 1, 7, 5, 1, 9, 4, 4, 2, 4, 8, 6, 7, 1, 3, 0, 7, 3, 5, 8, 1, 4, 2, 3, 4, 8, 8, 8, 4, 8, 1, 8, 9, 3, 0, 6, 0, 2, 9, 7, 3, 7, 0, 1, 3, 5, 9, 3, 0, 5, 0, 5, 8, 7, 3, 6, 2, 8, 0, 0, 9, 3, 0, 5, 8, 1, 1, 2, 6, 6, 6, 8, 6, 6, 3, 3, 9, 5, 4, 3, 3, 1, 8, 1, 5, 2, 6, 0, 7, 9, 3, 2, 7, 1, 7, 6, 1, 6, 2, 6, 6, 7, 0, 4, 9, 3, 2, 5, 0, 8, 6, 2, 6, 7, 4, 2, 1, 1, 0, 3, 5, 5, 2, 6, 2, 1, 8, 0, 3, 4, 3, 4, 2, 9, 2, 8, 9, 6, 2, 0, 6, 4, 5, 4, 7, 8, 1, 6, 3, 4, 2, 9, 4, 3, 5, 1, 2, 6, 0, 1, 1, 0, 2, 6, 9, 9, 0, 1, 2, 4, 6, 7, 6, 1, 1, 7, 7, 8, 7, 6, 5, 1, 7, 0, 0, 9, 2, 1, 6, 2, 2, 5, 8, 5, 2, 7, 8, 4, 0, 9, 0, 8, 1, 3, 8, 2, 8, 2, 0, 6, 3, 8, 7, 8, 2, 6, 6, 6, 0, 4, 5, 3, 4, 1, 1, 9, 7, 0, 6, 2, 1, 4, 2, 7, 7, 1, 8, 3, 8, 7, 9, 8, 7, 2, 7, 9, 7, 2, 2, 3, 6, 3, 3, 9, 1, 1, 4, 8, 0, 9, 7, 5, 2, 8, 8, 3, 6, 3, 0, 8, 2, 2, 5, 9, 2, 6, 8, 3, 2, 8, 3, 3, 1, 1, 3, 0, 1, 8, 4, 1, 5, 8, 1, 5, 8, 0, 7, 8, 7, 5, 9, 5, 5, 3, 0, 7, 8, 4, 5, 1, 6, 4, 2, 4, 4, 7, 7, 9, 7, 2, 5, 8, 5, 8, 5, 3, 0, 9, 7, 2, 0, 6, 8, 4, 0, 7, 3, 7, 6, 8, 4, 7, 0, 0, 4, 0, 6, 7, 8, 1, 3, 8, 1, 7, 3, 6, 1, 1, 6, 6, 9, 8, 0, 8, 2, 7, 7, 1, 3, 0, 3, 0, 7, 8, 7, 6, 5, 2, 6, 7, 5, 5, 8, 9, 7, 3, 2, 4, 8, 3, 9, 5, 7, 6, 2, 6, 7, 3, 8, 5, 1, 8, 9, 2, 6, 1, 4, 2, 7, 4, 0, 4, 4, 8, 9, 7, 9, 2, 6, 8, 2, 6, 0, 6, 3, 4, 1, 5, 6, 7, 5, 0, 7, 6, 2, 0, 5, 1, 1, 3, 7, 3, 8, 8, 7, 5, 9, 9, 5, 5, 4, 0, 7, 1, 4, 6, 0, 9, 9, 4, 6, 8, 6, 5, 7, 8, 0, 2, 7, 6, 2, 4, 8, 1, 0, 4, 8, 0, 7, 5, 8, 7, 7, 5, 5, 2, 7, 6, 2, 2, 0, 3, 6, 2, 0, 3, 9, 4, 5, 4, 4, 1, 2, 5, 7, 0, 5, 0, 2, 5, 0, 4, 8, 0, 2, 7, 2, 7, 2, 3, 4, 7, 1, 2, 3, 4, 2, 2, 3, 9, 9, 2, 8, 0, 4, 0, 0, 1, 9, 3, 9, 0, 8, 3, 9, 4, 7, 9, 1, 5, 8, 1, 3, 6, 2, 4, 8, 6, 3, 3, 0, 0, 0, 3, 6, 1, 6, 8, 6, 7, 3, 0, 0, 5, 8, 8, 8, 6, 1, 0, 8, 7, 8, 5, 8, 7, 0, 7, 2, 7, 1, 5, 5, 8, 3, 2, 8, 5, 9, 9, 2, 0, 6, 7, 1, 8, 8, 8, 7, 2, 0, 9, 7, 9, 6, 9, 4, 1, 4, 7, 2, 5, 2, 6, 2, 9, 0, 7, 1, 9, 7, 6, 5, 3, 8, 4, 9, 3, 9, 5, 7, 5, 1, 3, 3, 6, 6, 7, 5, 3, 5, 5, 8, 7, 7, 4, 6, 5, 5, 6, 4, 8, 3, 0, 9, 2, 3, 2, 2, 7, 4, 0, 7, 1, 4, 8, 1, 4, 7, 8, 2, 0, 7, 2, 0, 2, 2, 2, 2, 3, 0, 5, 2, 3, 2, 8, 0, 0, 8, 4, 6, 4, 8, 3, 5, 1, 3, 9, 1, 4, 9, 6, 7, 4, 0, 0, 2, 5, 6, 2, 5, 6, 5, 1, 7, 9, 2, 6, 7, 3, 0, 2, 8, 1, 0, 9, 9, 7, 8, 4, 6, 9, 7, 7, 5, 8, 8, 7, 5, 3, 5, 5, 0, 8, 9, 7, 2, 1, 4, 7, 1, 0, 2, 3, 2, 2, 9, 4, 7, 7, 0, 5, 0, 8, 8, 6, 8, 5, 6, 0, 7, 3, 0, 2, 2, 5, 2, 0, 7, 7, 7, 1, 5, 2, 1, 8, 5, 2, 4, 8, 7, 7, 6, 7, 1, 0, 9, 5, 3, 9, 3, 5, 0, 7, 4, 2, 0, 1, 6, 5, 9, 3, 2, 8, 5, 7, 3, 1, 2, 0, 8, 1, 8, 5, 6, 9, 3, 3, 8, 0, 4, 2, 0, 6, 4, 2, 3, 4, 5, 9, 1, 1, 9, 4, 7, 6, 4, 1, 0, 0, 7, 7, 0, 7, 8, 0, 5, 6, 4, 4, 8, 9, 7, 4, 9, 5, 3, 7, 2, 4, 1, 9, 7, 8, 1, 3, 9, 3, 6, 7, 8, 6, 5, 6, 7, 9, 9, 7, 0, 6, 2, 3, 4, 2, 9, 5, 3, 9, 2, 8, 8, 6, 0, 4, 1, 9, 3, 3, 5, 1, 5, 5, 9, 2, 8, 5, 5, 9, 5, 4, 6, 7, 3, 5, 4, 2, 3, 9, 4, 8, 1, 9, 2, 6, 2, 4, 8, 8, 7, 7, 3, 9, 3, 9, 6, 8, 2, 6, 9, 0, 4, 4, 5, 7, 0, 4, 6, 4, 1, 3, 1, 6, 7, 8, 8, 9, 7, 0, 5, 7, 3, 6, 0, 4, 0, 3, 6, 8, 8, 8, 0, 2, 3, 2, 8, 8, 1, 4, 1, 1, 6, 3, 2, 2, 8, 0, 0, 4, 1, 3, 2, 7, 0, 6, 7, 9, 9, 6, 7, 0, 9, 9, 8, 4, 8, 3, 4, 0, 9, 6, 6, 4, 3, 8, 4, 3, 6, 9, 6, 4, 7, 4, 7, 8, 8, 2, 2, 8, 8, 0, 1, 5, 8, 9, 8, 7, 1, 0, 3, 6, 6, 0, 9, 3, 9, 9, 1, 5, 9, 4, 1, 7, 0, 1, 0, 5, 3, 8, 8, 4, 1, 7, 0, 5, 0, 4, 1, 7, 1, 7, 9, 6, 3, 9, 6, 2, 5, 3, 5, 8, 8, 2, 4, 7, 7, 4, 6, 0, 5, 5, 2, 6, 2, 5, 6, 8, 5, 6, 9, 1, 3, 1, 4, 5, 9, 0, 9, 0, 3, 5, 6, 1, 5, 8, 5, 6, 6, 9, 1, 9, 1, 7, 1, 8, 0, 3, 4, 0, 2, 0, 3, 3, 8, 8, 0, 3, 6, 8, 1, 1, 3, 3, 2, 2, 1, 8, 3, 2, 0, 2, 3, 2, 3, 9, 2, 3, 0, 4, 5, 7, 1, 6, 1, 0, 0, 3, 8, 5, 1, 6, 5, 4, 8, 1, 7, 1, 6, 4, 9, 4, 2, 1, 5, 3, 1, 5, 8, 7, 7, 7, 2, 7, 5, 4, 4, 2, 0, 6, 8, 9, 9, 5, 8, 0, 4, 4, 1, 3, 7, 9, 0, 0, 9, 8, 5, 3, 0, 7, 1, 9, 7, 8, 4, 0, 9, 9, 1, 2, 0, 6, 2, 2, 5, 1, 0, 4, 8, 3, 4, 8, 3, 4, 0, 0, 3, 6, 7, 2, 4, 1, 5, 2, 0, 7, 9, 9, 1, 5, 5, 9, 1, 4, 6, 1, 2, 8, 3, 5, 7, 8, 0, 4, 2, 7, 2, 7, 5, 0, 8, 7, 8, 8, 4, 9, 2, 5, 5, 9, 9, 6, 4, 2, 6, 6, 3, 8, 7, 6, 6, 7, 5, 2, 9, 0, 3, 4, 4, 8, 4, 0, 2, 7, 0, 5, 2, 6, 6, 8, 0, 6, 2, 0, 2, 5, 5, 8, 0, 7, 0, 8, 9, 0, 2, 1, 2, 5, 1, 6, 2, 9, 6, 4, 9, 9, 1, 4, 3, 1, 2, 8, 6, 3, 6, 0, 2, 0, 2, 3, 3, 5, 2, 3, 6, 6, 8, 5, 4, 0, 1, 2, 2, 2, 6, 7, 9, 6, 4, 3, 3, 6, 8, 5, 4, 4, 0, 3, 3, 5, 2, 5, 1, 5, 5, 1, 7, 5, 2, 1, 8, 8, 0, 9, 6, 0, 6, 3, 2, 1, 8, 3, 4, 2, 1, 2, 0, 3, 0, 8, 5, 1, 5, 0, 2, 0, 3, 9, 8, 2, 8, 1, 0, 2, 6, 2, 0, 3, 7, 5, 0, 6, 2, 6, 8, 4, 2, 1, 8, 6, 8, 2, 9, 2, 6, 8, 5, 2, 7, 3, 2, 2, 6, 4, 6, 8, 5, 2, 1, 5, 2, 8, 2, 9, 0, 6, 3, 6, 4, 6, 7, 7, 9, 6, 4, 9, 8, 0, 5, 8, 7, 7, 6, 7, 7, 0, 7, 7, 2, 9, 7, 4, 2, 2, 3, 8, 0, 1, 9, 8, 0, 6, 2, 8, 3, 8, 0, 7, 6, 4, 3, 8, 1, 3, 8, 7, 3, 0, 3, 4, 8, 8, 9, 1, 3, 2, 1, 4, 8, 0, 4, 6, 7, 3, 9, 4, 9, 0, 4, 6, 5, 7, 0, 8, 1, 7, 5, 4, 9, 5, 7, 3, 2, 0, 9, 8, 7, 3, 7, 7, 4, 7, 5, 8, 5, 2, 4, 6, 2, 3, 8, 9, 7, 1, 3, 4, 2, 9, 7, 1, 2, 2, 6, 0, 5, 5, 4, 5, 2, 8, 9, 4, 9, 9, 1, 4, 3, 1, 5, 5, 5, 6, 8, 1, 5, 5, 9, 5, 9, 8, 3, 1, 1, 4, 6, 6, 9, 3, 6, 4, 4, 8, 6, 5, 4, 9, 0, 2, 8, 4, 8, 6, 3, 6, 1, 4, 3, 3, 8, 4, 9, 9, 0, 7, 9, 5, 3, 1, 7, 2, 8, 4, 9, 6, 1, 6, 0, 5, 8, 1, 9, 3, 0, 8, 3, 8, 4, 2, 5, 6, 9, 0, 1, 4, 0, 7, 9, 0, 1, 3, 9, 5, 1, 4, 1, 1, 4, 8, 3, 9, 5, 4, 4, 3, 7, 7, 7, 2, 3, 9, 1, 9, 4, 4, 0, 7, 6, 6, 7, 9, 0, 6, 4, 9, 0, 4, 0, 2, 7, 9, 6, 1, 1, 2, 0, 8, 8, 7, 4, 2, 7, 5, 7, 6, 1, 8, 1, 4, 9, 8, 9, 0, 1, 0, 6, 0, 3, 0, 6, 4, 1, 9, 7, 1, 2, 2, 5, 3, 4, 1, 7, 4, 7, 0, 2, 8, 8, 1, 4, 9, 9, 6, 3, 4, 9, 3, 9, 8, 5, 3, 8, 4, 7, 1, 4, 1, 9, 6, 8, 3, 2, 4, 8, 1, 1, 5, 8, 6, 1, 6, 2, 5, 0, 9, 5, 3, 5, 0, 6, 5, 4, 8, 3, 8, 0, 2, 9, 9, 1, 5, 3, 2, 6, 5, 3, 0, 3, 0, 7, 4, 0, 2, 1, 9, 5, 1, 7, 5, 5, 5, 9, 4, 8, 4, 6, 6, 4, 6, 4, 1, 1, 2, 2, 8, 4, 9, 0, 5, 8, 1, 0, 8, 3, 2, 4, 8, 3, 0, 9, 3, 4, 9, 7, 2, 6, 2, 2, 8, 9, 6, 1, 4, 7, 7, 9, 7, 3, 2, 9, 2, 7, 3, 0, 2, 6, 7, 2, 3, 3, 1, 9, 5, 8, 2, 3, 5, 0, 0, 4, 5, 8, 3, 5, 0, 7, 7, 6, 0, 9, 5, 1, 4, 4, 5, 3, 0, 6, 1, 4, 6, 5, 4, 8, 5, 7, 3, 0, 8, 3, 5, 2, 4, 9, 8, 5, 9, 8, 1, 9, 5, 0, 1, 5, 3, 3, 3, 3, 4, 4, 3, 6, 7, 8, 0, 9, 6, 3, 0, 4, 2, 7, 3, 5, 7, 3, 7, 8, 4, 6, 2, 2, 3, 1, 0, 7, 5, 6, 6, 4, 1, 1, 4, 7, 2, 3, 5, 5, 0, 4, 4, 4, 8, 9, 9, 2, 6, 9, 8, 3, 5, 3, 1, 4, 5, 0, 1, 8, 5, 8, 6, 0, 7, 8, 9, 2, 2, 6, 3, 2, 2, 2, 8, 9, 1, 9, 7, 4, 5, 6, 3, 2, 4, 5, 6, 6, 5, 8, 6, 2, 2, 9, 4, 9, 8, 3, 0, 2, 7, 7, 5, 9, 7, 7, 3, 8, 7, 5, 9, 9, 8, 2, 1, 0, 8, 0, 2, 6, 7, 9, 2, 2, 5, 4, 3, 2, 1, 1, 9, 6, 5, 5, 4, 9, 8, 9, 6, 5, 4, 6, 0, 5, 7, 8, 4, 8, 8, 7, 4, 9, 4, 9, 6, 9, 7, 3, 9, 9, 3, 6, 0, 2, 8, 7, 9, 4, 0, 0, 4, 1, 0, 3, 8, 4, 8, 4, 4, 3, 3, 5, 7, 7, 8, 5, 6, 3, 2, 1, 8, 3, 8, 5, 4, 2, 3, 0, 8, 3, 3, 2, 9, 0, 9, 9, 0, 1, 8, 3, 0, 3, 8, 6, 8, 5, 1, 3, 0, 1, 9, 3, 5, 0, 6, 2, 3, 1, 5, 3, 2, 8, 5, 7, 8, 0, 1, 1, 0, 6, 4, 5, 9, 0, 7, 2, 3, 6, 4, 6, 3, 6, 9, 4, 9, 0, 8, 3, 5, 6, 2, 0, 1, 3, 9, 4, 2, 5, 0, 5, 3, 2, 5, 0, 0, 0, 0, 0, 9, 1, 3, 4, 3, 5, 5, 6, 6, 1, 4, 9, 7, 4, 4, 7, 5, 7, 1, 6, 8, 7, 9, 5, 7, 0, 2, 9, 2, 5, 0, 7, 6, 4, 5, 2, 9, 4, 3, 2, 5, 9, 2, 5, 9, 7, 3, 8, 3, 5, 6, 5, 3, 0, 7, 6, 9, 5, 1, 3, 6, 9, 3, 6, 2, 5, 3, 4, 9, 9, 1, 2, 2, 2, 4, 6, 8, 7, 9, 9, 4, 8, 8, 9, 0, 7, 0, 4, 3, 8, 6, 4, 2, 0, 1, 4, 0, 2, 1, 5, 4, 6, 6, 0, 3, 4, 5, 6, 8, 7, 6, 0, 3, 1, 8, 8, 8, 9, 9, 5, 5, 8, 6, 5, 4, 4, 2, 5, 6, 9, 2, 9, 1, 0, 4, 6, 6, 9, 8, 0, 4, 9, 1, 9, 4, 7, 3, 5, 4, 3, 4, 6, 1, 6, 2, 4, 3, 7, 8, 4, 5, 5, 9, 0, 6, 3, 4, 5, 5, 5, 7, 3, 1, 3, 3, 7, 0, 7, 7, 6, 8, 3, 5, 5, 8, 1, 9, 4, 0, 4, 2, 1, 6, 0, 1, 6, 5, 0, 8, 1, 1, 7, 5, 2, 5, 9, 0, 8, 3, 4, 4, 2, 7, 0, 7, 6, 6, 2, 3, 7, 1, 6, 4, 3, 3, 0, 0, 6, 4, 8, 7, 0, 3, 6, 4, 7, 3, 3, 6, 0, 2, 4, 4, 1, 8, 1, 9, 1, 2, 6, 4, 2, 5, 3, 3, 5, 3, 5, 8, 3, 9, 7, 3, 0, 0, 1, 0, 1, 0, 7, 7, 4, 8, 9, 0, 1, 5, 4, 9, 4, 7, 9, 9, 7, 0, 1, 0, 9, 9, 5, 1, 7, 2, 9, 1, 5, 6, 8, 1, 7, 3, 0, 8, 4, 7, 0, 8, 9, 8, 8, 4, 5, 6, 4, 5, 9, 0, 0, 5, 3, 7, 7, 4, 4, 7, 4, 5, 8, 3, 7, 2, 7, 3, 8, 8, 8, 7, 8, 6, 0, 5, 7, 9, 8, 5, 6, 0, 6, 4, 4, 2, 8, 9, 9, 1, 9, 5, 8, 4, 4, 8, 4, 8, 7, 4, 8, 3, 0, 7, 8, 8, 3, 9, 9, 5, 9, 2, 6, 9, 7, 5, 7, 4, 9, 9, 2, 3, 9, 5, 3, 5, 6, 1, 2, 9, 1, 4, 8, 5, 1, 7, 9, 0, 3, 3, 6, 9, 0, 4, 6, 0, 0, 2, 9, 7, 1, 9, 8, 5, 6, 8, 5, 9, 5, 2, 4, 2, 5, 2, 2, 5, 4, 2, 7, 1, 2, 6, 8, 2, 5, 6, 2, 6, 9, 5, 5, 1, 5, 2, 4, 4, 2, 4, 1, 9, 3, 7, 2, 7, 4, 2, 9, 7, 4, 6, 6, 1, 7, 1, 4, 7, 6, 1, 7, 3, 0, 3, 6, 4, 9, 0, 4, 1, 7, 9, 0, 2, 7, 6, 6, 7, 1, 9, 5, 2, 9, 8, 6, 4, 0, 1, 3, 2, 2, 8, 1, 0, 8, 1, 8, 1, 0, 1, 4, 7, 3, 7, 7, 3, 3, 9, 9, 0, 8, 2, 5, 8, 9, 5, 3, 5, 4, 1, 6, 9, 2, 6, 2, 6, 1, 8, 1, 3, 3, 0, 2, 1, 7, 0, 5, 4, 5, 3, 6, 2, 1, 6, 0, 7, 3, 6, 6, 3, 6, 1, 5, 2, 9, 0, 8, 0, 4, 4, 0, 1, 7, 5, 3, 3, 3, 2, 0, 3, 5, 2, 6, 2, 5, 1, 4, 6, 2, 1, 9, 3, 4, 6, 9, 5, 8, 0, 6, 3, 6, 0, 8, 1, 2, 3, 3, 1, 5, 5, 3, 2, 6, 7, 1, 3, 2, 3, 6, 1, 2, 2, 8, 0, 8, 4, 7, 0, 3, 1, 3, 8, 3, 4, 1, 2, 0, 3, 6, 7, 7, 8, 3, 6, 9, 5, 6, 6, 9, 5, 4, 3, 8, 5, 3, 8, 3, 7, 9, 6, 2, 5, 1, 0, 5, 2, 3, 5, 7, 9, 6, 0, 7, 1, 2, 0, 8, 2, 2, 2, 7, 8, 0, 2, 4, 4, 9, 7, 3, 2, 5, 4, 5, 1, 9, 5, 0, 5, 2, 4, 1, 7, 9, 0, 3, 3, 4, 9, 1, 0, 1, 9, 5, 6, 8, 2, 2, 1, 4, 0, 6, 7, 9, 0, 1, 1, 4, 3, 6, 9, 8, 1, 3, 7, 3, 9, 9, 5, 4, 2, 3, 6, 8, 8, 5, 5, 1, 8, 8, 5, 7, 9, 9, 3, 4, 4, 2, 7, 9, 6, 6, 7, 5, 4, 7, 6, 1, 4, 2, 2, 6, 9, 0, 0, 5, 1, 1, 7, 8, 3, 6, 6, 2, 0, 2, 4, 9, 5, 2, 4, 6, 4, 6, 1, 5, 2, 7, 8, 6, 7, 7, 0, 8, 4, 3, 6, 9, 1, 2, 1, 7, 4, 3, 4, 9, 9, 2, 2, 4, 3, 0, 5, 7, 5, 2, 7, 8, 9, 9, 2, 7, 8, 7, 7, 5, 8, 7, 6, 6, 9, 0, 1, 8, 7, 5, 4, 5, 3, 7, 6, 6, 5, 5, 6, 9, 9, 1, 9, 5, 9, 4, 4, 1, 5, 8, 3, 5, 1, 8, 6, 5, 0, 2, 3, 7, 1, 1, 1, 8, 7, 5, 6, 3, 4, 7, 0, 0, 5, 3, 4, 8, 6, 5, 2, 7, 3, 2, 3, 2, 7, 8, 0, 9, 0, 9, 5, 8, 0, 7, 3, 9, 0, 9, 7, 3, 0, 6, 5, 7, 8, 2, 3, 1, 9, 0, 2, 9, 1, 3, 4, 0, 3, 0, 6, 2, 3, 8, 6, 2, 9, 5, 6, 1, 8, 2, 4, 1, 6, 2, 9, 4, 6, 7, 9, 6, 3, 5, 4, 5, 9, 8, 5, 3, 0, 1, 2, 6, 4, 1, 9, 4, 4, 6, 5, 5, 4, 3, 2, 0, 1, 4, 9, 9, 7, 6, 1, 2, 6, 6, 2, 6, 2, 5, 9, 4, 8, 2, 6, 1, 5, 9, 6, 1, 8, 9, 3, 1, 7, 1, 1, 1, 9, 1, 3, 8, 9, 9, 1, 9, 6, 0, 5, 8, 5, 5, 5, 3, 8, 9, 0, 7, 8, 2, 9, 2, 0, 1, 5, 0, 7, 8, 0, 0, 9, 1, 1, 8, 2, 8, 7, 2, 0, 7, 2, 0, 0, 5, 1, 0, 8, 6, 3, 7, 2, 1, 9, 7, 4, 1, 3, 9, 2, 4, 0, 3, 7, 5, 1, 1, 9, 5, 1, 5, 4, 6, 6, 1, 5, 2, 1, 6, 6, 5, 7, 9, 4, 3, 4, 1, 7, 9, 0, 5, 7, 3, 3, 8, 4, 1, 8, 2, 5, 4, 4, 8, 9, 2, 9, 3, 2, 6, 1, 1, 6, 6, 1, 4, 9, 8, 5, 9, 1, 5, 6, 9, 3, 2, 1, 7, 4, 9, 8, 8, 9, 5, 5, 3, 8, 2, 0, 3, 6, 1, 1, 9, 0, 9, 7, 5, 3, 2, 9, 5, 5, 4, 2, 9, 9, 3, 0, 6, 3, 1, 7, 4, 9, 2, 8, 5, 8, 6, 0, 1, 3, 2, 2, 3, 6, 6, 0, 2, 8, 3, 2, 8, 6, 1, 8, 4, 5, 4, 2, 3, 9, 0, 4, 4, 2, 5, 4, 2, 7, 6, 7, 3, 3, 6, 9, 6, 8, 5, 6, 6, 3, 6, 7, 2, 5, 3, 1, 1, 9, 7, 5, 4, 2, 1, 6, 4, 5, 9, 2, 5, 5, 3, 3, 0, 9, 2, 2, 2, 3, 2, 4, 9, 2, 3, 0, 4, 2, 0, 4, 1, 3, 7, 2, 4, 2, 2, 3, 2, 3, 0, 8, 3, 5, 1, 2, 8, 8, 2, 1, 2, 1, 1, 9, 6, 5, 9, 6, 8, 0, 3, 6, 3, 1, 3, 7, 5, 6, 1, 1, 2, 0, 5, 5, 0, 1, 6, 5, 2, 8, 9, 7, 9, 1, 1, 3, 3, 5, 6, 7, 5, 9, 4, 9, 3, 6, 6, 0, 8, 5, 6, 5, 9, 8, 3, 8, 1, 3, 1, 3, 5, 6, 5, 4, 4, 9, 6, 7, 1, 4, 8, 3, 7, 7, 6, 7, 9, 4, 7, 7, 0, 1, 4, 1, 4, 8, 2, 4, 7, 6, 7, 1, 8, 7, 5, 1, 3, 1, 0, 3, 4, 5, 4, 8, 6, 3, 4, 9, 3, 1, 5, 3, 0, 7, 0, 3, 4, 5, 1, 6, 6, 2, 8, 8, 9, 8, 6, 7, 2, 4, 2, 5, 1, 9, 6, 3, 8, 7, 1, 8, 1, 2, 0, 9, 2, 4, 4, 4, 6, 1, 3, 5, 2, 9, 7, 5, 2, 7, 5, 5, 4, 4, 8, 0, 7, 0, 8, 0, 2, 1, 9, 7, 7, 3, 8, 0, 3, 0, 9, 8, 5, 6, 4, 8, 1, 5, 5, 7, 0, 1, 6, 1, 3, 2, 6, 4, 6, 1, 7, 6, 2, 2, 6, 1, 8, 2, 2, 6, 3, 0, 8, 8, 4, 6, 2, 0, 7, 0, 8, 9, 1, 6, 6, 7, 0, 8, 1, 8, 2, 4, 6, 7, 5, 7, 9, 9, 3, 9, 4, 4, 6, 4, 1, 4, 8, 4, 2, 8, 6, 2, 2, 9, 1, 8, 0, 6, 2, 6, 0, 3, 6, 6, 1, 3, 6, 3, 3, 1, 7, 8, 1, 0, 7, 6, 5, 0, 8, 2, 6, 5, 8, 7, 8, 4, 5, 9, 5, 5, 1, 2, 4, 7, 2, 9, 7, 8, 3, 7, 4, 6, 3, 8, 8, 4, 5, 1, 8, 2, 6, 2, 2, 9, 8, 9, 0, 2, 5, 9, 3, 5, 9, 8, 6, 3, 9, 5, 9, 3, 0, 8, 6, 0, 6, 3, 5, 8, 0, 6, 1, 8, 6, 9, 0, 0, 7, 6, 6, 8, 7, 6, 8, 8, 2, 0, 3, 6, 7, 1, 3, 7, 4, 0, 7, 1, 6, 5, 2, 0, 7, 9, 0, 3, 8, 2, 1, 1, 8, 8, 3, 5, 7, 5, 6, 7, 4, 3, 9, 3, 8, 9, 0, 4, 0, 4, 5, 7, 0, 4, 3, 9, 5, 7, 2, 2, 5, 8, 3, 1, 3, 5, 4, 9, 4, 3, 9, 9, 2, 0, 8, 0, 9, 1, 9, 9, 0, 7, 1, 4, 5, 0, 3, 8, 7, 4, 5, 5, 9, 3, 2, 0, 0, 9, 0, 5, 0, 1, 3, 7, 9, 1, 5, 9, 6, 0, 9, 7, 2, 9, 2, 1, 2, 7, 5, 1, 0, 7, 3, 4, 7, 6, 4, 6, 8, 5, 7, 9, 5, 7, 3, 6, 3, 9, 3, 4, 1, 5, 6, 9, 7, 4, 0, 6, 5, 8, 0, 7, 7, 3, 2, 0, 4, 8, 2, 0, 6, 9, 8, 9, 2, 5, 0, 4, 0, 2, 6, 3, 1, 8, 7, 4, 1, 9, 1, 2, 8, 5, 6, 3, 0, 0, 2, 6, 0, 7, 2, 1, 8, 4, 8, 7, 9, 4, 1, 6, 5, 7, 7, 3, 2, 5, 7, 3, 6, 7, 3, 2, 2, 9, 6, 7, 3, 9, 1, 2, 1, 9, 7, 2, 3, 3, 8, 1, 8, 3, 5, 0, 5, 3, 8, 5, 7, 4, 9, 0, 6, 8, 3, 2, 3, 3, 4, 3, 7, 8, 7, 1, 3, 7, 8, 9, 5, 5, 2, 2, 4, 5, 0, 8, 0, 3, 6, 0, 8, 8, 9, 6, 9, 1, 5, 1, 2, 1, 3, 2, 2, 2, 4, 5, 7, 5, 9, 2, 0, 5, 7, 0, 5, 6, 5, 6, 6, 4, 0, 7, 1, 5, 2, 9, 8, 1, 7, 6, 4, 4, 0, 7, 1, 8, 5, 7, 8, 5, 5, 1, 8, 5, 9, 7, 7, 6, 5, 2, 2, 1, 2, 4, 4, 1, 6, 3, 9, 1, 8, 2, 3, 7, 6, 9, 5, 7, 4, 3, 9, 5, 6, 2, 2, 7, 3, 9, 3, 0, 5, 9, 0, 9, 6, 6, 6, 5, 9, 1, 6, 5, 2, 0, 2, 3, 1, 1, 1, 7, 6, 2, 6, 5, 9, 8, 7, 9, 3, 2, 7, 9, 2, 0, 1, 1, 1, 4, 8, 0, 8, 0, 9, 5, 6, 7, 0, 8, 4, 4, 4, 2, 2, 2, 5, 7, 2, 9, 9, 2, 2, 2, 0, 7, 4, 5, 2, 3, 3, 1, 9, 8, 1, 8, 6, 6, 3, 9, 1, 9, 7, 2, 9, 0, 9, 3, 0, 4, 2, 3, 4, 6, 6, 9, 6, 1, 1, 0, 5, 6, 7, 0, 4, 1, 1, 9, 0, 0, 1, 9, 6, 7, 3, 5, 4, 1, 2, 0, 4, 0, 3, 0, 2, 3, 5, 9, 5, 8, 9, 3, 1, 7, 8, 9, 4, 1, 1, 9, 0, 7, 0, 0, 9, 6, 0, 2, 9, 6, 8, 5, 5, 9, 3, 3, 5, 7, 1, 2, 3, 3, 5, 6, 6, 4, 1, 1, 9, 1, 6, 6, 6, 2, 2, 6, 6, 6, 3, 5, 0, 3, 0, 5, 1, 1, 8, 2, 5, 3, 5, 1, 4, 4, 3, 1, 2, 7, 9, 6, 3, 8, 5, 6, 6, 9, 1, 5, 7, 7, 4, 2, 2, 7, 5, 4, 1, 5, 7, 7, 8, 2, 8, 3, 7, 4, 6, 2, 9, 9, 0, 0, 7, 3, 1, 0, 8, 2, 4, 4, 6, 7, 1, 8, 6, 0, 3, 4, 0, 3, 9, 8, 0, 0, 8, 3, 9, 2, 1, 5, 4, 5, 0, 8, 4, 2, 5, 9, 3, 0, 2, 7, 8, 5, 9, 5, 0, 0, 6, 9, 7, 2, 9, 2, 2, 6, 4, 0, 1, 4, 3, 9, 4, 0, 3, 4, 4, 6, 9, 4, 7, 2, 5, 4, 3, 4, 5, 7, 0, 2, 1, 1, 8, 7, 3, 2, 6, 5, 2, 3, 8, 8, 8, 9, 3, 6, 9, 6, 0, 3, 6, 4, 2, 8, 8, 5, 9, 2, 7, 1, 9, 0, 3, 3, 3, 2, 3, 9, 9, 5, 3, 2, 4, 2, 4, 6, 4, 5, 3, 4, 9, 8, 5, 8, 3, 4, 1, 4, 8, 9, 2, 6, 2, 3, 5, 0, 3, 5, 2, 5, 3, 9, 1, 2, 9, 8, 9, 3, 8, 8, 5, 5, 8, 4, 4, 0, 8, 3, 6, 4, 9, 6, 1, 0, 5, 1, 4, 0, 9, 2, 6, 3, 6, 7, 4, 6, 4, 3, 8, 5, 1, 8, 3, 4, 2, 5, 6, 0, 7, 8, 7, 4, 4, 2, 2, 9, 3, 5, 0, 9, 9, 0, 1, 3, 7, 1, 9, 6, 5, 2, 6, 9, 5, 7, 9, 4, 2, 8, 3, 1, 7, 8, 8, 6, 8, 0, 5, 5, 7, 1, 9, 6, 2, 1, 5, 1, 9, 6, 1, 6, 3, 2, 5, 3, 9, 3, 5, 4, 0, 6, 9, 5, 4, 2, 3, 8, 5, 8, 3, 6, 4, 1, 4, 9, 5, 8, 9, 7, 3, 6, 9, 5, 9, 1, 1, 1, 8, 4, 1, 4, 6, 9, 9, 8, 9, 7, 4, 4, 1, 9, 9, 1, 9, 3, 2, 3, 7, 1, 1, 3, 6, 8, 3, 4, 3, 3, 8, 3, 7, 1, 0, 3, 8, 4, 7, 9, 8, 0, 3, 0, 4, 5, 7, 6, 7, 3, 5, 0, 2, 3, 3, 3, 0, 6, 4, 4, 4, 4, 4, 9, 9, 0, 7, 4, 0, 2, 2, 1, 9, 5, 9, 9, 0, 5, 8, 6, 7, 3, 9, 5, 2, 8, 9, 5, 8, 0, 0, 3, 0, 6, 3, 7, 8, 0, 1, 2, 2, 3, 1, 1, 3, 2, 2, 5, 4, 3, 9, 3, 3, 2, 3, 7, 2, 9, 2, 1, 6, 7, 5, 5, 9, 2, 6, 9, 7, 9, 7, 4, 1, 8, 3, 3, 8, 0, 8, 7, 0, 7, 7, 9, 6, 3, 0, 3, 7, 4, 1, 5, 2, 0, 5, 8, 6, 7, 0, 1, 0, 5, 6, 2, 1, 4, 1, 8, 7, 9, 9, 7, 3, 2, 2, 4, 7, 6, 3, 9, 6, 3, 9, 5, 1, 6, 9, 2, 7, 4, 3, 5, 7, 2, 7, 2, 8, 7, 5, 4, 5, 9, 4, 3, 5, 0, 2, 5, 5, 3, 1, 9, 3, 7, 1, 0, 3, 4, 4, 2, 5, 7, 2, 1, 1, 7, 7, 7, 0, 1, 6, 8, 5, 2, 5, 3, 7, 8, 7, 7, 0, 8, 5, 6, 6, 5, 5, 6, 7, 7, 9, 7, 1, 0, 0, 8, 0, 4, 0, 6, 4, 5, 5, 0, 5, 3, 6, 4, 5, 0, 7, 1, 8, 7, 1, 3, 2, 0, 6, 7, 3, 7, 4, 8, 0, 3, 9, 4, 0, 3, 0, 8, 7, 3, 3, 6, 5, 0, 1, 5, 0, 9, 9, 1, 3, 0, 6, 1, 6, 6, 5, 7, 2, 4, 0, 9, 2, 6, 8, 2, 8, 3, 7, 7, 3, 3, 9, 5, 7, 6, 0, 9, 4, 5, 0, 7, 2, 9, 5, 5, 8, 7, 1, 9, 5, 6, 3, 6, 3, 0, 2, 7, 6, 4, 2, 5, 4, 1, 5, 7, 9, 7, 3, 9, 8, 0, 5, 1, 9, 6, 1, 0, 6, 8, 0, 7, 6, 9, 8, 8, 4, 4, 4, 1, 7, 7, 1, 1, 6, 7, 6, 3, 2, 8, 7, 8, 7, 9, 1, 1, 3, 8, 9, 5, 9, 1, 0, 6, 3, 4, 4, 4, 7, 1, 3, 0, 1, 5, 4, 4, 9, 2, 4, 2, 2, 6, 7, 7, 6, 7, 1, 4, 0, 8, 3, 3, 5, 6, 0, 8, 3, 0, 2, 0, 1, 8, 4, 0, 2, 9, 5, 4, 4, 5, 2, 1, 6, 4, 6, 5, 8, 0, 7, 3, 2, 6, 7, 2, 2, 3, 6, 6, 2, 0, 3, 2, 5, 1, 7, 5, 2, 5, 7, 7, 9, 9, 9, 2, 0, 9, 2, 0, 5, 5, 5, 0, 5, 0, 6, 6, 0, 6, 9, 9, 2, 4, 5, 4, 0, 1, 0, 8, 9, 5, 7, 3, 0, 2, 4, 1, 3, 8, 1, 8, 2, 0, 6, 9, 8, 5, 1, 2, 4, 0, 9, 6, 8, 8, 0, 7, 1, 6, 9, 8, 9, 9, 4, 9, 6, 3, 3, 4, 5, 0, 8, 0, 4, 0, 3, 0, 0, 0, 3, 3, 5, 9, 4, 7, 1, 5, 4, 1, 6, 1, 7, 9, 4, 3, 4, 5, 2, 9, 4, 9, 8, 8, 7, 4, 2, 3, 9, 3, 6, 7, 0, 2, 7, 0, 6, 1, 0, 5, 7, 0, 5, 9, 4, 3, 2, 8, 5, 8, 1, 9, 6, 7, 6, 7, 3, 6, 4, 5, 1, 8, 8, 8, 7, 4, 6, 5, 1, 5, 9, 6, 0, 9, 5, 8, 5, 7, 3, 9, 8, 3, 4, 6, 5, 7, 5, 1, 1, 5, 4, 1, 8, 5, 8, 2, 9, 6, 3, 3, 4, 0, 2, 4, 1, 1, 6, 7, 3, 9, 0, 2, 8, 8, 8, 6, 7, 7, 1, 2, 6, 6, 1, 6, 0, 2, 5, 8, 2, 4, 2, 3, 1, 5, 5, 4, 4, 0, 5, 4, 7, 6, 3, 4, 5, 5, 7, 5, 7, 0, 1, 1, 9, 7, 5, 0, 1, 9, 6, 3, 6, 5, 4, 3, 6, 5, 7, 2, 2, 2, 0, 5, 6, 6, 3, 7, 8, 6, 2, 6, 1, 1, 7, 5, 2, 5, 3, 4, 8, 5, 8, 8, 6, 1, 2, 3, 5, 6, 9, 0, 4, 5, 2, 3, 4, 9, 5, 5, 9, 4, 6, 4, 1, 1, 8, 9, 4, 4, 2, 3, 3, 0, 7, 1, 8, 8, 5, 0, 0, 7, 7, 1, 0, 1, 4, 1, 9, 0, 4, 1, 1, 0, 7, 3, 7, 3, 9, 0, 1, 8, 9, 0, 0, 6, 0, 9, 1, 6, 1, 2, 7, 8, 0, 5, 6, 8, 2, 5, 5, 1, 5, 9, 1, 8, 5, 3, 1, 6, 6, 0, 7, 3, 5, 4, 8, 0, 7, 1, 2, 3, 9, 8, 3, 8, 7, 7, 9, 7, 0, 9, 4, 0, 9, 6, 1, 9, 8, 6, 3, 7, 4, 9, 5, 4, 7, 1, 2, 1, 2, 3, 9, 2, 0, 5, 0, 0, 5, 5, 4, 0, 9, 9, 1, 6, 7, 7, 7, 4, 5, 1, 2, 0, 6, 3, 8, 9, 8, 4, 1, 0, 8, 3, 9, 8, 8, 7, 8, 3, 0, 0, 7, 4, 8, 6, 9, 9, 4, 5, 7, 2, 2, 1, 5, 3, 4, 0, 5, 5, 0, 8, 4, 7, 8, 9, 4, 2, 1, 7, 4, 4, 4, 9, 4, 3, 6, 0, 7, 7, 8, 0, 9, 1, 2, 6, 2, 9, 7, 1, 9, 7, 3, 3, 1, 2, 3, 5, 4, 3, 7, 4, 1, 4, 6, 6, 7, 5, 4, 6, 7, 9, 8, 1, 8, 1, 2, 2, 5, 5, 6, 1, 4, 6, 6, 1, 2, 0, 7, 6, 8, 8, 2, 8, 4, 5, 0, 0, 1, 7, 9, 7, 4, 9, 4, 0, 2, 8, 7, 1, 0, 8, 7, 6, 8, 4, 8, 2, 8, 0, 1, 5, 3, 8, 1, 7, 4, 9, 3, 7, 9, 5, 1, 8, 3, 0, 9, 3, 6, 2, 4, 2, 7, 6, 2, 9, 8, 8, 1, 5, 7, 7, 1, 9, 5, 4, 1, 0, 7, 8, 7, 3, 7, 6, 2, 5, 5, 4, 6, 7, 2, 6, 3, 2, 0, 4, 7, 8, 6, 6, 0, 1, 5, 3, 8, 3, 9, 7, 1, 7, 1, 0, 3, 8, 5, 0, 0, 6, 4, 1, 1, 2, 9, 0, 6, 2, 1, 3, 2, 7, 6, 1, 8, 5, 7, 2, 0, 5, 0, 4, 6, 2, 2, 5, 4, 1, 8, 2, 1, 5, 3, 8, 8, 9, 9, 0, 1, 8, 1, 4, 9, 0, 3, 1, 1, 4, 7, 8, 3, 4, 9, 6, 6, 8, 3, 8, 2, 9, 4, 7, 7, 0, 3, 0, 2, 5, 7, 3, 7, 4, 6, 0, 9, 3, 6, 5, 4, 1, 2, 1, 8, 1, 9, 4, 8, 9, 9, 3, 3, 7, 0, 6, 6, 1, 6, 6, 6, 4, 2, 2, 7, 0, 6, 1, 2, 0, 0, 1, 6, 0, 3, 5, 7, 9, 1, 6, 3, 7, 5, 1, 2, 7, 7, 5, 8, 0, 9, 1, 0, 1, 6, 9, 1, 6, 5, 3, 3, 0, 7, 1, 2, 7, 9, 3, 7, 4, 4, 4, 6, 7, 4, 7, 3, 1, 7, 8, 8, 7, 0, 1, 4, 0, 9, 7, 9, 9, 1, 2, 0, 4, 7, 4, 3, 4, 1, 7, 5, 7, 0, 9, 0, 0, 3, 1, 4, 7, 9, 3, 6, 7, 8, 4, 7, 4, 0, 8, 3, 0, 1, 7, 9, 6, 9, 1, 4, 6, 7, 1, 0, 6, 3, 7, 3, 1, 8, 6, 5, 9, 5, 8, 1, 0, 9, 2, 6, 2, 1, 1, 4, 7, 3, 0, 7, 5, 8, 9, 5, 4, 0, 4, 7, 2, 3, 8, 3, 8, 1, 1, 2, 4, 8, 1, 6, 8, 1, 8, 5, 3, 2, 7, 2, 2, 4, 9, 6, 0, 4, 9, 9, 6, 9, 9, 6, 7, 3, 4, 3, 3, 9, 4, 7, 7, 8, 1, 1, 6, 6, 5, 7, 9, 4, 7, 6, 7, 0, 0, 2, 9, 9, 7, 7, 5, 0, 1, 4, 3, 4, 6, 4, 0, 9, 8, 7, 8, 4, 4, 8, 9, 7, 1, 6, 7, 9, 9, 0, 1, 5, 1, 1, 3, 6, 7, 9, 8, 3, 3, 8, 5, 2, 4, 3, 6, 8, 6, 9, 0, 6, 9, 0, 1, 6, 8, 1, 8, 2, 1, 8, 1, 7, 1, 9, 1, 8, 0, 9, 4, 1, 0, 8, 4, 4, 6, 8, 2, 2, 5, 5, 0, 6, 6, 9, 8, 0, 1, 0, 0, 4, 8, 3, 4, 7, 7, 5, 9, 2, 5, 4, 4, 9, 9, 4, 8, 7, 6, 9, 3, 4, 0, 4, 8, 0, 1, 9, 2, 1, 6, 7, 1, 8, 5, 0, 4, 6, 4, 1, 1, 9, 8, 8, 9, 1, 2, 6, 0, 5, 2, 5, 6, 8, 3, 6, 1, 8, 6, 1, 5, 0, 3, 3, 1, 9, 2, 8, 7, 8, 2, 3, 6, 2, 5, 0, 9, 0, 7, 1, 1, 7, 9, 6, 1, 6, 7, 5, 4, 6, 3, 3, 6, 1, 6, 0, 9, 9, 8, 2, 9, 6, 2, 5, 4, 7, 2, 6, 5, 6, 0, 9, 3, 7, 0, 2, 3, 5, 6, 4, 3, 4, 6, 9, 8, 8, 3, 2, 0, 0, 3, 9, 2, 2, 8, 1, 9, 2, 4, 9, 3, 6, 2, 0, 6, 7, 0, 5, 0, 6, 3, 1, 3, 0, 9, 5, 4, 3, 7, 0, 6, 2, 9, 0, 7, 6, 5, 6, 8, 2, 1, 0, 6, 6, 5, 9, 3, 5, 0, 6, 0, 7, 4, 6, 8, 3, 3, 8, 6, 3, 8, 9, 4, 0, 8, 8, 3, 8, 0, 7, 7, 0, 3, 6, 8, 1, 5, 9, 6, 2, 8, 9, 0, 1, 0, 5, 5, 2, 2, 8, 2, 3, 6, 7, 4, 5, 3, 7, 4, 5, 8, 8, 3, 9, 5, 0, 6, 2, 6, 3, 6, 6, 9, 2, 5, 6, 5, 6, 3, 1, 7, 8, 0, 4, 7, 3, 3, 8, 6, 0, 9, 2, 8, 5, 4, 9, 6, 6, 4, 2, 0, 1, 1, 9, 3, 8, 2, 1, 9, 5, 8, 4, 8, 2, 3, 5, 3, 6, 4, 9, 2, 6, 2, 9, 8, 0, 5, 9, 2, 4, 5, 2, 1, 0, 7, 4, 4, 2, 7, 4, 0, 6, 6, 1, 5, 4, 0, 1, 9, 9, 5, 6, 5, 2, 9, 6, 6, 4, 5, 4, 8, 9, 0, 9, 5, 5, 5, 7, 9, 3, 3, 8, 4, 3, 9, 3, 1, 0, 2, 5, 2, 8, 7, 9, 7, 7, 7, 9, 2, 0, 0, 6, 7, 6, 1, 8, 0, 3, 8, 5, 0, 5, 6, 9, 1, 1, 2, 6, 8, 9, 7, 7, 5, 8, 6, 1, 4, 0, 1, 8, 4, 3, 4, 7, 9, 3, 7, 5, 5, 0, 9, 1, 2, 1, 2, 7, 6, 0, 9, 3, 2, 1, 1, 7, 8, 1, 6, 5, 9, 0, 0, 9, 5, 3, 8, 8, 2, 8, 5, 7, 0, 7, 0, 9, 6, 9, 2, 9, 4, 8, 5, 2, 0, 1, 6, 6, 1, 7, 6, 1, 7, 7, 8, 5, 7, 0, 6, 4, 2, 1, 6, 8, 0, 0, 2, 7, 5, 9, 1, 0, 4, 3, 7, 6, 6, 3, 1, 8, 4, 7, 2, 5, 9, 3, 1, 8, 1, 9, 2, 9, 6, 2, 2, 1, 8, 3, 9, 8, 2, 0, 4, 8, 4, 5, 1, 2, 2, 6, 4, 1, 8, 5, 7, 7, 7, 3, 5, 5, 7, 9, 9, 8, 2, 8, 2, 1, 3, 3, 4, 8, 9, 4, 0, 7, 6, 2, 8, 1, 0, 6, 1, 6, 5, 2, 9, 7, 2, 8, 7, 3, 7, 8, 1, 2, 1, 7, 4, 8, 8, 5, 0, 2, 6, 6, 1, 2, 6, 5, 0, 1, 5, 5, 2, 5, 1, 9, 8, 7, 1, 2, 7, 0, 9, 3, 1, 9, 0, 4, 6, 6, 5, 9, 9, 4, 2, 7, 1, 8, 1, 4, 2, 3, 7, 8, 4, 6, 4, 5, 1, 2, 9, 3, 5, 8, 0, 1, 9, 6, 7, 3, 7, 4, 4, 0, 6, 2, 1, 1, 3, 0, 7, 0, 5, 9, 8, 9, 3, 7, 9, 9, 4, 8, 8, 0, 1, 6, 4, 0, 6, 8, 1, 6, 1, 6, 3, 2, 7, 8, 7, 0, 4, 3, 4, 4, 5, 7, 9, 2, 5, 2, 4, 5, 0, 1, 7, 6, 7, 6, 0, 0, 0, 5, 1, 1, 2, 4, 6, 9, 8, 1, 6, 1, 6, 8, 5, 4, 0, 4, 0, 4, 9, 3, 8, 5, 2, 8, 6, 2, 8, 0, 4, 4, 0, 8, 7, 5, 2, 8, 9, 2, 9, 5, 9, 2, 1, 0, 4, 1, 7, 7, 1, 7, 3, 5, 8, 7, 2, 5, 1, 5, 2, 0, 6, 0, 1, 2, 4, 4, 8, 0, 3, 2, 0, 3, 5, 1, 3, 3, 0, 5, 1, 8, 3, 1, 8, 7, 8, 4, 2, 0, 0, 7, 8, 1, 3, 9, 0, 2, 8, 1, 4, 8, 8, 3, 0, 8, 5, 7, 5, 4, 7, 7, 6, 1, 8, 1, 9, 7, 0, 3, 1, 6, 5, 5, 3, 8, 9, 4, 0, 9, 5, 1, 7, 2, 1, 5, 2, 8, 3, 3, 6, 7, 1, 3, 4, 4, 5, 7, 0, 6, 7, 3, 3, 7, 8, 8, 2, 5, 6, 9, 7, 0, 2, 9, 3, 0, 5, 5, 6, 9, 1, 4, 1, 5, 6, 4, 1, 4, 0, 3, 3, 6, 3, 0, 8, 6, 7, 5, 5, 7, 0, 7, 9, 4, 4, 2, 9, 1, 7, 1, 8, 8, 8, 5, 8, 3, 8, 9, 3, 0, 0, 2, 1, 8, 4, 4, 0, 0, 9, 5, 3, 1, 5, 1, 3, 5, 0, 2, 6, 1, 5, 3, 0, 8, 6, 9, 6, 9, 6, 0, 4, 1, 6, 6, 4, 9, 1, 4, 9, 7, 8, 2, 6, 2, 9, 7, 8, 5, 6, 9, 6, 0, 0, 8, 1, 3, 2, 7, 5, 8, 4, 5, 6, 8, 9, 1, 9, 1, 8, 1, 5]\n",
            "[9, 2, 1, 1, 6, 1, 2, 6, 5, 7, 4, 5, 7, 3, 4, 1, 2, 6, 8, 0, 4, 7, 7, 9, 1, 2, 6, 0, 9, 3, 8, 8, 3, 3, 8, 0, 7, 5, 7, 9, 0, 1, 4, 9, 4, 7, 2, 1, 8, 4, 4, 6, 5, 8, 2, 2, 8, 6, 8, 0, 7, 7, 8, 5, 1, 1, 2, 3, 7, 8, 7, 0, 2, 6, 2, 3, 1, 2, 8, 4, 1, 8, 5, 9, 5, 0, 3, 2, 0, 6, 5, 3, 6, 7, 1, 8, 0, 1, 4, 2, 3, 6, 7, 2, 7, 8, 5, 9, 9, 4, 2, 5, 7, 0, 5, 2, 8, 6, 7, 8, 0, 0, 5, 9, 3, 0, 8, 4, 1, 5, 4, 1, 5, 1, 8, 6, 2, 1, 2, 5, 1, 6, 0, 0, 1, 0, 1, 3, 2, 2, 6, 4, 1, 4, 5, 0, 4, 7, 9, 3, 7, 2, 3, 9, 0, 9, 2, 7, 4, 2, 3, 5, 2, 1, 2, 1, 3, 0, 9, 1, 0, 9, 3, 6, 7, 9, 9, 4, 4, 7, 1, 2, 3, 4, 3, 2, 8, 4, 6, 1, 1, 0, 2, 9, 2, 4, 0, 7, 9, 3, 4, 1, 8, 4, 1, 3, 1, 6, 7, 2, 8, 5, 2, 0, 7, 7, 6, 2, 7, 0, 7, 8, 9, 2, 9, 0, 5, 1, 4, 4, 5, 4, 9, 2, 2, 8, 6, 6, 2, 2, 9, 7, 6, 5, 5, 2, 8, 5, 2, 3, 0, 4, 8, 0, 0, 4, 3, 8, 9, 3, 1, 6, 0, 2, 3, 0, 8, 3, 7, 2, 0, 1, 6, 3, 0, 2, 2, 7, 5, 4, 5, 9, 5, 6, 5, 5, 1, 9, 8, 8, 3, 3, 6, 8, 0, 0, 2, 9, 5, 7, 1, 3, 6, 4, 8, 4, 7, 1, 2, 4, 8, 2, 0, 5, 4, 2, 7, 7, 7, 3, 3, 7, 3, 7, 1, 3, 7, 2, 2, 3, 4, 0, 0, 1, 6, 1, 9, 4, 9, 9, 1, 7, 8, 3, 3, 0, 2, 4, 8, 2, 1, 4, 2, 4, 4, 7, 3, 2, 2, 5, 0, 7, 9, 4, 0, 9, 3, 9, 3, 2, 5, 6, 2, 3, 5, 8, 1, 6, 2, 2, 6, 4, 9, 5, 2, 0, 4, 6, 1, 2, 0, 9, 7, 0, 4, 4, 3, 6, 2, 1, 0, 6, 7, 2, 9, 4, 2, 1, 5, 4, 5, 3, 8, 5, 8, 4, 4, 8, 9, 8, 6, 6, 4, 4, 2, 4, 1, 6, 1, 3, 0, 9, 8, 8, 4, 5, 3, 1, 9, 5, 3, 0, 0, 1, 2, 2, 9, 4, 0, 4, 3, 4, 2, 0, 0, 3, 3, 8, 2, 8, 9, 4, 0, 7, 0, 4, 4, 9, 6, 9, 5, 9, 3, 7, 5, 7, 8, 1, 0, 0, 4, 6, 8, 9, 7, 9, 1, 2, 7, 3, 2, 0, 5, 7, 1, 8, 2, 2, 2, 2, 2, 4, 3, 1, 9, 8, 5, 1, 9, 1, 2, 8, 3, 8, 9, 2, 4, 2, 8, 2, 2, 2, 5, 8, 8, 5, 3, 9, 4, 3, 4, 4, 5, 1, 0, 1, 2, 0, 6, 9, 6, 1, 5, 1, 1, 1, 9, 3, 4, 5, 3, 2, 6, 6, 4, 0, 0, 5, 8, 6, 3, 4, 6, 7, 7, 8, 9, 0, 3, 8, 7, 0, 7, 9, 3, 4, 3, 4, 5, 0, 1, 1, 5, 9, 4, 2, 5, 7, 8, 1, 2, 9, 7, 7, 1, 0, 9, 6, 2, 9, 0, 7, 3, 8, 2, 7, 0, 2, 3, 6, 2, 2, 6, 9, 3, 0, 7, 8, 0, 2, 9, 6, 2, 0, 4, 4, 0, 4, 4, 4, 7, 5, 5, 4, 9, 1, 0, 5, 4, 4, 4, 0, 0, 4, 5, 2, 0, 4, 5, 4, 1, 8, 1, 1, 6, 4, 3, 8, 2, 8, 4, 7, 0, 4, 3, 8, 5, 0, 8, 2, 9, 0, 8, 9, 6, 4, 2, 9, 6, 4, 5, 0, 9, 5, 3, 6, 6, 8, 3, 6, 8, 1, 4, 0, 9, 9, 9, 4, 8, 9, 1, 3, 7, 0, 0, 6, 6, 7, 1, 0, 0, 8, 7, 2, 6, 6, 6, 4, 1, 5, 9, 0, 0, 1, 6, 5, 0, 2, 3, 3, 3, 8, 1, 6, 8, 5, 7, 7, 8, 7, 2, 0, 7, 6, 8, 0, 9, 7, 6, 1, 0, 6, 4, 8, 0, 6, 3, 6, 8, 4, 0, 8, 9, 2, 4, 5, 9, 1, 4, 4, 9, 2, 1, 7, 9, 5, 8, 3, 9, 7, 1, 1, 1, 4, 9, 5, 3, 8, 2, 4, 9, 4, 8, 3, 2, 2, 2, 7, 1, 4, 9, 3, 5, 8, 5, 4, 7, 4, 8, 5, 9, 3, 3, 4, 7, 1, 7, 3, 5, 4, 6, 5, 8, 3, 9, 1, 2, 6, 1, 9, 8, 2, 7, 1, 3, 7, 5, 9, 9, 1, 8, 6, 5, 7, 1, 9, 8, 1, 0, 0, 6, 1, 7, 1, 1, 5, 7, 1, 5, 2, 2, 3, 3, 1, 1, 6, 9, 4, 3, 5, 7, 8, 8, 9, 9, 4, 1, 3, 4, 0, 3, 5, 9, 6, 3, 5, 5, 1, 5, 7, 8, 7, 5, 3, 2, 4, 0, 4, 0, 2, 0, 2, 5, 5, 1, 2, 0, 9, 3, 7, 8, 4, 8, 3, 4, 7, 0, 7, 4, 8, 8, 3, 4, 4, 3, 4, 9, 0, 2, 4, 9, 1, 8, 1, 7, 5, 5, 6, 0, 2, 1, 0, 5, 4, 0, 0, 6, 7, 9, 0, 0, 5, 9, 6, 8, 2, 6, 3, 0, 2, 9, 3, 7, 7, 1, 4, 2, 0, 5, 0, 9, 9, 8, 8, 3, 0, 2, 4, 6, 6, 3, 2, 3, 5, 6, 9, 3, 4, 7, 7, 6, 3, 5, 5, 6, 4, 5, 9, 6, 3, 7, 5, 1, 9, 8, 8, 9, 9, 2, 7, 2, 2, 3, 8, 7, 2, 6, 5, 4, 3, 6, 1, 4, 9, 3, 1, 6, 5, 0, 5, 7, 5, 2, 3, 3, 9, 4, 3, 6, 0, 4, 7, 0, 4, 9, 6, 0, 3, 4, 7, 0, 2, 1, 1, 4, 4, 8, 5, 9, 0, 1, 6, 5, 1, 4, 4, 8, 4, 7, 7, 3, 8, 1, 1, 9, 8, 1, 3, 3, 7, 5, 1, 5, 7, 8, 9, 6, 3, 5, 8, 4, 4, 3, 8, 6, 5, 5, 6, 7, 1, 5, 3, 5, 4, 8, 6, 2, 1, 1, 7, 9, 6, 2, 7, 3, 0, 8, 2, 2, 3, 0, 4, 4, 9, 6, 8, 2, 5, 9, 0, 3, 9, 2, 9, 8, 7, 4, 2, 2, 5, 3, 7, 2, 7, 2, 9, 3, 7, 0, 9, 3, 8, 4, 4, 7, 2, 3, 6, 2, 0, 7, 8, 4, 2, 4, 5, 5, 0, 4, 5, 5, 8, 1, 1, 7, 4, 6, 9, 6, 8, 7, 4, 6, 1, 6, 7, 7, 4, 9, 8, 5, 1, 1, 0, 2, 0, 9, 1, 1, 9, 0, 5, 5, 2, 0, 7, 6, 2, 0, 1, 3, 1, 3, 4, 7, 4, 2, 9, 5, 2, 9, 6, 3, 4, 4, 0, 2, 5, 2, 2, 5, 2, 1, 2, 2, 5, 4, 3, 8, 0, 2, 4, 0, 6, 4, 6, 8, 3, 8, 8, 0, 4, 4, 8, 2, 4, 5, 2, 2, 3, 0, 1, 9, 0, 9, 1, 9, 6, 5, 2, 2, 7, 3, 8, 5, 0, 3, 0, 7, 5, 5, 9, 7, 0, 6, 0, 3, 4, 4, 4, 5, 7, 1, 3, 4, 0, 4, 5, 1, 6, 7, 3, 2, 8, 8, 4, 8, 9, 4, 1, 6, 5, 2, 7, 8, 5, 3, 8, 5, 2, 2, 8, 9, 8, 4, 3, 1, 8, 8, 2, 0, 9, 4, 4, 8, 1, 3, 6, 1, 9, 2, 1, 2, 4, 7, 9, 6, 6, 3, 4, 4, 2, 4, 5, 0, 2, 8, 3, 7, 6, 4, 0, 0, 5, 2, 8, 2, 4, 3, 0, 2, 1, 7, 7, 5, 4, 7, 2, 4, 7, 3, 3, 1, 3, 3, 6, 4, 1, 7, 6, 4, 7, 1, 0, 6, 5, 8, 4, 6, 7, 9, 5, 0, 7, 9, 5, 1, 2, 9, 5, 5, 3, 9, 9, 1, 2, 7, 8, 0, 1, 7, 2, 7, 1, 1, 5, 5, 6, 6, 5, 9, 5, 5, 2, 3, 9, 3, 8, 5, 4, 0, 0, 0, 5, 7, 4, 5, 2, 6, 4, 4, 7, 4, 0, 5, 1, 7, 2, 3, 4, 8, 7, 8, 7, 1, 2, 3, 2, 9, 7, 5, 6, 4, 0, 7, 1, 2, 4, 9, 3, 6, 4, 4, 3, 0, 0, 2, 3, 6, 1, 3, 7, 2, 5, 3, 9, 1, 1, 8, 2, 9, 5, 0, 5, 4, 6, 7, 1, 1, 5, 3, 8, 7, 8, 3, 8, 9, 6, 6, 1, 1, 3, 5, 6, 7, 1, 9, 9, 6, 2, 7, 0, 1, 1, 9, 6, 3, 5, 2, 8, 1, 8, 0, 7, 9, 8, 9, 3, 2, 0, 4, 0, 6, 5, 8, 3, 8, 7, 5, 7, 3, 7, 6, 7, 0, 2, 2, 5, 3, 5, 1, 1, 7, 7, 6, 3, 6, 6, 2, 8, 6, 3, 3, 4, 9, 9, 4, 5, 2, 2, 7, 8, 6, 7, 9, 1, 6, 9, 4, 7, 3, 4, 3, 3, 1, 8, 8, 5, 3, 8, 0, 6, 6, 3, 2, 0, 4, 7, 3, 6, 8, 3, 9, 7, 3, 1, 7, 5, 8, 8, 6, 0, 4, 4, 4, 8, 5, 7, 0, 6, 8, 7, 7, 3, 9, 2, 5, 9, 7, 1, 7, 2, 4, 5, 1, 4, 5, 4, 5, 0, 4, 2, 1, 4, 3, 8, 4, 5, 9, 4, 1, 1, 7, 2, 4, 5, 0, 3, 9, 7, 5, 0, 8, 8, 8, 9, 1, 1, 6, 4, 1, 4, 3, 4, 9, 9, 0, 0, 6, 9, 4, 9, 0, 6, 1, 8, 9, 2, 9, 4, 8, 0, 7, 2, 3, 0, 2, 5, 6, 1, 9, 0, 2, 2, 9, 9, 0, 8, 3, 3, 6, 6, 0, 4, 2, 6, 6, 5, 0, 2, 7, 8, 7, 4, 6, 6, 6, 5, 2, 4, 2, 9, 5, 2, 6, 7, 0, 1, 9, 5, 5, 0, 7, 7, 5, 0, 5, 0, 8, 4, 7, 7, 8, 2, 6, 7, 3, 3, 7, 7, 7, 8, 2, 9, 5, 7, 2, 5, 7, 5, 1, 3, 0, 4, 9, 9, 2, 3, 7, 0, 4, 4, 9, 3, 6, 1, 9, 9, 1, 9, 7, 2, 7, 6, 5, 7, 3, 7, 5, 5, 4, 0, 7, 3, 3, 2, 0, 2, 9, 9, 0, 3, 6, 8, 3, 8, 8, 4, 4, 1, 8, 6, 6, 7, 0, 2, 4, 3, 0, 0, 1, 0, 8, 4, 9, 0, 7, 3, 7, 7, 1, 5, 8, 7, 2, 9, 9, 1, 2, 6, 1, 1, 1, 8, 8, 1, 3, 7, 5, 2, 0, 8, 4, 8, 9, 4, 1, 3, 1, 9, 8, 1, 3, 1, 8, 0, 9, 9, 7, 6, 6, 4, 2, 1, 1, 7, 9, 4, 2, 0, 4, 6, 6, 8, 1, 9, 2, 4, 2, 2, 4, 8, 7, 1, 8, 5, 5, 7, 7, 6, 6, 2, 9, 0, 6, 0, 5, 5, 0, 2, 1, 0, 3, 7, 9, 3, 7, 2, 5, 7, 9, 8, 9, 1, 4, 8, 3, 2, 0, 6, 0, 8, 3, 8, 0, 8, 6, 0, 8, 8, 3, 2, 9, 3, 2, 0, 8, 5, 9, 0, 1, 1, 1, 9, 5, 1, 3, 3, 6, 0, 8, 0, 1, 3, 8, 8, 0, 7, 5, 0, 6, 7, 3, 3, 2, 4, 4, 5, 5, 4, 4, 3, 9, 1, 1, 7, 3, 8, 7, 2, 2, 9, 3, 9, 9, 0, 1, 7, 1, 4, 8, 1, 2, 9, 3, 4, 0, 0, 7, 6, 9, 9, 5, 5, 7, 0, 9, 3, 3, 6, 9, 8, 3, 2, 2, 3, 9, 2, 3, 6, 7, 3, 0, 6, 8, 1, 8, 7, 3, 4, 5, 2, 2, 9, 1, 9, 4, 9, 1, 0, 2, 8, 8, 7, 7, 7, 7, 2, 6, 0, 7, 5, 8, 5, 0, 0, 0, 4, 9, 2, 6, 1, 1, 9, 3, 1, 2, 2, 2, 3, 7, 5, 7, 4, 4, 4, 1, 2, 3, 5, 4, 2, 9, 1, 5, 9, 3, 6, 6, 4, 0, 1, 7, 7, 6, 6, 7, 7, 3, 0, 4, 3, 2, 7, 8, 7, 2, 8, 0, 8, 7, 4, 4, 2, 7, 0, 9, 9, 3, 1, 5, 9, 3, 1, 3, 3, 3, 5, 9, 7, 9, 8, 3, 5, 9, 3, 7, 9, 3, 6, 0, 6, 5, 7, 7, 2, 3, 5, 3, 1, 1, 9, 2, 3, 9, 5, 5, 7, 2, 3, 9, 0, 2, 1, 9, 7, 1, 5, 0, 5, 5, 0, 3, 5, 0, 3, 3, 7, 4, 2, 6, 8, 5, 9, 2, 1, 0, 5, 5, 8, 5, 3, 7, 4, 4, 4, 9, 0, 0, 0, 9, 1, 2, 3, 1, 5, 1, 8, 5, 1, 1, 2, 9, 4, 0, 5, 2, 8, 0, 2, 9, 8, 2, 4, 8, 3, 8, 0, 6, 2, 0, 2, 8, 5, 6, 9, 0, 9, 5, 8, 6, 9, 1, 2, 7, 2, 1, 6, 0, 0, 6, 5, 0, 4, 8, 7, 5, 2, 6, 3, 8, 6, 3, 1, 9, 2, 9, 7, 2, 6, 4, 8, 3, 4, 8, 5, 2, 8, 3, 3, 1, 2, 2, 0, 4, 9, 0, 6, 1, 9, 9, 8, 1, 8, 8, 3, 3, 3, 8, 5, 9, 6, 2, 8, 7, 0, 0, 6, 0, 0, 5, 7, 5, 0, 7, 9, 1, 2, 4, 8, 9, 3, 5, 6, 0, 4, 4, 7, 8, 9, 1, 8, 2, 5, 5, 3, 3, 1, 8, 8, 3, 0, 7, 0, 1, 8, 6, 3, 6, 9, 8, 9, 8, 8, 4, 9, 1, 8, 4, 2, 7, 7, 0, 5, 1, 1, 0, 6, 4, 6, 0, 4, 3, 5, 1, 4, 3, 3, 2, 4, 5, 0, 9, 8, 3, 3, 1, 0, 6, 1, 4, 4, 6, 8, 4, 9, 0, 9, 9, 5, 0, 0, 0, 5, 0, 3, 9, 7, 3, 6, 1, 9, 4, 1, 6, 6, 5, 4, 1, 4, 8, 5, 9, 4, 5, 3, 8, 8, 1, 6, 6, 8, 9, 0, 5, 6, 2, 4, 9, 3, 2, 2, 8, 5, 9, 2, 3, 1, 0, 3, 6, 2, 7, 2, 1, 2, 4, 4, 1, 4, 8, 5, 0, 8, 5, 2, 7, 8, 1, 5, 9, 8, 0, 9, 0, 9, 3, 7, 5, 7, 9, 6, 0, 7, 1, 5, 5, 9, 5, 4, 4, 2, 4, 5, 9, 7, 4, 2, 6, 9, 9, 4, 2, 1, 3, 7, 1, 8, 7, 9, 1, 8, 9, 3, 7, 7, 7, 1, 7, 4, 4, 6, 2, 4, 5, 2, 8, 9, 0, 8, 0, 0, 7, 5, 5, 0, 1, 9, 6, 0, 4, 9, 2, 6, 6, 7, 1, 0, 5, 8, 7, 6, 8, 2, 3, 6, 1, 7, 4, 8, 7, 4, 1, 5, 8, 2, 4, 2, 4, 4, 1, 8, 4, 7, 2, 9, 6, 5, 6, 3, 3, 8, 8, 2, 0, 7, 2, 4, 0, 3, 1, 0, 8, 1, 7, 7, 2, 6, 3, 1, 4, 7, 0, 6, 0, 6, 2, 7, 2, 8, 3, 2, 3, 0, 9, 7, 0, 5, 4, 9, 4, 4, 5, 0, 2, 8, 4, 0, 4, 4, 0, 4, 1, 6, 4, 6, 7, 1, 0, 6, 1, 1, 1, 5, 6, 3, 8, 3, 4, 1, 7, 4, 9, 8, 8, 4, 5, 5, 6, 7, 4, 9, 1, 6, 5, 3, 7, 0, 1, 1, 8, 6, 2, 0, 5, 9, 6, 3, 8, 1, 0, 4, 2, 2, 4, 8, 4, 4, 2, 1, 9, 6, 7, 9, 5, 7, 6, 1, 5, 8, 8, 2, 2, 6, 6, 3, 1, 0, 4, 0, 3, 9, 8, 4, 0, 8, 4, 3, 9, 7, 1, 1, 9, 5, 1, 9, 6, 4, 2, 3, 8, 3, 7, 1, 3, 0, 7, 3, 5, 8, 1, 4, 2, 3, 4, 8, 8, 8, 4, 6, 1, 8, 9, 3, 0, 6, 0, 2, 9, 7, 3, 9, 0, 1, 2, 5, 9, 6, 0, 5, 0, 5, 8, 5, 3, 6, 2, 8, 6, 0, 9, 3, 0, 5, 8, 1, 1, 2, 6, 0, 6, 8, 4, 6, 3, 3, 9, 5, 4, 3, 3, 1, 8, 1, 5, 2, 0, 0, 7, 9, 3, 2, 7, 1, 7, 2, 1, 6, 2, 2, 6, 7, 2, 4, 9, 3, 2, 5, 2, 8, 6, 2, 6, 7, 6, 2, 1, 1, 0, 3, 5, 5, 2, 6, 6, 1, 8, 8, 4, 4, 4, 4, 2, 9, 8, 3, 7, 6, 6, 0, 2, 4, 5, 4, 9, 8, 1, 2, 3, 6, 4, 9, 4, 3, 5, 1, 4, 6, 0, 1, 1, 0, 2, 6, 9, 9, 0, 1, 2, 2, 3, 7, 6, 1, 1, 7, 7, 8, 7, 6, 5, 1, 7, 2, 0, 9, 4, 1, 6, 2, 6, 5, 8, 5, 2, 5, 8, 4, 0, 9, 0, 8, 1, 3, 8, 2, 8, 2, 0, 2, 3, 8, 7, 8, 2, 2, 0, 6, 0, 4, 5, 4, 4, 1, 1, 9, 7, 0, 6, 6, 1, 4, 2, 7, 5, 1, 8, 3, 3, 7, 9, 8, 7, 2, 7, 9, 7, 2, 2, 2, 4, 3, 3, 9, 1, 1, 4, 8, 0, 9, 7, 5, 2, 8, 8, 3, 6, 3, 8, 8, 2, 2, 5, 9, 2, 3, 8, 3, 2, 8, 3, 3, 1, 1, 3, 0, 1, 8, 4, 1, 5, 8, 1, 5, 8, 0, 7, 8, 7, 5, 9, 5, 5, 3, 6, 7, 8, 4, 5, 1, 0, 6, 2, 4, 3, 7, 7, 9, 7, 2, 5, 8, 5, 8, 5, 3, 0, 9, 7, 2, 0, 6, 8, 4, 0, 7, 4, 7, 2, 8, 6, 7, 0, 0, 4, 0, 6, 7, 8, 1, 3, 8, 1, 5, 3, 6, 1, 1, 4, 6, 9, 8, 2, 8, 2, 7, 7, 1, 3, 0, 3, 0, 7, 8, 7, 6, 5, 2, 4, 7, 5, 8, 8, 9, 7, 3, 2, 4, 8, 3, 9, 5, 7, 6, 2, 6, 7, 3, 8, 5, 1, 8, 9, 6, 2, 1, 6, 2, 7, 2, 0, 6, 2, 8, 9, 7, 9, 4, 6, 8, 2, 6, 0, 6, 3, 3, 1, 5, 6, 7, 5, 0, 7, 2, 2, 0, 5, 1, 1, 6, 7, 3, 8, 8, 7, 7, 9, 9, 5, 5, 3, 0, 7, 1, 4, 6, 0, 9, 9, 1, 0, 8, 0, 5, 7, 8, 8, 2, 7, 6, 6, 2, 8, 1, 6, 4, 8, 0, 7, 5, 8, 7, 7, 5, 5, 0, 7, 4, 6, 2, 0, 3, 4, 2, 0, 6, 9, 4, 5, 4, 4, 1, 2, 5, 7, 0, 5, 6, 2, 5, 0, 4, 0, 0, 6, 7, 2, 7, 2, 3, 4, 5, 1, 2, 4, 4, 2, 4, 3, 9, 9, 2, 3, 0, 4, 0, 0, 1, 9, 3, 9, 2, 8, 4, 9, 4, 7, 9, 1, 5, 8, 1, 4, 2, 2, 4, 8, 0, 3, 3, 0, 0, 4, 3, 3, 1, 6, 8, 4, 7, 3, 0, 6, 5, 2, 8, 8, 6, 1, 2, 8, 9, 8, 5, 8, 7, 0, 7, 2, 7, 1, 5, 5, 8, 3, 2, 8, 5, 9, 9, 2, 0, 6, 7, 1, 8, 8, 8, 7, 2, 0, 9, 7, 9, 6, 9, 4, 1, 4, 7, 2, 5, 2, 6, 2, 9, 0, 7, 1, 9, 7, 6, 5, 3, 8, 4, 9, 3, 9, 5, 7, 5, 1, 3, 3, 4, 4, 7, 5, 3, 5, 5, 8, 7, 7, 4, 6, 5, 5, 3, 4, 8, 3, 0, 9, 2, 3, 2, 2, 7, 4, 5, 9, 1, 4, 8, 1, 4, 7, 8, 2, 0, 7, 2, 0, 2, 2, 3, 2, 3, 0, 5, 2, 3, 2, 8, 5, 0, 8, 4, 6, 4, 8, 3, 5, 1, 3, 9, 1, 4, 9, 0, 7, 4, 2, 0, 2, 5, 0, 3, 5, 6, 5, 1, 7, 9, 4, 6, 7, 4, 0, 2, 8, 1, 0, 9, 9, 9, 8, 4, 6, 9, 7, 7, 5, 8, 8, 7, 5, 3, 5, 5, 0, 8, 9, 7, 2, 1, 4, 7, 1, 3, 4, 3, 4, 2, 9, 4, 7, 7, 0, 5, 0, 8, 8, 6, 8, 5, 4, 0, 7, 3, 0, 0, 6, 5, 2, 0, 7, 7, 7, 1, 5, 2, 1, 8, 5, 2, 2, 8, 7, 7, 2, 7, 1, 0, 9, 5, 3, 9, 3, 5, 0, 7, 4, 4, 6, 1, 6, 5, 9, 3, 2, 8, 5, 7, 3, 1, 2, 0, 8, 1, 8, 5, 6, 9, 3, 3, 8, 6, 4, 2, 0, 3, 4, 2, 3, 4, 5, 9, 1, 1, 9, 4, 7, 0, 3, 2, 0, 0, 7, 7, 0, 7, 8, 0, 5, 6, 4, 3, 8, 9, 7, 4, 9, 5, 3, 7, 2, 4, 1, 9, 7, 8, 1, 3, 9, 3, 4, 7, 8, 6, 5, 8, 9, 9, 9, 7, 0, 2, 2, 3, 4, 0, 9, 5, 1, 9, 2, 8, 3, 0, 0, 4, 1, 9, 3, 3, 5, 1, 5, 5, 9, 2, 8, 5, 5, 9, 5, 6, 0, 9, 3, 5, 4, 2, 6, 9, 4, 8, 1, 9, 2, 6, 6, 4, 8, 8, 7, 7, 3, 9, 3, 9, 3, 8, 2, 2, 9, 0, 3, 6, 5, 5, 0, 4, 6, 4, 1, 3, 1, 8, 7, 8, 8, 7, 7, 0, 5, 7, 3, 4, 0, 2, 2, 3, 6, 8, 8, 8, 0, 2, 3, 2, 8, 8, 1, 4, 1, 1, 6, 3, 2, 2, 8, 0, 0, 4, 1, 0, 2, 7, 0, 6, 7, 9, 9, 2, 7, 0, 9, 9, 8, 4, 8, 3, 4, 0, 9, 6, 2, 4, 3, 8, 6, 3, 6, 9, 4, 4, 7, 3, 7, 8, 8, 2, 4, 3, 8, 8, 1, 5, 8, 9, 8, 7, 8, 0, 3, 3, 3, 0, 9, 3, 9, 9, 1, 5, 9, 4, 1, 7, 0, 1, 0, 7, 3, 8, 8, 4, 1, 7, 0, 5, 0, 4, 1, 7, 1, 7, 9, 6, 3, 9, 2, 6, 5, 3, 5, 8, 8, 2, 4, 7, 7, 4, 2, 0, 5, 5, 3, 6, 2, 5, 4, 8, 5, 6, 9, 1, 3, 1, 4, 5, 9, 3, 9, 0, 2, 5, 6, 1, 5, 8, 5, 6, 4, 9, 1, 9, 1, 7, 1, 8, 0, 3, 4, 0, 6, 8, 3, 3, 8, 8, 0, 3, 6, 8, 1, 6, 3, 3, 4, 4, 1, 8, 3, 2, 0, 2, 4, 2, 3, 9, 2, 3, 0, 4, 5, 7, 1, 6, 1, 2, 6, 3, 8, 5, 1, 6, 5, 4, 8, 1, 7, 1, 6, 4, 9, 4, 2, 1, 5, 6, 0, 5, 8, 7, 7, 7, 2, 7, 5, 4, 2, 2, 0, 4, 8, 9, 9, 5, 8, 0, 4, 4, 1, 3, 7, 3, 0, 0, 9, 8, 5, 3, 0, 7, 1, 9, 5, 8, 4, 0, 9, 9, 1, 2, 2, 4, 2, 4, 5, 1, 6, 2, 8, 1, 4, 8, 3, 4, 0, 0, 3, 6, 7, 2, 4, 1, 7, 3, 0, 7, 9, 9, 1, 5, 5, 9, 1, 4, 0, 1, 8, 8, 3, 5, 7, 8, 0, 4, 2, 7, 2, 9, 5, 0, 8, 7, 8, 6, 4, 9, 2, 5, 5, 9, 9, 4, 4, 4, 0, 0, 6, 8, 7, 3, 2, 7, 5, 2, 7, 0, 3, 4, 4, 8, 4, 0, 2, 7, 0, 5, 0, 6, 4, 8, 6, 0, 2, 2, 2, 5, 5, 8, 0, 7, 0, 8, 9, 0, 2, 1, 2, 5, 1, 3, 2, 9, 6, 4, 9, 9, 3, 4, 4, 1, 2, 8, 0, 3, 4, 2, 2, 3, 2, 3, 5, 5, 2, 3, 6, 0, 8, 5, 4, 0, 1, 2, 2, 2, 2, 7, 9, 6, 4, 3, 3, 0, 8, 5, 4, 4, 0, 3, 3, 5, 2, 5, 1, 5, 5, 1, 9, 5, 2, 1, 8, 8, 0, 9, 6, 6, 0, 3, 3, 1, 8, 3, 4, 2, 1, 8, 0, 3, 0, 8, 5, 1, 5, 0, 2, 4, 3, 9, 8, 2, 8, 1, 0, 2, 6, 2, 0, 3, 7, 5, 0, 2, 2, 0, 8, 4, 2, 1, 8, 6, 8, 2, 9, 2, 6, 8, 5, 2, 7, 3, 2, 2, 6, 0, 6, 8, 5, 2, 1, 5, 4, 8, 2, 9, 3, 6, 3, 6, 4, 2, 7, 7, 9, 0, 2, 9, 0, 0, 5, 8, 7, 7, 0, 7, 7, 0, 7, 7, 2, 9, 7, 4, 2, 2, 3, 8, 0, 1, 9, 8, 0, 2, 2, 6, 3, 8, 0, 7, 6, 3, 3, 8, 1, 3, 8, 7, 3, 0, 3, 4, 8, 8, 9, 1, 3, 2, 1, 4, 8, 0, 4, 6, 7, 3, 9, 4, 9, 0, 4, 6, 5, 7, 0, 8, 1, 7, 5, 4, 9, 5, 7, 3, 2, 0, 9, 8, 7, 3, 7, 7, 4, 7, 5, 8, 5, 4, 4, 6, 2, 3, 8, 9, 7, 1, 3, 4, 2, 9, 7, 1, 2, 2, 0, 0, 5, 5, 4, 5, 2, 8, 9, 4, 9, 9, 1, 4, 0, 1, 5, 5, 5, 6, 8, 1, 5, 5, 7, 7, 9, 3, 3, 1, 1, 4, 6, 6, 9, 3, 8, 4, 4, 8, 4, 5, 6, 9, 0, 2, 8, 4, 8, 4, 3, 6, 1, 6, 3, 3, 8, 4, 9, 9, 0, 7, 9, 5, 3, 1, 5, 2, 8, 4, 9, 0, 1, 6, 0, 5, 8, 1, 9, 3, 0, 8, 1, 8, 6, 2, 5, 6, 5, 0, 1, 4, 0, 7, 9, 0, 1, 3, 9, 5, 1, 4, 1, 1, 1, 8, 0, 9, 5, 4, 2, 3, 7, 7, 7, 2, 0, 9, 1, 9, 4, 2, 0, 5, 6, 2, 7, 9, 4, 6, 4, 9, 0, 4, 0, 2, 7, 9, 6, 1, 1, 2, 0, 8, 8, 7, 6, 0, 7, 5, 7, 6, 1, 8, 1, 4, 9, 8, 9, 4, 1, 0, 3, 0, 3, 0, 2, 4, 1, 9, 7, 1, 2, 2, 5, 3, 4, 1, 7, 4, 7, 0, 6, 8, 8, 1, 4, 9, 9, 6, 0, 4, 9, 3, 9, 8, 5, 3, 8, 4, 7, 1, 4, 1, 9, 6, 8, 3, 2, 4, 8, 1, 1, 5, 8, 8, 1, 6, 2, 9, 0, 9, 5, 3, 5, 0, 6, 5, 2, 8, 3, 8, 0, 2, 9, 9, 1, 5, 3, 2, 6, 5, 3, 0, 6, 0, 7, 4, 0, 2, 1, 9, 5, 1, 7, 5, 5, 5, 8, 6, 8, 4, 6, 0, 4, 6, 2, 1, 1, 4, 2, 8, 4, 9, 0, 5, 8, 1, 0, 8, 0, 2, 3, 8, 3, 0, 9, 3, 6, 9, 7, 2, 6, 2, 2, 8, 9, 6, 1, 4, 7, 7, 9, 9, 3, 4, 9, 2, 7, 3, 0, 2, 6, 9, 2, 3, 3, 1, 9, 5, 8, 2, 3, 5, 3, 0, 4, 5, 8, 3, 5, 0, 7, 7, 6, 0, 9, 5, 1, 4, 4, 5, 3, 0, 6, 1, 4, 0, 5, 4, 8, 5, 7, 3, 0, 8, 3, 5, 4, 4, 9, 8, 9, 9, 8, 1, 7, 5, 0, 1, 5, 3, 3, 3, 3, 4, 6, 3, 3, 7, 8, 0, 9, 0, 3, 0, 4, 4, 7, 3, 5, 7, 3, 7, 8, 4, 6, 2, 2, 3, 1, 0, 5, 5, 2, 6, 4, 1, 1, 4, 7, 2, 3, 5, 5, 0, 4, 4, 3, 8, 9, 9, 2, 0, 9, 8, 3, 5, 3, 1, 4, 5, 0, 1, 8, 5, 8, 6, 0, 7, 8, 9, 2, 4, 6, 3, 4, 2, 2, 5, 9, 1, 9, 7, 4, 5, 0, 3, 2, 4, 5, 6, 2, 5, 8, 0, 6, 2, 9, 4, 9, 8, 6, 0, 2, 7, 7, 5, 9, 5, 7, 3, 8, 7, 5, 9, 9, 8, 2, 1, 0, 8, 0, 2, 6, 7, 9, 2, 2, 5, 4, 3, 4, 1, 1, 9, 0, 5, 5, 4, 9, 8, 9, 6, 5, 4, 0, 0, 5, 5, 8, 4, 8, 8, 7, 4, 9, 3, 9, 6, 9, 7, 3, 9, 9, 3, 3, 0, 6, 8, 9, 9, 4, 0, 4, 6, 1, 0, 3, 8, 4, 8, 4, 4, 2, 3, 5, 7, 7, 8, 5, 6, 3, 2, 1, 8, 3, 8, 7, 4, 2, 3, 0, 8, 3, 3, 4, 9, 0, 9, 9, 0, 1, 8, 3, 0, 3, 8, 4, 8, 5, 1, 3, 0, 1, 9, 3, 5, 0, 6, 2, 6, 1, 5, 3, 2, 8, 5, 7, 8, 0, 1, 1, 0, 6, 2, 7, 9, 3, 7, 2, 3, 0, 4, 4, 3, 3, 9, 4, 9, 0, 8, 3, 5, 6, 2, 0, 1, 3, 9, 4, 2, 5, 3, 5, 3, 6, 5, 0, 0, 8, 0, 0, 9, 1, 3, 4, 2, 5, 5, 4, 0, 1, 4, 9, 7, 4, 4, 7, 5, 7, 1, 4, 8, 7, 9, 5, 7, 0, 2, 9, 4, 5, 0, 7, 6, 4, 5, 2, 5, 3, 3, 2, 5, 9, 2, 5, 7, 7, 3, 8, 3, 9, 6, 5, 3, 0, 7, 6, 9, 5, 3, 3, 6, 9, 3, 6, 2, 5, 3, 6, 9, 9, 1, 2, 2, 2, 6, 0, 8, 7, 9, 9, 4, 8, 8, 9, 0, 7, 0, 3, 4, 8, 8, 4, 2, 0, 1, 4, 3, 2, 1, 7, 4, 6, 6, 3, 3, 4, 5, 6, 8, 7, 6, 6, 3, 1, 8, 6, 8, 9, 9, 5, 5, 8, 2, 5, 3, 4, 2, 5, 4, 9, 2, 9, 1, 0, 4, 4, 6, 9, 8, 0, 2, 9, 1, 9, 4, 7, 3, 5, 4, 3, 4, 2, 1, 0, 6, 4, 3, 7, 8, 4, 5, 5, 9, 0, 6, 3, 4, 5, 5, 5, 7, 3, 1, 3, 3, 7, 0, 7, 7, 6, 8, 3, 5, 5, 8, 1, 9, 4, 0, 4, 2, 1, 4, 0, 1, 2, 5, 0, 8, 1, 1, 7, 5, 4, 5, 9, 0, 8, 3, 4, 4, 4, 7, 0, 7, 8, 4, 2, 3, 7, 1, 6, 2, 3, 3, 0, 0, 2, 4, 8, 7, 0, 3, 0, 4, 7, 3, 3, 6, 0, 2, 4, 4, 1, 8, 1, 9, 1, 2, 4, 4, 6, 5, 3, 3, 5, 3, 5, 8, 3, 9, 7, 3, 0, 3, 1, 0, 1, 0, 7, 7, 4, 8, 9, 0, 1, 5, 4, 9, 4, 7, 9, 9, 9, 3, 1, 0, 9, 9, 5, 1, 7, 2, 9, 3, 5, 6, 8, 1, 5, 3, 3, 8, 4, 7, 8, 8, 9, 8, 8, 4, 5, 8, 4, 5, 9, 0, 0, 5, 3, 7, 7, 4, 4, 7, 4, 5, 8, 3, 7, 2, 7, 3, 8, 8, 0, 7, 8, 6, 0, 5, 7, 9, 8, 5, 6, 0, 6, 2, 6, 2, 8, 9, 9, 1, 9, 5, 8, 4, 4, 8, 4, 8, 7, 4, 8, 3, 0, 7, 8, 8, 3, 9, 9, 5, 9, 2, 4, 9, 7, 5, 7, 4, 9, 9, 6, 3, 9, 5, 3, 5, 3, 1, 2, 9, 1, 4, 8, 5, 1, 7, 9, 0, 3, 3, 0, 9, 0, 4, 6, 0, 0, 2, 9, 7, 1, 9, 8, 5, 2, 8, 5, 9, 5, 2, 4, 8, 5, 2, 2, 5, 4, 2, 7, 1, 6, 6, 4, 2, 5, 6, 4, 6, 7, 5, 5, 1, 7, 2, 4, 4, 2, 4, 1, 9, 3, 7, 2, 7, 4, 2, 9, 7, 4, 4, 6, 1, 7, 1, 4, 7, 6, 1, 7, 3, 0, 3, 8, 6, 9, 0, 4, 1, 7, 9, 0, 2, 9, 2, 0, 7, 1, 7, 5, 2, 9, 8, 2, 4, 0, 1, 3, 2, 2, 8, 1, 0, 8, 1, 8, 1, 0, 1, 4, 7, 3, 7, 7, 3, 2, 9, 9, 0, 8, 2, 5, 8, 9, 6, 3, 5, 4, 1, 8, 5, 2, 3, 2, 0, 1, 8, 1, 4, 4, 0, 2, 1, 7, 0, 5, 4, 5, 3, 6, 4, 1, 2, 0, 7, 2, 6, 2, 3, 6, 3, 5, 2, 9, 0, 8, 0, 3, 4, 3, 1, 7, 5, 3, 3, 3, 2, 0, 3, 5, 2, 6, 2, 5, 1, 4, 6, 2, 1, 9, 3, 4, 6, 9, 5, 8, 0, 0, 3, 4, 0, 8, 1, 2, 3, 3, 1, 5, 5, 3, 2, 6, 7, 1, 3, 6, 3, 0, 3, 2, 2, 8, 0, 8, 4, 7, 0, 3, 6, 3, 8, 3, 4, 1, 4, 0, 3, 0, 7, 7, 8, 3, 6, 9, 5, 4, 0, 9, 5, 4, 3, 8, 5, 3, 8, 3, 7, 9, 0, 2, 5, 1, 0, 5, 6, 3, 9, 7, 9, 6, 0, 7, 1, 2, 0, 8, 6, 2, 2, 7, 8, 3, 2, 4, 6, 9, 7, 3, 4, 5, 4, 5, 1, 9, 5, 0, 5, 2, 4, 1, 7, 9, 0, 3, 3, 4, 9, 1, 0, 1, 9, 5, 4, 8, 2, 4, 1, 4, 0, 6, 7, 9, 0, 1, 1, 4, 3, 0, 9, 8, 1, 3, 7, 3, 9, 9, 5, 4, 2, 3, 8, 8, 8, 5, 5, 1, 8, 8, 5, 7, 9, 9, 3, 4, 4, 6, 7, 9, 6, 2, 7, 5, 4, 7, 6, 1, 4, 6, 2, 0, 9, 0, 0, 5, 1, 1, 7, 8, 3, 6, 6, 2, 0, 6, 4, 9, 5, 2, 2, 2, 6, 6, 1, 5, 4, 7, 8, 6, 7, 7, 0, 8, 4, 4, 4, 9, 1, 2, 1, 7, 4, 3, 4, 9, 9, 2, 2, 4, 3, 0, 5, 7, 5, 2, 7, 8, 9, 9, 2, 7, 8, 7, 7, 5, 8, 7, 4, 2, 9, 0, 1, 8, 7, 5, 4, 5, 3, 7, 0, 6, 5, 5, 6, 9, 9, 1, 9, 5, 9, 4, 4, 1, 9, 8, 3, 5, 1, 8, 6, 5, 0, 2, 3, 7, 1, 1, 1, 8, 7, 5, 6, 3, 4, 7, 0, 0, 5, 0, 4, 8, 6, 5, 2, 7, 3, 2, 3, 4, 7, 8, 0, 7, 0, 9, 5, 8, 0, 7, 3, 5, 0, 9, 7, 3, 0, 0, 5, 7, 8, 2, 3, 1, 9, 0, 2, 9, 1, 3, 4, 2, 3, 2, 6, 2, 4, 8, 6, 6, 9, 5, 0, 1, 8, 2, 4, 1, 4, 2, 9, 4, 1, 7, 9, 0, 3, 5, 4, 5, 9, 8, 5, 3, 0, 1, 2, 4, 4, 1, 9, 4, 4, 0, 5, 5, 4, 6, 2, 0, 1, 4, 9, 9, 7, 6, 1, 2, 6, 0, 2, 6, 0, 5, 9, 4, 8, 6, 6, 1, 5, 9, 4, 1, 8, 9, 3, 1, 7, 1, 1, 3, 9, 1, 3, 8, 9, 9, 1, 9, 6, 0, 7, 8, 5, 5, 5, 3, 8, 9, 6, 7, 8, 2, 9, 2, 0, 1, 5, 0, 7, 8, 0, 0, 9, 1, 1, 8, 2, 8, 9, 2, 0, 7, 2, 0, 0, 5, 1, 0, 8, 2, 3, 7, 6, 3, 9, 7, 2, 1, 3, 9, 2, 4, 0, 3, 7, 7, 1, 1, 9, 5, 3, 5, 4, 6, 4, 1, 5, 2, 1, 0, 2, 5, 7, 9, 2, 3, 4, 1, 7, 9, 0, 5, 7, 3, 3, 8, 4, 1, 8, 2, 7, 2, 6, 8, 9, 4, 9, 3, 2, 4, 1, 1, 0, 6, 1, 4, 9, 8, 5, 9, 1, 9, 6, 9, 3, 4, 1, 7, 2, 9, 8, 8, 9, 5, 5, 3, 8, 4, 0, 3, 6, 1, 1, 9, 0, 9, 7, 5, 3, 2, 5, 5, 5, 4, 6, 9, 9, 3, 0, 6, 4, 1, 7, 4, 9, 6, 8, 5, 8, 6, 0, 1, 3, 4, 2, 3, 6, 6, 0, 2, 8, 3, 2, 6, 0, 1, 8, 4, 5, 4, 2, 3, 9, 8, 6, 4, 4, 5, 2, 2, 7, 4, 7, 3, 3, 6, 9, 4, 8, 5, 6, 0, 3, 6, 7, 4, 5, 3, 1, 1, 9, 7, 5, 4, 2, 1, 6, 4, 5, 9, 2, 5, 5, 3, 3, 0, 9, 2, 3, 2, 6, 2, 4, 7, 2, 3, 0, 4, 2, 0, 4, 1, 3, 7, 2, 4, 2, 2, 3, 2, 3, 0, 8, 3, 5, 1, 2, 8, 8, 2, 1, 2, 1, 1, 9, 6, 5, 9, 0, 8, 0, 3, 6, 3, 8, 3, 7, 7, 2, 1, 1, 2, 0, 5, 8, 0, 1, 6, 5, 2, 8, 9, 7, 9, 1, 1, 3, 3, 5, 6, 7, 5, 9, 4, 9, 3, 4, 6, 0, 8, 7, 6, 5, 9, 8, 3, 8, 1, 3, 1, 3, 5, 4, 5, 4, 4, 9, 2, 7, 1, 4, 8, 3, 7, 7, 6, 7, 9, 6, 7, 7, 0, 1, 4, 1, 6, 8, 6, 4, 7, 4, 7, 1, 8, 7, 5, 1, 3, 1, 0, 3, 4, 5, 3, 8, 6, 3, 4, 9, 3, 1, 5, 3, 0, 7, 0, 6, 4, 5, 1, 4, 6, 3, 8, 8, 9, 8, 0, 7, 2, 4, 2, 5, 1, 9, 4, 3, 8, 7, 1, 8, 1, 2, 0, 9, 2, 4, 3, 4, 6, 1, 3, 5, 2, 8, 5, 5, 3, 7, 5, 5, 4, 4, 8, 0, 7, 0, 8, 8, 2, 1, 9, 7, 7, 6, 8, 0, 3, 0, 9, 8, 5, 6, 4, 8, 1, 5, 5, 5, 0, 1, 6, 1, 3, 2, 2, 4, 4, 1, 7, 6, 2, 2, 6, 1, 8, 2, 2, 6, 3, 0, 8, 8, 4, 6, 2, 0, 7, 0, 8, 9, 1, 2, 4, 7, 3, 8, 1, 8, 2, 6, 6, 7, 5, 7, 9, 9, 3, 9, 4, 4, 0, 6, 1, 3, 8, 4, 4, 8, 8, 6, 2, 9, 1, 8, 0, 6, 2, 6, 0, 3, 6, 6, 1, 3, 6, 3, 4, 1, 7, 8, 1, 0, 7, 0, 5, 6, 8, 2, 8, 5, 8, 7, 8, 4, 5, 9, 5, 5, 1, 2, 4, 7, 2, 9, 5, 8, 0, 7, 4, 6, 3, 8, 8, 4, 5, 1, 8, 6, 6, 2, 2, 9, 8, 9, 0, 2, 5, 9, 3, 5, 9, 8, 6, 6, 9, 5, 9, 3, 0, 8, 6, 0, 6, 3, 5, 8, 6, 0, 1, 8, 2, 9, 0, 0, 7, 6, 6, 8, 7, 4, 8, 8, 2, 0, 3, 3, 7, 1, 3, 7, 4, 0, 7, 1, 0, 5, 2, 0, 7, 9, 4, 3, 8, 6, 1, 1, 8, 8, 0, 5, 7, 5, 6, 7, 4, 3, 9, 3, 8, 9, 0, 4, 0, 4, 5, 7, 0, 4, 3, 9, 5, 7, 2, 2, 5, 8, 3, 1, 3, 5, 2, 9, 4, 3, 9, 7, 4, 0, 8, 0, 9, 1, 9, 9, 0, 7, 1, 2, 5, 0, 3, 8, 7, 4, 8, 5, 9, 3, 2, 0, 0, 9, 0, 5, 0, 1, 3, 7, 9, 1, 5, 9, 3, 0, 9, 7, 2, 9, 2, 1, 2, 7, 5, 1, 0, 7, 3, 4, 7, 6, 4, 6, 8, 5, 7, 9, 5, 7, 3, 2, 3, 7, 3, 4, 1, 5, 6, 9, 7, 4, 0, 0, 5, 8, 0, 7, 7, 3, 2, 0, 4, 8, 2, 0, 6, 9, 8, 9, 0, 5, 0, 4, 0, 2, 4, 3, 1, 8, 7, 4, 1, 9, 1, 2, 2, 5, 2, 3, 2, 0, 2, 6, 0, 7, 2, 1, 8, 6, 8, 7, 9, 2, 1, 6, 5, 7, 7, 3, 6, 5, 7, 3, 2, 7, 3, 2, 2, 9, 6, 5, 3, 9, 1, 2, 1, 9, 7, 2, 3, 3, 8, 1, 8, 3, 5, 0, 5, 3, 8, 5, 7, 6, 9, 0, 6, 8, 3, 2, 3, 3, 6, 3, 7, 8, 7, 1, 3, 9, 8, 9, 5, 5, 2, 4, 4, 5, 0, 8, 6, 3, 4, 0, 8, 8, 9, 2, 9, 1, 5, 1, 2, 1, 3, 2, 2, 4, 6, 5, 7, 5, 9, 2, 0, 5, 7, 0, 5, 6, 5, 3, 0, 4, 0, 7, 1, 5, 2, 9, 8, 1, 7, 0, 4, 4, 0, 7, 1, 8, 5, 7, 8, 5, 5, 1, 8, 5, 7, 7, 7, 6, 5, 2, 4, 1, 2, 4, 4, 1, 6, 3, 9, 1, 8, 2, 3, 7, 4, 9, 5, 7, 4, 3, 9, 5, 0, 4, 2, 7, 3, 9, 3, 0, 5, 9, 0, 9, 4, 6, 2, 5, 9, 1, 2, 5, 2, 0, 2, 3, 1, 1, 1, 7, 6, 2, 2, 5, 9, 8, 7, 7, 3, 4, 7, 9, 4, 0, 1, 1, 1, 4, 8, 0, 8, 0, 9, 5, 6, 7, 3, 8, 2, 4, 4, 4, 2, 2, 5, 7, 4, 9, 9, 2, 2, 2, 0, 7, 4, 5, 2, 3, 6, 1, 9, 8, 1, 8, 4, 2, 3, 9, 1, 9, 7, 2, 9, 2, 9, 3, 0, 6, 2, 3, 4, 6, 0, 9, 2, 1, 1, 0, 5, 6, 7, 0, 3, 1, 1, 7, 0, 0, 1, 9, 6, 7, 3, 8, 4, 1, 2, 0, 2, 0, 3, 0, 2, 3, 5, 9, 5, 8, 9, 3, 1, 7, 8, 9, 4, 1, 1, 9, 0, 7, 0, 0, 9, 0, 0, 2, 9, 2, 8, 5, 5, 9, 3, 3, 5, 7, 1, 2, 3, 3, 5, 6, 6, 4, 1, 1, 9, 1, 4, 3, 0, 4, 2, 6, 2, 0, 3, 5, 0, 3, 0, 5, 1, 1, 8, 4, 5, 3, 5, 1, 6, 4, 3, 2, 2, 9, 9, 6, 3, 8, 5, 6, 4, 8, 1, 5, 7, 7, 4, 2, 2, 7, 5, 6, 1, 5, 7, 7, 8, 2, 8, 3, 7, 4, 6, 2, 9, 9, 0, 2, 7, 3, 1, 0, 8, 2, 4, 4, 4, 7, 1, 8, 3, 0, 3, 2, 0, 2, 9, 8, 0, 0, 8, 3, 9, 2, 1, 5, 4, 5, 0, 8, 4, 2, 5, 9, 3, 0, 4, 7, 8, 5, 9, 5, 0, 0, 4, 9, 7, 2, 9, 1, 2, 2, 4, 0, 1, 4, 3, 9, 4, 0, 3, 4, 4, 6, 9, 2, 7, 6, 5, 4, 3, 4, 5, 9, 0, 2, 1, 1, 8, 7, 1, 2, 6, 9, 2, 3, 8, 8, 8, 9, 3, 6, 9, 6, 6, 3, 6, 2, 2, 8, 8, 5, 9, 2, 7, 1, 9, 0, 3, 3, 4, 2, 3, 9, 9, 5, 3, 0, 4, 2, 4, 6, 4, 5, 4, 4, 9, 8, 5, 8, 3, 4, 1, 4, 8, 9, 2, 6, 2, 3, 5, 4, 3, 5, 2, 5, 3, 9, 1, 2, 9, 8, 9, 6, 8, 8, 5, 5, 8, 6, 4, 0, 8, 3, 0, 4, 9, 6, 1, 0, 5, 1, 2, 0, 9, 2, 6, 3, 6, 7, 6, 6, 4, 3, 8, 5, 1, 8, 3, 4, 4, 5, 6, 0, 5, 8, 7, 4, 4, 2, 2, 9, 3, 5, 0, 9, 9, 0, 1, 3, 7, 1, 9, 6, 5, 2, 2, 9, 5, 7, 9, 3, 2, 8, 3, 1, 7, 8, 8, 6, 8, 0, 5, 5, 7, 1, 9, 6, 2, 1, 5, 1, 9, 4, 1, 2, 3, 2, 5, 3, 9, 3, 5, 4, 0, 3, 9, 5, 4, 2, 3, 8, 5, 8, 3, 0, 4, 1, 4, 9, 5, 8, 9, 5, 3, 6, 9, 5, 9, 1, 1, 4, 8, 4, 1, 4, 2, 9, 9, 8, 9, 7, 4, 4, 1, 9, 9, 1, 9, 6, 2, 3, 7, 3, 1, 6, 3, 8, 3, 4, 3, 3, 8, 3, 7, 1, 6, 3, 8, 3, 7, 9, 8, 0, 3, 0, 4, 5, 7, 0, 7, 2, 5, 0, 2, 8, 3, 3, 0, 0, 4, 3, 4, 6, 6, 9, 9, 0, 7, 4, 0, 2, 2, 1, 9, 5, 9, 9, 0, 5, 8, 6, 7, 3, 9, 5, 2, 8, 9, 5, 8, 0, 0, 3, 0, 6, 3, 7, 8, 0, 1, 2, 2, 6, 1, 1, 2, 2, 2, 5, 4, 6, 9, 3, 3, 2, 3, 7, 2, 9, 2, 1, 4, 7, 5, 5, 9, 2, 0, 9, 7, 9, 8, 4, 1, 8, 3, 3, 8, 0, 8, 7, 0, 7, 7, 9, 6, 3, 0, 3, 7, 2, 1, 5, 6, 0, 5, 8, 6, 7, 0, 1, 0, 5, 6, 2, 1, 4, 1, 8, 7, 9, 9, 7, 3, 2, 2, 4, 7, 6, 3, 9, 6, 3, 9, 5, 1, 4, 9, 2, 7, 2, 3, 5, 7, 2, 7, 2, 8, 7, 5, 4, 5, 9, 4, 3, 5, 0, 2, 5, 5, 3, 1, 9, 3, 7, 1, 0, 3, 4, 4, 2, 5, 9, 2, 1, 1, 7, 7, 9, 0, 1, 4, 8, 5, 2, 5, 3, 7, 8, 7, 7, 0, 8, 5, 6, 0, 7, 5, 6, 7, 7, 9, 7, 1, 0, 0, 8, 0, 4, 0, 6, 4, 5, 5, 0, 5, 3, 0, 2, 5, 0, 7, 1, 8, 7, 1, 3, 2, 0, 4, 7, 3, 7, 4, 8, 2, 3, 9, 4, 0, 6, 0, 8, 7, 3, 3, 0, 5, 0, 1, 5, 0, 9, 9, 1, 3, 3, 6, 1, 6, 6, 5, 5, 4, 2, 0, 9, 2, 0, 8, 2, 8, 3, 7, 7, 3, 3, 9, 5, 7, 6, 0, 9, 4, 5, 0, 7, 2, 9, 5, 5, 8, 5, 4, 9, 9, 6, 3, 6, 3, 0, 2, 7, 4, 4, 2, 5, 4, 1, 5, 7, 9, 9, 3, 9, 8, 6, 5, 1, 9, 3, 1, 0, 4, 8, 0, 7, 6, 9, 8, 8, 4, 4, 4, 1, 7, 7, 1, 6, 6, 7, 0, 3, 2, 8, 7, 8, 7, 7, 1, 1, 3, 8, 7, 5, 9, 1, 0, 6, 3, 4, 4, 4, 7, 1, 2, 0, 1, 5, 4, 8, 9, 4, 4, 2, 2, 0, 7, 9, 2, 7, 1, 4, 0, 8, 3, 3, 5, 4, 0, 8, 3, 0, 4, 0, 1, 8, 6, 0, 2, 7, 7, 6, 3, 5, 6, 1, 0, 4, 6, 5, 8, 0, 7, 3, 6, 6, 7, 2, 2, 3, 6, 4, 2, 0, 3, 4, 5, 1, 7, 5, 2, 5, 7, 9, 9, 9, 9, 2, 0, 9, 2, 0, 5, 5, 5, 0, 5, 6, 0, 6, 0, 6, 9, 9, 2, 3, 5, 4, 0, 1, 0, 8, 9, 5, 7, 3, 0, 4, 4, 1, 2, 8, 1, 8, 2, 2, 6, 9, 8, 5, 1, 2, 4, 0, 9, 0, 8, 8, 0, 7, 9, 6, 9, 8, 9, 9, 6, 9, 6, 3, 3, 4, 5, 0, 8, 0, 4, 0, 3, 0, 0, 0, 3, 3, 5, 9, 4, 7, 1, 5, 4, 1, 6, 1, 7, 9, 2, 0, 4, 5, 2, 9, 4, 9, 8, 8, 7, 6, 4, 3, 9, 3, 6, 7, 6, 4, 7, 0, 2, 1, 0, 5, 7, 0, 5, 9, 6, 3, 2, 8, 5, 8, 1, 9, 6, 7, 8, 7, 3, 6, 6, 5, 8, 8, 8, 8, 7, 4, 6, 5, 1, 5, 9, 6, 0, 9, 5, 8, 5, 7, 3, 9, 8, 3, 4, 6, 5, 7, 5, 1, 1, 5, 4, 1, 8, 5, 8, 2, 9, 6, 3, 3, 4, 0, 2, 4, 1, 1, 4, 7, 2, 5, 0, 2, 8, 8, 8, 2, 7, 9, 1, 2, 0, 6, 3, 6, 0, 2, 5, 8, 2, 4, 2, 4, 1, 5, 5, 4, 4, 0, 5, 4, 7, 0, 3, 4, 5, 5, 7, 5, 7, 0, 1, 1, 9, 7, 5, 0, 1, 9, 6, 3, 6, 5, 4, 3, 4, 5, 7, 2, 2, 2, 0, 5, 6, 4, 3, 7, 8, 6, 2, 6, 1, 1, 5, 5, 2, 5, 3, 4, 8, 5, 8, 8, 6, 1, 2, 3, 7, 6, 9, 0, 4, 5, 6, 3, 4, 9, 5, 5, 9, 4, 0, 4, 1, 1, 8, 9, 4, 2, 2, 3, 3, 0, 7, 1, 8, 8, 5, 0, 0, 7, 7, 1, 0, 1, 4, 1, 9, 0, 2, 1, 1, 0, 7, 3, 7, 3, 9, 0, 1, 8, 9, 6, 6, 6, 0, 9, 1, 6, 1, 2, 7, 8, 0, 5, 6, 8, 2, 5, 5, 1, 5, 9, 1, 8, 5, 3, 1, 6, 4, 0, 7, 3, 5, 4, 8, 3, 7, 1, 2, 3, 9, 8, 3, 8, 7, 7, 9, 7, 0, 9, 4, 6, 9, 6, 1, 9, 8, 6, 3, 7, 4, 9, 5, 4, 7, 1, 2, 1, 6, 3, 9, 2, 0, 5, 0, 0, 5, 5, 4, 0, 9, 9, 1, 6, 7, 7, 7, 4, 5, 1, 2, 0, 6, 3, 8, 9, 8, 2, 1, 0, 8, 3, 9, 8, 8, 7, 8, 3, 8, 0, 7, 0, 8, 6, 9, 9, 4, 5, 7, 6, 8, 1, 5, 4, 4, 3, 5, 5, 0, 8, 4, 7, 8, 9, 4, 2, 1, 7, 4, 4, 4, 9, 4, 3, 4, 0, 7, 7, 8, 0, 9, 1, 2, 6, 2, 9, 7, 1, 9, 7, 3, 3, 1, 2, 3, 5, 3, 3, 9, 4, 1, 4, 4, 6, 7, 5, 4, 6, 7, 9, 8, 1, 8, 1, 6, 2, 7, 5, 0, 1, 4, 6, 6, 1, 2, 0, 7, 6, 8, 8, 2, 8, 4, 5, 0, 0, 1, 7, 9, 7, 3, 9, 4, 0, 2, 8, 7, 1, 0, 8, 7, 8, 8, 4, 8, 2, 8, 0, 1, 5, 3, 8, 1, 7, 2, 9, 3, 7, 9, 5, 1, 8, 3, 6, 9, 6, 6, 2, 4, 2, 7, 6, 6, 9, 8, 8, 1, 5, 7, 7, 1, 7, 5, 4, 1, 0, 7, 8, 7, 3, 7, 3, 2, 5, 5, 4, 6, 5, 2, 6, 3, 2, 0, 4, 7, 8, 4, 4, 3, 1, 5, 3, 8, 3, 7, 7, 1, 7, 1, 0, 4, 8, 5, 0, 0, 6, 4, 1, 1, 2, 9, 0, 4, 6, 1, 3, 2, 7, 0, 1, 8, 5, 7, 3, 0, 5, 0, 4, 6, 4, 4, 5, 6, 1, 8, 2, 1, 7, 3, 8, 8, 9, 5, 0, 1, 8, 1, 4, 9, 0, 3, 1, 1, 2, 7, 8, 3, 4, 9, 0, 2, 8, 3, 8, 2, 9, 4, 7, 7, 0, 4, 2, 2, 5, 7, 3, 7, 4, 6, 6, 9, 3, 2, 5, 4, 1, 2, 1, 8, 1, 9, 2, 8, 9, 9, 3, 3, 7, 0, 0, 6, 1, 0, 6, 2, 4, 2, 2, 9, 0, 6, 1, 4, 0, 0, 1, 6, 6, 6, 5, 7, 9, 6, 4, 3, 7, 5, 1, 2, 7, 7, 5, 8, 0, 9, 1, 0, 1, 4, 9, 1, 2, 5, 3, 3, 0, 7, 1, 2, 7, 9, 4, 7, 6, 2, 4, 6, 7, 2, 7, 6, 1, 7, 8, 8, 7, 0, 1, 4, 0, 9, 7, 9, 9, 1, 2, 0, 4, 7, 2, 3, 4, 1, 7, 5, 7, 6, 9, 6, 0, 3, 1, 4, 7, 9, 3, 6, 7, 8, 4, 7, 4, 0, 8, 3, 0, 1, 7, 9, 6, 9, 1, 6, 6, 7, 1, 0, 6, 3, 9, 3, 1, 8, 2, 5, 9, 5, 8, 1, 0, 9, 6, 0, 2, 1, 1, 4, 7, 0, 0, 7, 5, 6, 9, 5, 4, 0, 4, 7, 2, 0, 8, 3, 8, 1, 1, 2, 4, 8, 1, 0, 8, 1, 8, 5, 3, 2, 7, 0, 2, 4, 9, 6, 2, 4, 9, 9, 0, 9, 9, 6, 7, 3, 4, 3, 3, 9, 6, 7, 7, 8, 1, 1, 0, 4, 5, 7, 9, 4, 7, 6, 7, 0, 4, 2, 9, 7, 9, 7, 5, 0, 1, 4, 3, 4, 6, 4, 0, 9, 8, 7, 8, 4, 4, 8, 9, 9, 1, 6, 7, 9, 9, 0, 1, 5, 1, 1, 3, 4, 7, 9, 8, 3, 3, 8, 5, 2, 4, 3, 4, 8, 0, 9, 0, 6, 9, 3, 1, 6, 8, 1, 8, 2, 1, 8, 1, 7, 1, 9, 1, 8, 3, 9, 4, 1, 0, 8, 4, 2, 6, 8, 2, 6, 5, 5, 0, 6, 4, 9, 8, 0, 1, 0, 0, 2, 8, 3, 4, 7, 7, 5, 9, 2, 5, 4, 6, 9, 9, 4, 8, 9, 0, 9, 3, 4, 0, 4, 8, 3, 1, 9, 2, 1, 6, 5, 3, 8, 5, 0, 2, 6, 4, 1, 1, 9, 8, 8, 9, 6, 2, 6, 6, 5, 6, 5, 6, 8, 3, 2, 2, 8, 6, 1, 5, 0, 3, 3, 1, 9, 2, 8, 7, 8, 2, 3, 6, 2, 5, 0, 9, 6, 7, 1, 1, 7, 9, 0, 1, 6, 7, 7, 4, 6, 3, 3, 2, 1, 0, 3, 9, 9, 8, 2, 9, 0, 2, 5, 4, 7, 2, 0, 5, 6, 0, 9, 3, 7, 0, 6, 3, 5, 3, 4, 3, 6, 6, 9, 8, 8, 3, 2, 0, 3, 3, 9, 2, 2, 8, 1, 9, 4, 2, 9, 8, 0, 2, 0, 6, 7, 0, 5, 0, 3, 3, 1, 3, 0, 9, 5, 4, 3, 7, 0, 6, 2, 9, 6, 7, 0, 5, 6, 8, 2, 1, 3, 0, 6, 5, 9, 3, 5, 0, 2, 0, 7, 4, 0, 8, 3, 6, 8, 8, 3, 8, 9, 4, 0, 8, 8, 3, 8, 2, 5, 7, 0, 3, 6, 8, 1, 5, 9, 2, 2, 8, 9, 2, 1, 0, 5, 5, 4, 2, 8, 6, 3, 6, 7, 2, 5, 3, 7, 4, 5, 8, 8, 3, 9, 5, 0, 6, 2, 4, 3, 6, 6, 9, 2, 5, 6, 5, 6, 3, 1, 7, 8, 0, 4, 7, 3, 3, 8, 6, 0, 9, 2, 8, 5, 4, 9, 2, 3, 4, 2, 0, 1, 1, 9, 3, 8, 2, 1, 9, 5, 8, 4, 8, 2, 3, 5, 6, 4, 4, 9, 6, 6, 2, 9, 8, 0, 5, 9, 4, 4, 5, 2, 1, 6, 5, 2, 4, 2, 7, 4, 2, 0, 0, 1, 5, 4, 0, 1, 9, 9, 5, 6, 5, 2, 9, 2, 6, 3, 5, 4, 8, 9, 0, 9, 5, 5, 5, 7, 9, 3, 3, 8, 4, 3, 9, 3, 1, 0, 2, 5, 2, 8, 7, 9, 7, 7, 7, 9, 2, 6, 0, 6, 7, 2, 1, 8, 6, 3, 8, 5, 0, 5, 6, 9, 1, 1, 2, 6, 8, 9, 7, 7, 5, 8, 6, 1, 2, 0, 1, 8, 2, 3, 4, 7, 9, 3, 7, 5, 5, 0, 9, 1, 2, 1, 2, 7, 6, 0, 9, 3, 4, 4, 1, 7, 8, 1, 2, 5, 9, 0, 0, 9, 5, 3, 8, 8, 6, 8, 5, 7, 0, 7, 0, 9, 6, 9, 2, 9, 6, 8, 5, 6, 0, 1, 6, 2, 6, 7, 4, 1, 7, 7, 8, 5, 7, 0, 6, 4, 2, 1, 4, 8, 0, 3, 2, 7, 5, 9, 1, 6, 4, 3, 7, 6, 6, 3, 1, 8, 4, 7, 2, 5, 9, 3, 1, 8, 1, 9, 2, 9, 6, 2, 4, 1, 8, 3, 9, 8, 2, 0, 4, 8, 4, 5, 1, 2, 4, 4, 4, 6, 8, 5, 9, 7, 7, 0, 5, 5, 7, 9, 9, 8, 2, 8, 2, 1, 3, 2, 4, 8, 9, 4, 0, 7, 3, 2, 8, 1, 2, 6, 1, 6, 5, 2, 9, 7, 2, 8, 7, 3, 7, 0, 1, 2, 1, 5, 4, 8, 8, 5, 0, 2, 3, 0, 1, 2, 6, 5, 0, 1, 5, 5, 2, 5, 1, 9, 8, 7, 1, 2, 7, 0, 9, 3, 1, 9, 0, 4, 6, 6, 5, 9, 9, 6, 2, 9, 1, 8, 1, 4, 2, 3, 7, 8, 4, 0, 4, 5, 6, 4, 9, 3, 5, 8, 0, 1, 9, 4, 7, 3, 7, 4, 4, 0, 0, 2, 1, 1, 3, 0, 7, 0, 5, 9, 8, 9, 3, 7, 9, 9, 4, 8, 8, 0, 1, 6, 4, 0, 2, 8, 1, 2, 1, 3, 3, 8, 7, 8, 7, 0, 4, 3, 4, 4, 5, 5, 9, 2, 5, 2, 4, 5, 0, 1, 7, 3, 7, 6, 0, 0, 0, 5, 1, 1, 2, 3, 6, 9, 8, 1, 0, 1, 4, 8, 5, 4, 0, 4, 0, 2, 9, 3, 8, 5, 4, 8, 6, 4, 8, 4, 4, 4, 0, 8, 7, 5, 2, 8, 9, 2, 9, 5, 9, 2, 1, 0, 4, 1, 7, 7, 1, 7, 3, 5, 8, 7, 2, 5, 1, 5, 2, 0, 6, 0, 1, 6, 4, 4, 8, 0, 3, 2, 0, 3, 5, 6, 3, 3, 0, 5, 1, 8, 3, 1, 8, 5, 8, 4, 2, 0, 0, 7, 8, 1, 3, 9, 0, 2, 8, 1, 4, 8, 8, 3, 0, 8, 7, 7, 5, 4, 7, 7, 6, 1, 8, 1, 9, 7, 0, 3, 1, 6, 5, 5, 3, 8, 9, 4, 0, 9, 5, 1, 7, 2, 1, 5, 2, 8, 3, 2, 3, 7, 3, 3, 4, 4, 5, 7, 3, 6, 7, 3, 3, 7, 8, 8, 2, 5, 6, 9, 7, 3, 2, 9, 3, 6, 5, 5, 6, 9, 1, 4, 1, 5, 6, 4, 1, 4, 6, 3, 3, 6, 3, 0, 8, 4, 7, 5, 5, 7, 0, 7, 9, 4, 4, 2, 9, 6, 7, 1, 4, 8, 8, 9, 8, 3, 8, 9, 3, 0, 0, 2, 1, 8, 4, 4, 0, 0, 9, 5, 3, 1, 5, 1, 3, 5, 0, 8, 2, 1, 5, 3, 0, 8, 2, 9, 0, 9, 0, 0, 4, 1, 4, 4, 4, 9, 1, 4, 9, 7, 8, 2, 6, 0, 9, 7, 8, 5, 0, 9, 6, 0, 0, 8, 1, 3, 0, 7, 5, 8, 6, 5, 6, 8, 9, 1, 9, 3, 8, 1, 5]\n"
          ]
        },
        {
          "output_type": "stream",
          "name": "stderr",
          "text": [
            "\n"
          ]
        }
      ]
    },
    {
      "cell_type": "code",
      "source": [
        "show_statistics(test_labels,\n",
        "                predict_labels,\n",
        "                list(train_set.classes))"
      ],
      "metadata": {
        "colab": {
          "base_uri": "https://localhost:8080/"
        },
        "id": "07ZzbrC6fsZl",
        "outputId": "530f8d9c-87b1-4b4b-fdd4-06f40fcb0080"
      },
      "execution_count": 35,
      "outputs": [
        {
          "output_type": "stream",
          "name": "stdout",
          "text": [
            "\n",
            "**** Classification Report ****\n",
            "              precision    recall  f1-score   support\n",
            "\n",
            " T-shirt/top       0.81      0.84      0.83      1000\n",
            "     Trouser       0.99      0.96      0.97      1000\n",
            "    Pullover       0.76      0.80      0.78      1000\n",
            "       Dress       0.84      0.88      0.86      1000\n",
            "        Coat       0.74      0.79      0.76      1000\n",
            "      Sandal       0.95      0.95      0.95      1000\n",
            "       Shirt       0.66      0.54      0.59      1000\n",
            "     Sneaker       0.94      0.92      0.93      1000\n",
            "         Bag       0.95      0.97      0.96      1000\n",
            "  Ankle boot       0.95      0.96      0.95      1000\n",
            "\n",
            "    accuracy                           0.86     10000\n",
            "   macro avg       0.86      0.86      0.86     10000\n",
            "weighted avg       0.86      0.86      0.86     10000\n",
            "\n"
          ]
        }
      ]
    },
    {
      "cell_type": "code",
      "source": [
        "plot_confusion_matrix(test_labels,\n",
        "                      predict_labels,\n",
        "                      list(train_set.classes))"
      ],
      "metadata": {
        "colab": {
          "base_uri": "https://localhost:8080/",
          "height": 866
        },
        "id": "lKN6PFHDfsb8",
        "outputId": "00aacac3-cc77-4633-e10f-09a686b998b7"
      },
      "execution_count": 19,
      "outputs": [
        {
          "output_type": "display_data",
          "data": {
            "text/plain": [
              "<Figure size 1080x1080 with 2 Axes>"
            ],
            "image/png": "[encoded data removed]"
          },
          "metadata": {
            "needs_background": "light"
          }
        }
      ]
    },
    {
      "cell_type": "code",
      "source": [
        "batch = next(iter(val_loader))\n",
        "images, labels = batch\n",
        "print(type(images), type(labels))\n",
        "print(images.shape, labels.shape)"
      ],
      "metadata": {
        "colab": {
          "base_uri": "https://localhost:8080/"
        },
        "id": "wUvXczn8f1tk",
        "outputId": "9fe2e626-0620-446e-a810-bc2147c39d52"
      },
      "execution_count": 21,
      "outputs": [
        {
          "output_type": "stream",
          "name": "stdout",
          "text": [
            "<class 'torch.Tensor'> <class 'torch.Tensor'>\n",
            "torch.Size([32, 3, 224, 224]) torch.Size([32])\n"
          ]
        }
      ]
    },
    {
      "cell_type": "code",
      "source": [
        "grid = torchvision.utils.make_grid(images[:10], nrow=10)\n",
        "\n",
        "plt.figure(figsize=(15, 20))\n",
        "plt.imshow(np.transpose(grid, (1, 2, 0)))\n",
        "print(\"Labels: \", end=\" \")\n",
        "for i, label in enumerate(labels[:10]):\n",
        "  print(val_set.classes[label], end=\", \")\n",
        "\n",
        "print(\"\\nPredicted: \", end=\" \")\n",
        "for i, label in enumerate(predict_labels[:10]):\n",
        "  print(val_set.classes[label], end=\", \")"
      ],
      "metadata": {
        "colab": {
          "base_uri": "https://localhost:8080/",
          "height": 191
        },
        "id": "PVeHPbvHHteT",
        "outputId": "ac1b9f25-904c-43c2-d398-4476ccacfc7f"
      },
      "execution_count": 33,
      "outputs": [
        {
          "output_type": "stream",
          "name": "stderr",
          "text": [
            "Clipping input data to the valid range for imshow with RGB data ([0..1] for floats or [0..255] for integers).\n"
          ]
        },
        {
          "output_type": "stream",
          "name": "stdout",
          "text": [
            "Labels:  Ankle boot, Pullover, Trouser, Trouser, Shirt, Trouser, Coat, Shirt, Sandal, Sneaker, \n",
            "Predicted:  Ankle boot, Pullover, Trouser, Trouser, Shirt, Trouser, Pullover, Shirt, Sandal, Sneaker, "
          ]
        },
        {
          "output_type": "display_data",
          "data": {
            "text/plain": [
              "<Figure size 1080x1440 with 1 Axes>"
            ],
            "image/png": "[encoded data removed]"
          },
          "metadata": {}
        }
      ]
    },
    {
      "cell_type": "markdown",
      "source": [
        "# Siamese network"
      ],
      "metadata": {
        "id": "ICJjUlF-vl3T"
      }
    },
    {
      "cell_type": "code",
      "source": [
        "class SiameseFashionMNIST(torchvision.datasets.FashionMNIST):\n",
        "  def __init__(self, *args, **kwargs):\n",
        "    super(SiameseFashionMNIST, self).__init__(*args, **kwargs)\n",
        "    if kwargs[\"train\"] is True:\n",
        "      self.data, self.labels = self.train_data, self.train_labels\n",
        "    else:\n",
        "      self.data, self.labels = self.test_data, self.test_labels\n",
        "\n",
        "  def __getitem__(self, idx):\n",
        "    x1, t1 = self.data[idx], self.labels[idx]\n",
        "\n",
        "    is_diff = random.randint(0, 1)\n",
        "    while True:\n",
        "      idx2 = random.randint(0, len(self)-1)\n",
        "      x2, t2 = self.data[idx2], self.labels[idx2]\n",
        "      if is_diff and t1 != t2:\n",
        "        break\n",
        "      if not is_diff and t1 == t2:\n",
        "        break\n",
        "\n",
        "    x1, x2 = Image.fromarray(x1.numpy()), Image.fromarray(x2.numpy())\n",
        "    if self.transform is not None:\n",
        "      x1, x2 = self.transform(x1), self.transform(x2)\n",
        "    return x1, x2, int(is_diff), t1\n",
        "\n",
        "\n",
        "siamese_data_transforms = transforms.Compose([\n",
        "                              transforms.ToTensor(),\n",
        "                              # transforms.Normalize(mean=[0.2860347330570221],\n",
        "                              #                      std=[0.3530242443084717]),\n",
        "                              ])\n",
        "\n",
        "siamese_train_loader = torch.utils.data.DataLoader(\n",
        "    SiameseFashionMNIST(\"./data\",\n",
        "                        download=True,\n",
        "                        train=True,\n",
        "                        transform=siamese_data_transforms),\n",
        "                        batch_size=batch_size,\n",
        "                        shuffle=True,\n",
        "                        num_workers=4)\n",
        "\n",
        "siamese_test_loader = torch.utils.data.DataLoader(\n",
        "    SiameseFashionMNIST(\"./data\",\n",
        "                        download=True,\n",
        "                        train=False,\n",
        "                        transform=siamese_data_transforms),\n",
        "                        batch_size=batch_size,\n",
        "                        shuffle=False,\n",
        "                        num_workers=4)"
      ],
      "metadata": {
        "colab": {
          "base_uri": "https://localhost:8080/"
        },
        "id": "fhMbtgFfHtkw",
        "outputId": "7c7e74c9-047d-4576-b3ea-071641f6de26"
      },
      "execution_count": 147,
      "outputs": [
        {
          "output_type": "stream",
          "name": "stderr",
          "text": [
            "/usr/local/lib/python3.7/dist-packages/torchvision/datasets/mnist.py:62: UserWarning: train_data has been renamed data\n",
            "  warnings.warn(\"train_data has been renamed data\")\n",
            "/usr/local/lib/python3.7/dist-packages/torchvision/datasets/mnist.py:52: UserWarning: train_labels has been renamed targets\n",
            "  warnings.warn(\"train_labels has been renamed targets\")\n",
            "/usr/local/lib/python3.7/dist-packages/torchvision/datasets/mnist.py:67: UserWarning: test_data has been renamed data\n",
            "  warnings.warn(\"test_data has been renamed data\")\n",
            "/usr/local/lib/python3.7/dist-packages/torchvision/datasets/mnist.py:57: UserWarning: test_labels has been renamed targets\n",
            "  warnings.warn(\"test_labels has been renamed targets\")\n"
          ]
        }
      ]
    },
    {
      "cell_type": "code",
      "source": [
        "class Siamese(nn.Module):\n",
        "  def __init__(self):\n",
        "    super(Siamese, self).__init__()\n",
        "    self.c1 = nn.Conv2d(1, 32, kernel_size=3, padding=1)\n",
        "    self.bn1 = nn.BatchNorm2d(32)\n",
        "    self.c2 = nn.Conv2d(32, 64, kernel_size=3, padding=1)\n",
        "    self.bn2 = nn.BatchNorm2d(64)\n",
        "    self.c3 = nn.Conv2d(64, 128, kernel_size=3, padding=0)\n",
        "    self.bn3 = nn.BatchNorm2d(128)\n",
        "\n",
        "    self.fc4 = nn.Linear(128, 64)\n",
        "    self.bn4 = nn.BatchNorm1d(64)\n",
        "    self.fc5 = nn.Linear(64, 2)\n",
        "\n",
        "  def forward(self, x):\n",
        "    h = F.max_pool2d(self.bn1(self.c1(x)), 2)\n",
        "    h = F.max_pool2d(self.bn2(self.c2(h)), 2)\n",
        "    h = F.avg_pool2d(self.bn3(self.c3(h)), 5)\n",
        "\n",
        "    h = self.bn4(self.fc4(h.view(h.size(0), -1)))\n",
        "    return self.fc5(h)\n",
        "\n",
        "\n",
        "def contractive_loss(o1, o2, y):\n",
        "  g, margin = F.pairwise_distance(o1, o2), 5.0\n",
        "  loss = (1 - y) * (g ** 2) + y * (torch.clamp(margin - g, min=0) ** 2)\n",
        "  return torch.mean(loss)"
      ],
      "metadata": {
        "id": "ERQmnU5rhSlS"
      },
      "execution_count": 138,
      "outputs": []
    },
    {
      "cell_type": "code",
      "source": [
        "siamese_model = Siamese().cuda()\n",
        "\n",
        "opt = optim.SGD(siamese_model.parameters(),\n",
        "                lr=0.01,\n",
        "                momentum=0.9)\n",
        "\n",
        "scheduler = optim.lr_scheduler.MultiStepLR(opt, [5, 10], 0.1)\n",
        "cudnn.benckmark = True\n",
        "\n",
        "best_siamese_model_over_epochs = copy.deepcopy(siamese_model.state_dict())\n",
        "best_loss = np.Inf\n",
        "\n",
        "for e in range(20):\n",
        "  scheduler.step()\n",
        "  model.train()\n",
        "  train_loss, train_n = 0, 0\n",
        "  for x1, x2, y, label in tqdm(siamese_train_loader, total=len(siamese_train_loader), leave=False):\n",
        "  # for x1, x2, y in siamese_train_loader:\n",
        "    x1, x2 = Variable(x1.cuda()), Variable(x2.cuda())\n",
        "    y = Variable(y.float().cuda()).view(y.size(0), 1)\n",
        "\n",
        "    o1, o2 = siamese_model(x1), siamese_model(x2)\n",
        "    loss = contractive_loss(o1, o2, y)\n",
        "    opt.zero_grad()\n",
        "    loss.backward()\n",
        "    opt.step()\n",
        "    train_loss = loss.detach().cpu().numpy() * y.size(0)\n",
        "    train_n += y.size(0)\n",
        "\n",
        "  siamese_model.eval()\n",
        "  test_loss, test_n = 0, 0\n",
        "  for x1, x2, y, label in tqdm(siamese_test_loader, total=len(siamese_test_loader), leave=False):\n",
        "    x1, x2 = Variable(x1.cuda()), Variable(x2.cuda())\n",
        "    y = Variable(y.float().cuda()).view(y.size(0), 1)\n",
        "\n",
        "    o1, o2 = siamese_model(x1), siamese_model(x2)\n",
        "    loss = contractive_loss(o1, o2, y)\n",
        "    test_loss = loss.detach().cpu().numpy() * y.size(0)\n",
        "    test_n += y.size(0)\n",
        "  \n",
        "  if best_loss > test_loss:\n",
        "    best_loss = test_loss\n",
        "    best_siamese_model_over_epochs = copy.deepcopy(siamese_model.state_dict())\n",
        "    \n",
        "  print(\"\\t\".join([\"Epoch\", \"TrainLoss\", \"TestLoss\"]))\n",
        "  print(\"{}\\t{:.6f}\\t{:.6f}\".format(e, train_loss / train_n, test_loss / test_n))\n",
        "\n",
        "# Load best model weights\n",
        "siamese_model.load_state_dict(best_siamese_model_over_epochs)\n",
        "\n",
        "# Save best model weights\n",
        "torch.save(siamese_model.state_dict(), path_to_models + f'siamese_model_weights_epoch-{20}_batch_size-{batch_size}.pth')"
      ],
      "metadata": {
        "colab": {
          "base_uri": "https://localhost:8080/"
        },
        "id": "40xz6QNwhSn5",
        "outputId": "f544bd3f-f6b8-4d04-b6b6-e68100fe8134"
      },
      "execution_count": 85,
      "outputs": [
        {
          "output_type": "stream",
          "name": "stderr",
          "text": [
            "/usr/local/lib/python3.7/dist-packages/torch/optim/lr_scheduler.py:134: UserWarning: Detected call of `lr_scheduler.step()` before `optimizer.step()`. In PyTorch 1.1.0 and later, you should call them in the opposite order: `optimizer.step()` before `lr_scheduler.step()`.  Failure to do this will result in PyTorch skipping the first value of the learning rate schedule. See more details at https://pytorch.org/docs/stable/optim.html#how-to-adjust-learning-rate\n",
            "  \"https://pytorch.org/docs/stable/optim.html#how-to-adjust-learning-rate\", UserWarning)\n"
          ]
        },
        {
          "output_type": "stream",
          "name": "stdout",
          "text": [
            "Epoch\tTrainLoss\tTestLoss\n",
            "0\t0.004165\t0.011577\n"
          ]
        },
        {
          "output_type": "stream",
          "name": "stderr",
          "text": [
            ""
          ]
        },
        {
          "output_type": "stream",
          "name": "stdout",
          "text": [
            "Epoch\tTrainLoss\tTestLoss\n",
            "1\t0.003884\t0.010303\n"
          ]
        },
        {
          "output_type": "stream",
          "name": "stderr",
          "text": [
            ""
          ]
        },
        {
          "output_type": "stream",
          "name": "stdout",
          "text": [
            "Epoch\tTrainLoss\tTestLoss\n",
            "2\t0.004108\t0.012167\n"
          ]
        },
        {
          "output_type": "stream",
          "name": "stderr",
          "text": [
            ""
          ]
        },
        {
          "output_type": "stream",
          "name": "stdout",
          "text": [
            "Epoch\tTrainLoss\tTestLoss\n",
            "3\t0.003876\t0.012437\n"
          ]
        },
        {
          "output_type": "stream",
          "name": "stderr",
          "text": [
            ""
          ]
        },
        {
          "output_type": "stream",
          "name": "stdout",
          "text": [
            "Epoch\tTrainLoss\tTestLoss\n",
            "4\t0.004325\t0.010799\n"
          ]
        },
        {
          "output_type": "stream",
          "name": "stderr",
          "text": [
            ""
          ]
        },
        {
          "output_type": "stream",
          "name": "stdout",
          "text": [
            "Epoch\tTrainLoss\tTestLoss\n",
            "5\t0.003762\t0.012748\n"
          ]
        },
        {
          "output_type": "stream",
          "name": "stderr",
          "text": [
            ""
          ]
        },
        {
          "output_type": "stream",
          "name": "stdout",
          "text": [
            "Epoch\tTrainLoss\tTestLoss\n",
            "6\t0.003933\t0.011439\n"
          ]
        },
        {
          "output_type": "stream",
          "name": "stderr",
          "text": [
            ""
          ]
        },
        {
          "output_type": "stream",
          "name": "stdout",
          "text": [
            "Epoch\tTrainLoss\tTestLoss\n",
            "7\t0.004029\t0.010494\n"
          ]
        },
        {
          "output_type": "stream",
          "name": "stderr",
          "text": [
            ""
          ]
        },
        {
          "output_type": "stream",
          "name": "stdout",
          "text": [
            "Epoch\tTrainLoss\tTestLoss\n",
            "8\t0.003921\t0.014010\n"
          ]
        },
        {
          "output_type": "stream",
          "name": "stderr",
          "text": [
            ""
          ]
        },
        {
          "output_type": "stream",
          "name": "stdout",
          "text": [
            "Epoch\tTrainLoss\tTestLoss\n",
            "9\t0.004409\t0.011711\n"
          ]
        },
        {
          "output_type": "stream",
          "name": "stderr",
          "text": [
            ""
          ]
        },
        {
          "output_type": "stream",
          "name": "stdout",
          "text": [
            "Epoch\tTrainLoss\tTestLoss\n",
            "10\t0.004145\t0.013048\n"
          ]
        },
        {
          "output_type": "stream",
          "name": "stderr",
          "text": [
            ""
          ]
        },
        {
          "output_type": "stream",
          "name": "stdout",
          "text": [
            "Epoch\tTrainLoss\tTestLoss\n",
            "11\t0.004067\t0.012923\n"
          ]
        },
        {
          "output_type": "stream",
          "name": "stderr",
          "text": [
            ""
          ]
        },
        {
          "output_type": "stream",
          "name": "stdout",
          "text": [
            "Epoch\tTrainLoss\tTestLoss\n",
            "12\t0.003343\t0.009160\n"
          ]
        },
        {
          "output_type": "stream",
          "name": "stderr",
          "text": [
            ""
          ]
        },
        {
          "output_type": "stream",
          "name": "stdout",
          "text": [
            "Epoch\tTrainLoss\tTestLoss\n",
            "13\t0.004058\t0.010991\n"
          ]
        },
        {
          "output_type": "stream",
          "name": "stderr",
          "text": [
            ""
          ]
        },
        {
          "output_type": "stream",
          "name": "stdout",
          "text": [
            "Epoch\tTrainLoss\tTestLoss\n",
            "14\t0.003760\t0.012573\n"
          ]
        },
        {
          "output_type": "stream",
          "name": "stderr",
          "text": [
            ""
          ]
        },
        {
          "output_type": "stream",
          "name": "stdout",
          "text": [
            "Epoch\tTrainLoss\tTestLoss\n",
            "15\t0.003906\t0.014703\n"
          ]
        },
        {
          "output_type": "stream",
          "name": "stderr",
          "text": [
            ""
          ]
        },
        {
          "output_type": "stream",
          "name": "stdout",
          "text": [
            "Epoch\tTrainLoss\tTestLoss\n",
            "16\t0.004221\t0.012112\n"
          ]
        },
        {
          "output_type": "stream",
          "name": "stderr",
          "text": [
            ""
          ]
        },
        {
          "output_type": "stream",
          "name": "stdout",
          "text": [
            "Epoch\tTrainLoss\tTestLoss\n",
            "17\t0.004134\t0.012545\n"
          ]
        },
        {
          "output_type": "stream",
          "name": "stderr",
          "text": [
            ""
          ]
        },
        {
          "output_type": "stream",
          "name": "stdout",
          "text": [
            "Epoch\tTrainLoss\tTestLoss\n",
            "18\t0.004297\t0.010718\n"
          ]
        },
        {
          "output_type": "stream",
          "name": "stderr",
          "text": [
            "                                                  "
          ]
        },
        {
          "output_type": "stream",
          "name": "stdout",
          "text": [
            "Epoch\tTrainLoss\tTestLoss\n",
            "19\t0.003717\t0.017449\n"
          ]
        },
        {
          "output_type": "stream",
          "name": "stderr",
          "text": [
            "\r"
          ]
        }
      ]
    },
    {
      "cell_type": "code",
      "source": [
        "from matplotlib import offsetbox\n",
        "\n",
        "\n",
        "siamese_model.eval()\n",
        "\n",
        "inputs, embs, targets, labels = [], [], [], []\n",
        "for x, x2, t, label in tqdm(siamese_test_loader, total=len(siamese_test_loader)):\n",
        "# for x, x2, t in siamese_test_loader:\n",
        "  x = Variable(x.cuda())\n",
        "  o1 = siamese_model(x)\n",
        "  inputs.extend(list(x.cpu().data.numpy()))\n",
        "  embs.extend(list(o1.cpu().data.numpy()))\n",
        "  targets.extend(list(t.numpy()))\n",
        "  labels.extend(list(label.numpy()))"
      ],
      "metadata": {
        "colab": {
          "base_uri": "https://localhost:8080/"
        },
        "id": "_yFhQoHphSqU",
        "outputId": "c45fd630-1adc-4992-a13e-f3cc32a5887e"
      },
      "execution_count": 139,
      "outputs": [
        {
          "output_type": "stream",
          "name": "stderr",
          "text": [
            "100%|██████████| 313/313 [00:01<00:00, 157.46it/s]\n"
          ]
        }
      ]
    },
    {
      "cell_type": "code",
      "source": [
        "val_set.classes\n",
        "obj_categories = val_set.classes\n",
        "\n",
        "colors = plt.cm.rainbow(np.linspace(0, 1, len(obj_categories)))\n",
        "plt.figure(figsize=(10, 10))\n",
        "\n",
        "embs = np.array(embs)\n",
        "labels = np.array(labels)\n",
        "\n",
        "for c_group, (c_color, c_label) in enumerate(zip(colors, obj_categories)):\n",
        "  plt.scatter(embs[np.where(labels == c_group), 0].flatten()[:50],\n",
        "              embs[np.where(labels == c_group), 1].flatten()[:50],\n",
        "              marker='o',\n",
        "              color=c_color,\n",
        "              linewidth='1',\n",
        "              alpha=0.8,\n",
        "              label=c_label)\n",
        "\n",
        "plt.xlabel('Dimension 1')\n",
        "plt.ylabel('Dimension 2')\n",
        "plt.title('t-SNE on Testing Samples')\n",
        "plt.legend(loc='best')\n",
        "plt.savefig('clothes-dist.png')\n",
        "plt.show(block=False)"
      ],
      "metadata": {
        "colab": {
          "base_uri": "https://localhost:8080/",
          "height": 627
        },
        "id": "cd4nvow9OsZQ",
        "outputId": "d9a7e713-943b-41f4-8a42-91c3ca0419ce"
      },
      "execution_count": 146,
      "outputs": [
        {
          "output_type": "display_data",
          "data": {
            "text/plain": [
              "<Figure size 720x720 with 1 Axes>"
            ],
            "image/png": "[encoded data removed]"
          },
          "metadata": {}
        }
      ]
    },
    {
      "cell_type": "code",
      "source": [
        "n_plots = 500\n",
        "plt.figure(figsize=(8, 8))\n",
        "ax = plt.subplot(111)\n",
        "ax.set_title(\"FashionMNIST 2D embeddigs\")\n",
        "for x, e, t in zip(inputs[:n_plots], embs[:n_plots], targets[:n_plots]):\n",
        "  imagebox = offsetbox.AnnotationBbox(\n",
        "    offsetbox.OffsetImage(x.squeeze(0), zoom=0.5, cmap=plt.cm.gray_r),\n",
        "    xy=e, frameon=False)\n",
        "  ax.add_artist(imagebox)\n",
        "\n",
        "ax.set_xlim(embs[:, 0].min(), embs[:, 0].max())\n",
        "ax.set_ylim(embs[:, 1].min(), embs[:, 1].max())\n",
        "plt.tight_layout()\n",
        "plt.show()"
      ],
      "metadata": {
        "colab": {
          "base_uri": "https://localhost:8080/",
          "height": 581
        },
        "id": "sNWhvfRPLDYU",
        "outputId": "8e10a1f5-d2a1-4cad-ebde-18b3523d034f"
      },
      "execution_count": 145,
      "outputs": [
        {
          "output_type": "display_data",
          "data": {
            "text/plain": [
              "<Figure size 576x576 with 1 Axes>"
            ],
            "image/png": "[encoded data removed]"
          },
          "metadata": {}
        }
      ]
    },
    {
      "cell_type": "code",
      "source": [
        "# model = torch.hub.load('pytorch/vision:v0.10.0', 'densenet121') # we do not specify pretrained=True, i.e. do not load default weights\n",
        "\n",
        "# # Set all model parameters to not update\n",
        "# if feature_extract:\n",
        "#   for param in model.parameters():\n",
        "#     param.requires_grad = False\n",
        "\n",
        "# # Reinitialize layer’s parameters\n",
        "# in_features = model.classifier.in_features\n",
        "# model.classifier = nn.Linear(in_features, num_classes)\n",
        "\n",
        "# model.load_state_dict(torch.load(path_to_models + f'model_weights_epoch-{num_epochs}_batch_size-{batch_size}.pth'))\n",
        "# model.eval()"
      ],
      "metadata": {
        "id": "_FL2SJ6Pfsd1"
      },
      "execution_count": 20,
      "outputs": []
    }
  ]
}